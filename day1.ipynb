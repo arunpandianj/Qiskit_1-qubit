{
  "nbformat": 4,
  "nbformat_minor": 0,
  "metadata": {
    "colab": {
      "provenance": []
    },
    "kernelspec": {
      "name": "python3",
      "display_name": "Python 3"
    },
    "language_info": {
      "name": "python"
    }
  },
  "cells": [
    {
      "cell_type": "code",
      "execution_count": 3,
      "metadata": {
        "colab": {
          "base_uri": "https://localhost:8080/"
        },
        "id": "w4lrPMoM6ZVR",
        "outputId": "eeb5d9dd-e812-4640-fef9-00275ec931fc"
      },
      "outputs": [
        {
          "output_type": "stream",
          "name": "stdout",
          "text": [
            "Requirement already satisfied: qiskit in /usr/local/lib/python3.12/dist-packages (2.2.1)\n",
            "Requirement already satisfied: qiskit-aer in /usr/local/lib/python3.12/dist-packages (0.17.2)\n",
            "Requirement already satisfied: rustworkx>=0.15.0 in /usr/local/lib/python3.12/dist-packages (from qiskit) (0.17.1)\n",
            "Requirement already satisfied: numpy<3,>=1.17 in /usr/local/lib/python3.12/dist-packages (from qiskit) (2.0.2)\n",
            "Requirement already satisfied: scipy>=1.5 in /usr/local/lib/python3.12/dist-packages (from qiskit) (1.16.2)\n",
            "Requirement already satisfied: dill>=0.3 in /usr/local/lib/python3.12/dist-packages (from qiskit) (0.3.8)\n",
            "Requirement already satisfied: stevedore>=3.0.0 in /usr/local/lib/python3.12/dist-packages (from qiskit) (5.5.0)\n",
            "Requirement already satisfied: typing-extensions in /usr/local/lib/python3.12/dist-packages (from qiskit) (4.15.0)\n",
            "Requirement already satisfied: psutil>=5 in /usr/local/lib/python3.12/dist-packages (from qiskit-aer) (5.9.5)\n",
            "Requirement already satisfied: python-dateutil>=2.8.0 in /usr/local/lib/python3.12/dist-packages (from qiskit-aer) (2.9.0.post0)\n",
            "Requirement already satisfied: six>=1.5 in /usr/local/lib/python3.12/dist-packages (from python-dateutil>=2.8.0->qiskit-aer) (1.17.0)\n"
          ]
        }
      ],
      "source": [
        "!pip install qiskit qiskit-aer --upgrade\n",
        "from qiskit import QuantumCircuit\n",
        "from qiskit_aer import AerSimulator"
      ]
    },
    {
      "cell_type": "code",
      "source": [
        "def main():\n",
        "    qc = QuantumCircuit(1,1)\n",
        "    #applu hadmard gate to put qubit in superposition\n",
        "    qc.h(0)\n",
        "    qc.measure(0,0)\n",
        "    simulator = AerSimulator()\n",
        "    job = simulator.run(qc,shots=10)\n",
        "    result = job.result()\n",
        "    counts = result.get_counts()\n",
        "    print(counts)"
      ],
      "metadata": {
        "id": "cxkZZiQx7NI-"
      },
      "execution_count": 23,
      "outputs": []
    },
    {
      "cell_type": "code",
      "source": [],
      "metadata": {
        "id": "gs5XU1oO_Iux"
      },
      "execution_count": 23,
      "outputs": []
    },
    {
      "cell_type": "code",
      "source": [
        "if __name__ == \"__main__\":\n",
        "    main()\n",
        "    task1()\n",
        "    task2()\n",
        "    task3()"
      ],
      "metadata": {
        "colab": {
          "base_uri": "https://localhost:8080/"
        },
        "id": "y0st3OzW_a0u",
        "outputId": "ba6948d9-4bc2-4219-db13-e42df3f276a2"
      },
      "execution_count": 25,
      "outputs": [
        {
          "output_type": "stream",
          "name": "stdout",
          "text": [
            "{'1': 4, '0': 6}\n",
            "Task 1 Result (1 qubit, Hadamard, 100 shots): {'1': 48, '0': 52}\n",
            "Task 2 Result (2 qubits, Hadamard, 100 shots): {'01': 19, '11': 22, '00': 30, '10': 29}\n",
            "Task 3 Result (1 qubit, X gate, 100 shots): {'1': 100}\n"
          ]
        }
      ]
    },
    {
      "cell_type": "code",
      "source": [
        "\n",
        "\n",
        "def task1():\n",
        "    # Task 1: 1-qubit Hadamard with 100 shots\n",
        "    qc = QuantumCircuit(1, 1)\n",
        "    qc.h(0)\n",
        "    qc.measure(0, 0)\n",
        "\n",
        "    simulator = AerSimulator()\n",
        "    job = simulator.run(qc, shots=100)\n",
        "    result = job.result()\n",
        "\n",
        "    counts = result.get_counts(qc)\n",
        "    print(\"Task 1 Result (1 qubit, Hadamard, 100 shots):\", counts)\n",
        "\n",
        "\n",
        "def task2():\n",
        "    # Task 2: 2 qubits, Hadamard on both\n",
        "    qc = QuantumCircuit(2, 2)\n",
        "    qc.h(0)\n",
        "    qc.h(1)\n",
        "    qc.measure([0, 1], [0, 1])\n",
        "\n",
        "    simulator = AerSimulator()\n",
        "    job = simulator.run(qc, shots=100)\n",
        "    result = job.result()\n",
        "\n",
        "    counts = result.get_counts(qc)\n",
        "    print(\"Task 2 Result (2 qubits, Hadamard, 100 shots):\", counts)\n",
        "\n",
        "\n",
        "def task3():\n",
        "    # Task 3: 1 qubit, X gate\n",
        "    qc = QuantumCircuit(1, 1)\n",
        "    qc.x(0)\n",
        "    qc.measure(0, 0)\n",
        "\n",
        "    simulator = AerSimulator()\n",
        "    job = simulator.run(qc, shots=100)\n",
        "    result = job.result()\n",
        "\n",
        "    counts = result.get_counts(qc)\n",
        "    print(\"Task 3 Result (1 qubit, X gate, 100 shots):\", counts)\n",
        "\n",
        "\n"
      ],
      "metadata": {
        "id": "e4wvwczDBTOw"
      },
      "execution_count": 21,
      "outputs": []
    }
  ]
}