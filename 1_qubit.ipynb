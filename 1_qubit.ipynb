{
 "cells": [
  {
   "cell_type": "code",
   "execution_count": null,
   "metadata": {
    "id": "XLnNwi4n767M"
   },
   "outputs": [],
   "source": [
    "!pip install qiskit qiskit-aer --upgrade"
   ]
  },
  {
   "cell_type": "code",
   "execution_count": 1,
   "metadata": {
    "id": "QVSN-Kb77yL_"
   },
   "outputs": [],
   "source": [
    "from qiskit import QuantumCircuit\n",
    "from qiskit_aer import AerSimulator"
   ]
  },
  {
   "cell_type": "code",
   "execution_count": 2,
   "metadata": {
    "id": "Pku2cOIo7qdL"
   },
   "outputs": [],
   "source": [
    "def main():\n",
    "    # Create a 1-qubit, 1-classical-bit quantum circuit\n",
    "    qc = QuantumCircuit(1, 1)\n",
    "\n",
    "    # Apply Hadamard gate to put the qubit in superposition\n",
    "    qc.h(0)\n",
    "\n",
    "    # Measure the qubit\n",
    "    qc.measure(0, 0)\n",
    "\n",
    "    # Run on QASM simulator\n",
    "    simulator = AerSimulator()      # ✅ Create simulator instance\n",
    "    job = simulator.run(qc, shots=10)  # ✅ Use run() instead of execute()\n",
    "    result = job.result()\n",
    "\n",
    "    # Get measurement results\n",
    "    counts = result.get_counts(qc)\n",
    "    print(\"Quantum Circuit Result:\", counts)"
   ]
  },
  {
   "cell_type": "code",
   "execution_count": 3,
   "metadata": {
    "id": "CANVVbFR8pgu"
   },
   "outputs": [
    {
     "name": "stdout",
     "output_type": "stream",
     "text": [
      "Quantum Circuit Result: {'0': 7, '1': 3}\n"
     ]
    }
   ],
   "source": [
    "if __name__ == \"__main__\":\n",
    "    main()"
   ]
  },
  {
   "cell_type": "code",
   "execution_count": null,
   "metadata": {
    "id": "sIoRJNFD88Wq"
   },
   "outputs": [],
   "source": [
    "#Task_1"
   ]
  },
  {
   "cell_type": "code",
   "execution_count": 4,
   "metadata": {},
   "outputs": [
    {
     "name": "stdout",
     "output_type": "stream",
     "text": [
      "Quantum Circuit Result: {'1': 49, '0': 51}\n"
     ]
    }
   ],
   "source": [
    "# 1. Change the number of shots to 100 and observe the result.\n",
    "qc = QuantumCircuit(1, 1)\n",
    "\n",
    "qc.h(0)\n",
    "qc.measure(0, 0)\n",
    "\n",
    "simulator = AerSimulator()\n",
    "job = simulator.run(qc, shots=100)\n",
    "result = job.result()\n",
    "\n",
    "counts = result.get_counts(qc)\n",
    "print(\"Quantum Circuit Result:\", counts)"
   ]
  },
  {
   "cell_type": "code",
   "execution_count": 5,
   "metadata": {},
   "outputs": [
    {
     "name": "stdout",
     "output_type": "stream",
     "text": [
      "Quantum Circuit Result: {'00': 33, '01': 28, '11': 21, '10': 18}\n"
     ]
    }
   ],
   "source": [
    "# 2. Add a second qubit, apply Hadamard gates to both qubits, measure, and print the result.\n",
    "qc = QuantumCircuit(2, 2)\n",
    "\n",
    "qc.h(0)\n",
    "qc.h(1)\n",
    "\n",
    "qc.measure(0, 1)\n",
    "qc.measure(1, 0)\n",
    "\n",
    "simulator = AerSimulator()\n",
    "job = simulator.run(qc, shots=100)\n",
    "result = job.result()\n",
    "\n",
    "counts = result.get_counts(qc)\n",
    "print(\"Quantum Circuit Result:\", counts)"
   ]
  },
  {
   "cell_type": "code",
   "execution_count": 6,
   "metadata": {},
   "outputs": [
    {
     "name": "stdout",
     "output_type": "stream",
     "text": [
      "Quantum Circuit Result: {'1': 100}\n"
     ]
    }
   ],
   "source": [
    "# 3. Replace the Hadamard gate with an X gate and observe how the measurement changes.\n",
    "qc = QuantumCircuit(1, 1)\n",
    "\n",
    "qc.x(0)\n",
    "qc.measure(0, 0)\n",
    "\n",
    "simulator = AerSimulator()\n",
    "job = simulator.run(qc, shots=100)\n",
    "result = job.result()\n",
    "\n",
    "counts = result.get_counts(qc)\n",
    "print(\"Quantum Circuit Result:\", counts)"
   ]
  },
  {
   "cell_type": "code",
   "execution_count": null,
   "metadata": {},
   "outputs": [],
   "source": []
  }
 ],
 "metadata": {
  "colab": {
   "provenance": []
  },
  "kernelspec": {
   "display_name": "Python 3 (ipykernel)",
   "language": "python",
   "name": "python3"
  },
  "language_info": {
   "codemirror_mode": {
    "name": "ipython",
    "version": 3
   },
   "file_extension": ".py",
   "mimetype": "text/x-python",
   "name": "python",
   "nbconvert_exporter": "python",
   "pygments_lexer": "ipython3",
   "version": "3.13.3"
  }
 },
 "nbformat": 4,
 "nbformat_minor": 4
}
