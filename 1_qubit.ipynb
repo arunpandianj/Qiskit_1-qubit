{
 "cells": [
  {
   "cell_type": "code",
   "execution_count": 7,
   "metadata": {
    "id": "XLnNwi4n767M"
   },
   "outputs": [
    {
     "name": "stdout",
     "output_type": "stream",
     "text": [
      "Requirement already satisfied: qiskit in /home/codespace/.python/current/lib/python3.12/site-packages (2.2.1)\n",
      "Requirement already satisfied: qiskit-aer in /home/codespace/.python/current/lib/python3.12/site-packages (0.17.2)\n",
      "Requirement already satisfied: rustworkx>=0.15.0 in /home/codespace/.python/current/lib/python3.12/site-packages (from qiskit) (0.17.1)\n",
      "Requirement already satisfied: numpy<3,>=1.17 in /home/codespace/.local/lib/python3.12/site-packages (from qiskit) (2.3.1)\n",
      "Requirement already satisfied: scipy>=1.5 in /home/codespace/.local/lib/python3.12/site-packages (from qiskit) (1.16.0)\n",
      "Requirement already satisfied: dill>=0.3 in /home/codespace/.python/current/lib/python3.12/site-packages (from qiskit) (0.4.0)\n",
      "Requirement already satisfied: stevedore>=3.0.0 in /home/codespace/.python/current/lib/python3.12/site-packages (from qiskit) (5.5.0)\n",
      "Requirement already satisfied: typing-extensions in /home/codespace/.local/lib/python3.12/site-packages (from qiskit) (4.14.1)\n",
      "Requirement already satisfied: psutil>=5 in /home/codespace/.local/lib/python3.12/site-packages (from qiskit-aer) (7.0.0)\n",
      "Requirement already satisfied: python-dateutil>=2.8.0 in /home/codespace/.local/lib/python3.12/site-packages (from qiskit-aer) (2.9.0.post0)\n",
      "Requirement already satisfied: six>=1.5 in /home/codespace/.local/lib/python3.12/site-packages (from python-dateutil>=2.8.0->qiskit-aer) (1.17.0)\n",
      "\n",
      "\u001b[1m[\u001b[0m\u001b[34;49mnotice\u001b[0m\u001b[1;39;49m]\u001b[0m\u001b[39;49m A new release of pip is available: \u001b[0m\u001b[31;49m25.1.1\u001b[0m\u001b[39;49m -> \u001b[0m\u001b[32;49m25.2\u001b[0m\n",
      "\u001b[1m[\u001b[0m\u001b[34;49mnotice\u001b[0m\u001b[1;39;49m]\u001b[0m\u001b[39;49m To update, run: \u001b[0m\u001b[32;49mpip install --upgrade pip\u001b[0m\n",
      "Note: you may need to restart the kernel to use updated packages.\n"
     ]
    }
   ],
   "source": [
    "%pip install qiskit qiskit-aer --upgrade"
   ]
  },
  {
   "cell_type": "code",
   "execution_count": 3,
   "metadata": {
    "id": "QVSN-Kb77yL_"
   },
   "outputs": [],
   "source": [
    "from qiskit import QuantumCircuit\n",
    "from qiskit_aer import AerSimulator"
   ]
  },
  {
   "cell_type": "code",
   "execution_count": 4,
   "metadata": {
    "id": "Pku2cOIo7qdL"
   },
   "outputs": [],
   "source": [
    "def main():\n",
    "    # Create a 1-qubit, 1-classical-bit quantum circuit\n",
    "    qc = QuantumCircuit(1, 1)\n",
    "\n",
    "    # Apply Hadamard gate to put the qubit in superposition\n",
    "    qc.h(0)\n",
    "\n",
    "    # Measure the qubit\n",
    "    qc.measure(0, 0)\n",
    "\n",
    "    # Run on QASM simulator\n",
    "    simulator = AerSimulator()      # ✅ Create simulator instance\n",
    "    job = simulator.run(qc, shots=10)  # ✅ Use run() instead of execute()\n",
    "    result = job.result()\n",
    "\n",
    "    # Get measurement results\n",
    "    counts = result.get_counts(qc)\n",
    "    print(\"Quantum Circuit Result:\", counts)"
   ]
  },
  {
   "cell_type": "code",
   "execution_count": 13,
   "metadata": {
    "id": "CANVVbFR8pgu"
   },
   "outputs": [
    {
     "name": "stdout",
     "output_type": "stream",
     "text": [
      "Quantum Circuit Result: {'1': 3, '0': 7}\n"
     ]
    }
   ],
   "source": [
    "if __name__ == \"__main__\":\n",
    "    main()"
   ]
  },
  {
   "cell_type": "code",
   "execution_count": 6,
   "metadata": {
    "id": "sIoRJNFD88Wq"
   },
   "outputs": [],
   "source": [
    "#Task_1"
   ]
  },
  {
   "cell_type": "code",
   "execution_count": 16,
   "metadata": {},
   "outputs": [
    {
     "name": "stdout",
     "output_type": "stream",
     "text": [
      "Task 1 Result (shots=100): {'0': 49, '1': 51}\n",
      "Task 2 Result (Hadamard, shots=100): {'01': 23, '11': 21, '10': 20, '00': 36}\n",
      "Task 3 Result (X gate, shots=100): {'11': 100}\n"
     ]
    }
   ],
   "source": [
    "# Task 1: Change shots to 100 and observe result\n",
    "qc = QuantumCircuit(1, 1)\n",
    "qc.h(0)\n",
    "qc.measure(0, 0)\n",
    "simulator = AerSimulator()\n",
    "job = simulator.run(qc, shots=100)\n",
    "result = job.result()\n",
    "counts = result.get_counts(qc)\n",
    "print(\"Task 1 Result (shots=100):\", counts)\n",
    "\n",
    "# Task 2: Add second qubit, Hadamard on both, measure both\n",
    "qc2 = QuantumCircuit(2, 2)\n",
    "qc2.h(0)\n",
    "qc2.h(1)\n",
    "qc2.measure([0, 1], [0, 1])\n",
    "simulator = AerSimulator()\n",
    "job = simulator.run(qc2, shots=100)\n",
    "result = job.result()\n",
    "counts = result.get_counts(qc2)\n",
    "print(\"Task 2 Result (Hadamard, shots=100):\", counts)\n",
    "\n",
    "# Task 3: Replace Hadamard with X gate, measure both\n",
    "qc3 = QuantumCircuit(2, 2)\n",
    "qc3.x(0)\n",
    "qc3.x(1)\n",
    "qc3.measure([0, 1], [0, 1])\n",
    "simulator = AerSimulator()\n",
    "job = simulator.run(qc3, shots=100)\n",
    "result = job.result()\n",
    "counts = result.get_counts(qc3)\n",
    "print(\"Task 3 Result (X gate, shots=100):\", counts)"
   ]
  }
 ],
 "metadata": {
  "colab": {
   "provenance": []
  },
  "kernelspec": {
   "display_name": "Python 3",
   "name": "python3"
  },
  "language_info": {
   "codemirror_mode": {
    "name": "ipython",
    "version": 3
   },
   "file_extension": ".py",
   "mimetype": "text/x-python",
   "name": "python",
   "nbconvert_exporter": "python",
   "pygments_lexer": "ipython3",
   "version": "3.12.1"
  }
 },
 "nbformat": 4,
 "nbformat_minor": 0
}
