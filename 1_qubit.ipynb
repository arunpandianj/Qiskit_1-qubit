{
  "nbformat": 4,
  "nbformat_minor": 0,
  "metadata": {
    "colab": {
      "provenance": []
    },
    "kernelspec": {
      "name": "python3",
      "display_name": "Python 3"
    },
    "language_info": {
      "name": "python"
    }
  },
  "cells": [
    {
      "cell_type": "code",
      "source": [
        "!pip install qiskit qiskit-aer --upgrade"
      ],
      "metadata": {
        "id": "XLnNwi4n767M"
      },
      "execution_count": null,
      "outputs": []
    },
    {
      "cell_type": "code",
      "source": [
        "from qiskit import QuantumCircuit\n",
        "from qiskit_aer import AerSimulator"
      ],
      "metadata": {
        "id": "QVSN-Kb77yL_"
      },
      "execution_count": null,
      "outputs": []
    },
    {
      "cell_type": "code",
      "execution_count": null,
      "metadata": {
        "id": "Pku2cOIo7qdL"
      },
      "outputs": [],
      "source": [
        "def main():\n",
        "    # Create a 1-qubit, 1-classical-bit quantum circuit\n",
        "    qc = QuantumCircuit(1, 1)\n",
        "\n",
        "    # Apply Hadamard gate to put the qubit in superposition\n",
        "    qc.h(0)\n",
        "\n",
        "    # Measure the qubit\n",
        "    qc.measure(0, 0)\n",
        "\n",
        "    # Run on QASM simulator\n",
        "    simulator = AerSimulator()      # ✅ Create simulator instance\n",
        "    job = simulator.run(qc, shots=10)  # ✅ Use run() instead of execute()\n",
        "    result = job.result()\n",
        "\n",
        "    # Get measurement results\n",
        "    counts = result.get_counts(qc)\n",
        "    print(\"Quantum Circuit Result:\", counts)"
      ]
    },
    {
      "cell_type": "code",
      "source": [
        "def task1():\n",
        "    # Task 1: 1-qubit Hadamard with 100 shots\n",
        "    qc = QuantumCircuit(1, 1)\n",
        "    qc.h(0)\n",
        "    qc.measure(0, 0)\n",
        "\n",
        "    simulator = AerSimulator()\n",
        "    job = simulator.run(qc, shots=100)\n",
        "    result = job.result()\n",
        "\n",
        "    counts = result.get_counts(qc)\n",
        "    print(\"Task 1 Result (1 qubit, Hadamard, 100 shots):\", counts)\n",
        "\n",
        "\n",
        "def task2():\n",
        "    # Task 2: 2 qubits, Hadamard on both\n",
        "    qc = QuantumCircuit(2, 2)\n",
        "    qc.h(0)\n",
        "    qc.h(1)\n",
        "    qc.measure([0, 1], [0, 1])\n",
        "\n",
        "    simulator = AerSimulator()\n",
        "    job = simulator.run(qc, shots=100)\n",
        "    result = job.result()\n",
        "\n",
        "    counts = result.get_counts(qc)\n",
        "    print(\"Task 2 Result (2 qubits, Hadamard, 100 shots):\", counts)\n",
        "\n",
        "\n",
        "def task3():\n",
        "    # Task 3: 1 qubit, X gate\n",
        "    qc = QuantumCircuit(1, 1)\n",
        "    qc.x(0)\n",
        "    qc.measure(0, 0)\n",
        "\n",
        "    simulator = AerSimulator()\n",
        "    job = simulator.run(qc, shots=100)\n",
        "    result = job.result()\n",
        "\n",
        "    counts = result.get_counts(qc)\n",
        "    print(\"Task 3 Result (1 qubit, X gate, 100 shots):\", counts)\n"
      ],
      "metadata": {
        "id": "CANVVbFR8pgu"
      },
      "execution_count": null,
      "outputs": []
    },
    {
      "cell_type": "code",
      "source": [
        "#Task_1"
      ],
      "metadata": {
        "id": "sIoRJNFD88Wq"
      },
      "execution_count": null,
      "outputs": []
    }
  ]
}