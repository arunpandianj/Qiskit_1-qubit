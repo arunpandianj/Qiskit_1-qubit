{
 "cells": [
  {
   "cell_type": "code",
   "execution_count": 3,
   "id": "71a9503b-67dd-4591-a680-dab9c6c1313a",
   "metadata": {},
   "outputs": [
    {
     "name": "stdout",
     "output_type": "stream",
     "text": [
      "Requirement already satisfied: pip in c:\\users\\srija\\mp_env\\lib\\site-packages (25.2)\n",
      "Note: you may need to restart the kernel to use updated packages.\n"
     ]
    }
   ],
   "source": [
    "pip install -U pip"
   ]
  },
  {
   "cell_type": "code",
   "execution_count": 4,
   "id": "5a0802d6-9e77-4044-a782-fdbcb2879ecf",
   "metadata": {},
   "outputs": [
    {
     "name": "stdout",
     "output_type": "stream",
     "text": [
      "Requirement already satisfied: qiskit in c:\\users\\srija\\mp_env\\lib\\site-packages (2.2.1)\n",
      "Requirement already satisfied: qiskit-aer in c:\\users\\srija\\mp_env\\lib\\site-packages (0.17.2)\n",
      "Requirement already satisfied: rustworkx>=0.15.0 in c:\\users\\srija\\mp_env\\lib\\site-packages (from qiskit) (0.17.1)\n",
      "Requirement already satisfied: numpy<3,>=1.17 in c:\\users\\srija\\mp_env\\lib\\site-packages (from qiskit) (1.26.4)\n",
      "Requirement already satisfied: scipy>=1.5 in c:\\users\\srija\\mp_env\\lib\\site-packages (from qiskit) (1.15.3)\n",
      "Requirement already satisfied: dill>=0.3 in c:\\users\\srija\\mp_env\\lib\\site-packages (from qiskit) (0.4.0)\n",
      "Requirement already satisfied: stevedore>=3.0.0 in c:\\users\\srija\\mp_env\\lib\\site-packages (from qiskit) (5.5.0)\n",
      "Requirement already satisfied: typing-extensions in c:\\users\\srija\\mp_env\\lib\\site-packages (from qiskit) (4.15.0)\n",
      "Requirement already satisfied: psutil>=5 in c:\\users\\srija\\mp_env\\lib\\site-packages (from qiskit-aer) (7.0.0)\n",
      "Requirement already satisfied: python-dateutil>=2.8.0 in c:\\users\\srija\\mp_env\\lib\\site-packages (from qiskit-aer) (2.9.0.post0)\n",
      "Requirement already satisfied: six>=1.5 in c:\\users\\srija\\mp_env\\lib\\site-packages (from python-dateutil>=2.8.0->qiskit-aer) (1.17.0)\n",
      "Note: you may need to restart the kernel to use updated packages.\n"
     ]
    }
   ],
   "source": [
    "pip install -U qiskit qiskit-aer"
   ]
  },
  {
   "cell_type": "code",
   "execution_count": 5,
   "id": "df0566da-39f2-4dd2-9e4b-bebd47ef6f39",
   "metadata": {},
   "outputs": [],
   "source": [
    "from qiskit import QuantumCircuit\n",
    "from qiskit_aer import AerSimulator"
   ]
  },
  {
   "cell_type": "code",
   "execution_count": 6,
   "id": "dddf676b-2362-445d-9fcf-b5f1591cdfd4",
   "metadata": {},
   "outputs": [
    {
     "name": "stdout",
     "output_type": "stream",
     "text": [
      "Task 1 - Single Qubit with Hadamard (100 shots): {'0': 49, '1': 51}\n",
      "Task 2 - Two Qubits with Hadamard (100 shots): {'10': 25, '00': 21, '01': 26, '11': 28}\n",
      "Task 3 - Two Qubits with X gates (100 shots): {'11': 100}\n"
     ]
    }
   ],
   "source": [
    "from qiskit import QuantumCircuit\n",
    "from qiskit_aer import AerSimulator\n",
    "def main():\n",
    "    simulator = AerSimulator()\n",
    "    # Task 1\n",
    "    qc1 = QuantumCircuit(1, 1)\n",
    "    qc1.h(0)\n",
    "    qc1.measure(0, 0)\n",
    "    job1 = simulator.run(qc1, shots=100)\n",
    "    result1 = job1.result()\n",
    "    counts1 = result1.get_counts(qc1)\n",
    "    print(\"Task 1 - Single Qubit with Hadamard (100 shots):\", counts1)\n",
    "    # Task 2\n",
    "    qc2 = QuantumCircuit(2, 2)\n",
    "    qc2.h(0)\n",
    "    qc2.h(1)\n",
    "    qc2.measure([0, 1], [0, 1])\n",
    "    job2 = simulator.run(qc2, shots=100)\n",
    "    result2 = job2.result()\n",
    "    counts2 = result2.get_counts(qc2)\n",
    "    print(\"Task 2 - Two Qubits with Hadamard (100 shots):\", counts2)\n",
    "    # Task 3\n",
    "    qc3 = QuantumCircuit(2, 2)\n",
    "    qc3.x(0)\n",
    "    qc3.x(1)\n",
    "    qc3.measure([0, 1], [0, 1])\n",
    "    job3 = simulator.run(qc3, shots=100)\n",
    "    result3 = job3.result()\n",
    "    counts3 = result3.get_counts(qc3)\n",
    "    print(\"Task 3 - Two Qubits with X gates (100 shots):\", counts3)\n",
    "if __name__ == \"__main__\":\n",
    "    main()\n"
   ]
  },
  {
   "cell_type": "code",
   "execution_count": null,
   "id": "c2d56ef7-7a1e-4997-afa3-0aa0d4e641f8",
   "metadata": {},
   "outputs": [],
   "source": []
  }
 ],
 "metadata": {
  "kernelspec": {
   "display_name": "Python (mp_env)",
   "language": "python",
   "name": "mp_env"
  },
  "language_info": {
   "codemirror_mode": {
    "name": "ipython",
    "version": 3
   },
   "file_extension": ".py",
   "mimetype": "text/x-python",
   "name": "python",
   "nbconvert_exporter": "python",
   "pygments_lexer": "ipython3",
   "version": "3.10.11"
  }
 },
 "nbformat": 4,
 "nbformat_minor": 5
}
