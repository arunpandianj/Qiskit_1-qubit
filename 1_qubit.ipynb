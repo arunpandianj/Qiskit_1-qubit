{
  "nbformat": 4,
  "nbformat_minor": 0,
  "metadata": {
    "colab": {
      "provenance": []
    },
    "kernelspec": {
      "name": "python3",
      "display_name": "Python 3"
    },
    "language_info": {
      "name": "python"
    }
  },
  "cells": [
    {
      "cell_type": "code",
      "source": [
        "!pip install qiskit qiskit-aer --upgrade"
      ],
      "metadata": {
        "id": "XLnNwi4n767M",
        "outputId": "79b0024f-e8c8-4742-daf9-c223a91a79bc",
        "colab": {
          "base_uri": "https://localhost:8080/"
        }
      },
      "execution_count": 6,
      "outputs": [
        {
          "output_type": "stream",
          "name": "stdout",
          "text": [
            "Requirement already satisfied: qiskit in /usr/local/lib/python3.12/dist-packages (2.2.1)\n",
            "Requirement already satisfied: qiskit-aer in /usr/local/lib/python3.12/dist-packages (0.17.2)\n",
            "Requirement already satisfied: rustworkx>=0.15.0 in /usr/local/lib/python3.12/dist-packages (from qiskit) (0.17.1)\n",
            "Requirement already satisfied: numpy<3,>=1.17 in /usr/local/lib/python3.12/dist-packages (from qiskit) (2.0.2)\n",
            "Requirement already satisfied: scipy>=1.5 in /usr/local/lib/python3.12/dist-packages (from qiskit) (1.16.2)\n",
            "Requirement already satisfied: dill>=0.3 in /usr/local/lib/python3.12/dist-packages (from qiskit) (0.3.8)\n",
            "Requirement already satisfied: stevedore>=3.0.0 in /usr/local/lib/python3.12/dist-packages (from qiskit) (5.5.0)\n",
            "Requirement already satisfied: typing-extensions in /usr/local/lib/python3.12/dist-packages (from qiskit) (4.15.0)\n",
            "Requirement already satisfied: psutil>=5 in /usr/local/lib/python3.12/dist-packages (from qiskit-aer) (5.9.5)\n",
            "Requirement already satisfied: python-dateutil>=2.8.0 in /usr/local/lib/python3.12/dist-packages (from qiskit-aer) (2.9.0.post0)\n",
            "Requirement already satisfied: six>=1.5 in /usr/local/lib/python3.12/dist-packages (from python-dateutil>=2.8.0->qiskit-aer) (1.17.0)\n"
          ]
        }
      ]
    },
    {
      "cell_type": "code",
      "source": [
        "from qiskit import QuantumCircuit\n",
        "from qiskit_aer import AerSimulator"
      ],
      "metadata": {
        "id": "QVSN-Kb77yL_"
      },
      "execution_count": 7,
      "outputs": []
    },
    {
      "cell_type": "code",
      "source": [
        "#Task_1,2,3"
      ],
      "metadata": {
        "id": "sIoRJNFD88Wq"
      },
      "execution_count": null,
      "outputs": []
    },
    {
      "cell_type": "code",
      "source": [
        "def main():\n",
        "    simulator = AerSimulator()\n",
        "\n",
        "    # ------------------------------\n",
        "    # 1. Single qubit, 100 shots, Hadamard\n",
        "    # ------------------------------\n",
        "    qc1 = QuantumCircuit(1, 1)\n",
        "    qc1.h(0)\n",
        "    qc1.measure(0, 0)\n",
        "    job1 = simulator.run(qc1, shots=100)\n",
        "    result1 = job1.result()\n",
        "    counts1 = result1.get_counts(qc1)\n",
        "    print(\"1 Qubit (H gate), 100 shots:\", counts1)\n",
        "\n",
        "    # ------------------------------\n",
        "    # 2. Two qubits, Hadamard on both\n",
        "    # ------------------------------\n",
        "    qc2 = QuantumCircuit(2, 2)\n",
        "    qc2.h(0)\n",
        "    qc2.h(1)\n",
        "    qc2.measure([0, 1], [0, 1])  # measure both\n",
        "    job2 = simulator.run(qc2, shots=100)\n",
        "    result2 = job2.result()\n",
        "    counts2 = result2.get_counts(qc2)\n",
        "    print(\"2 Qubits (H gates), 100 shots:\", counts2)\n",
        "\n",
        "    # ------------------------------\n",
        "    # 3. Single qubit, X gate\n",
        "    # ------------------------------\n",
        "    qc3 = QuantumCircuit(1, 1)\n",
        "    qc3.x(0)  # flips |0> to |1>\n",
        "    qc3.measure(0, 0)\n",
        "    job3 = simulator.run(qc3, shots=100)\n",
        "    result3 = job3.result()\n",
        "    counts3 = result3.get_counts(qc3)\n",
        "    print(\"1 Qubit (X gate), 100 shots:\", counts3)\n",
        "\n",
        "\n"
      ],
      "metadata": {
        "id": "BsFuBr3pj7Qt"
      },
      "execution_count": 11,
      "outputs": []
    },
    {
      "cell_type": "code",
      "source": [
        "if __name__ == \"__main__\":\n",
        "    main()"
      ],
      "metadata": {
        "id": "vX5N3cBBkj8y",
        "outputId": "8172dcc9-60bf-4f91-af05-e73301fa9629",
        "colab": {
          "base_uri": "https://localhost:8080/"
        }
      },
      "execution_count": 12,
      "outputs": [
        {
          "output_type": "stream",
          "name": "stdout",
          "text": [
            "1 Qubit (H gate), 100 shots: {'1': 42, '0': 58}\n",
            "2 Qubits (H gates), 100 shots: {'11': 21, '01': 24, '10': 21, '00': 34}\n",
            "1 Qubit (X gate), 100 shots: {'1': 100}\n"
          ]
        }
      ]
    }
  ]
}