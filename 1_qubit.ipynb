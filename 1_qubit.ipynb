{
  "cells": [
    {
      "cell_type": "code",
      "execution_count": 15,
      "metadata": {
        "id": "XLnNwi4n767M"
      },
      "outputs": [
        {
          "name": "stdout",
          "output_type": "stream",
          "text": [
            "Requirement already satisfied: qiskit in /Library/Frameworks/Python.framework/Versions/3.12/lib/python3.12/site-packages (2.2.1)\n",
            "Requirement already satisfied: qiskit-aer in /Library/Frameworks/Python.framework/Versions/3.12/lib/python3.12/site-packages (0.17.2)\n",
            "Requirement already satisfied: rustworkx>=0.15.0 in /Library/Frameworks/Python.framework/Versions/3.12/lib/python3.12/site-packages (from qiskit) (0.17.1)\n",
            "Requirement already satisfied: numpy<3,>=1.17 in /Library/Frameworks/Python.framework/Versions/3.12/lib/python3.12/site-packages (from qiskit) (1.26.4)\n",
            "Requirement already satisfied: scipy>=1.5 in /Library/Frameworks/Python.framework/Versions/3.12/lib/python3.12/site-packages (from qiskit) (1.16.2)\n",
            "Requirement already satisfied: dill>=0.3 in /Library/Frameworks/Python.framework/Versions/3.12/lib/python3.12/site-packages (from qiskit) (0.4.0)\n",
            "Requirement already satisfied: stevedore>=3.0.0 in /Library/Frameworks/Python.framework/Versions/3.12/lib/python3.12/site-packages (from qiskit) (5.5.0)\n",
            "Requirement already satisfied: typing-extensions in /Library/Frameworks/Python.framework/Versions/3.12/lib/python3.12/site-packages (from qiskit) (4.15.0)\n",
            "Requirement already satisfied: psutil>=5 in /Users/tilakjangam/Library/Python/3.12/lib/python/site-packages (from qiskit-aer) (6.0.0)\n",
            "Requirement already satisfied: python-dateutil>=2.8.0 in /Library/Frameworks/Python.framework/Versions/3.12/lib/python3.12/site-packages (from qiskit-aer) (2.9.0.post0)\n",
            "Requirement already satisfied: six>=1.5 in /Library/Frameworks/Python.framework/Versions/3.12/lib/python3.12/site-packages (from python-dateutil>=2.8.0->qiskit-aer) (1.16.0)\n"
          ]
        }
      ],
      "source": [
        "!pip install qiskit qiskit-aer --upgrade"
      ]
    },
    {
      "cell_type": "code",
      "execution_count": 16,
      "metadata": {
        "id": "QVSN-Kb77yL_"
      },
      "outputs": [],
      "source": [
        "from qiskit import QuantumCircuit\n",
        "from qiskit_aer import AerSimulator"
      ]
    },
    {
      "cell_type": "code",
      "execution_count": 17,
      "metadata": {
        "id": "Pku2cOIo7qdL"
      },
      "outputs": [],
      "source": [
        "def main():\n",
        "    # Create a 1-qubit, 1-classical-bit quantum circuit\n",
        "    qc = QuantumCircuit(1, 1)\n",
        "\n",
        "    # Apply Hadamard gate to put the qubit in superposition\n",
        "    qc.h(0)\n",
        "\n",
        "    # Measure the qubit\n",
        "    qc.measure(0, 0)\n",
        "\n",
        "    # Run on QASM simulator\n",
        "    simulator = AerSimulator()      # ✅ Create simulator instance\n",
        "    job = simulator.run(qc, shots=100)  # ✅ Use run() instead of execute()\n",
        "    result = job.result()\n",
        "\n",
        "    # Get measurement results\n",
        "    counts = result.get_counts(qc)\n",
        "    print(\"Quantum Circuit Result:\", counts)"
      ]
    },
    {
      "cell_type": "code",
      "execution_count": 18,
      "metadata": {},
      "outputs": [
        {
          "name": "stdout",
          "output_type": "stream",
          "text": [
            "Quantum Circuit Result: {'1': 49, '0': 51}\n"
          ]
        }
      ],
      "source": [
        "if __name__ == \"__main__\":\n",
        "    main()"
      ]
    },
    {
      "cell_type": "code",
      "execution_count": 19,
      "metadata": {},
      "outputs": [],
      "source": [
        "def main():\n",
        "    # Create a 2-qubit, 2-classical-bit quantum circuit\n",
        "    qc = QuantumCircuit(2, 2)\n",
        "\n",
        "    # Apply Hadamard gate to both qubits to create superposition\n",
        "    qc.h(0)\n",
        "    qc.h(1)\n",
        "\n",
        "    # Measure both qubits\n",
        "    qc.measure([0, 1], [0, 1])\n",
        "\n",
        "    # Run on QASM simulator\n",
        "    simulator = AerSimulator()       # ✅ Create simulator instance\n",
        "    job = simulator.run(qc, shots=100) # ✅ Use run() instead of execute()\n",
        "    result = job.result()\n",
        "\n",
        "    # Get measurement results\n",
        "    counts = result.get_counts(qc)\n",
        "    print(\"Quantum Circuit Result:\", counts)"
      ]
    },
    {
      "cell_type": "code",
      "execution_count": 20,
      "metadata": {},
      "outputs": [
        {
          "name": "stdout",
          "output_type": "stream",
          "text": [
            "Quantum Circuit Result: {'11': 22, '10': 25, '00': 22, '01': 31}\n"
          ]
        }
      ],
      "source": [
        "if __name__ == \"__main__\":\n",
        "    main()"
      ]
    },
    {
      "cell_type": "code",
      "execution_count": 21,
      "metadata": {},
      "outputs": [
        {
          "name": "stdout",
          "output_type": "stream",
          "text": [
            "Results with X gates (100 shots): {'11': 100}\n"
          ]
        }
      ],
      "source": [
        "# Create a 2-qubit, 2-classical-bit quantum circuit\n",
        "qc = QuantumCircuit(2, 2)\n",
        "\n",
        "# Apply X gates to both qubits\n",
        "qc.x(0)\n",
        "qc.x(1)\n",
        "\n",
        "# Measure both qubits\n",
        "qc.measure([0, 1], [0, 1])\n",
        "\n",
        "# Run on simulator with 100 shots\n",
        "simulator = AerSimulator()\n",
        "job = simulator.run(qc, shots=100)\n",
        "result = job.result()\n",
        "\n",
        "# Get and print measurement results\n",
        "counts = result.get_counts(qc)\n",
        "print(\"Results with X gates (100 shots):\", counts)"
      ]
    },
    {
      "cell_type": "code",
      "execution_count": 22,
      "metadata": {
        "id": "CANVVbFR8pgu"
      },
      "outputs": [
        {
          "name": "stdout",
          "output_type": "stream",
          "text": [
            "Quantum Circuit Result: {'10': 22, '00': 26, '11': 26, '01': 26}\n"
          ]
        }
      ],
      "source": [
        "if __name__ == \"__main__\":\n",
        "    main()"
      ]
    }
  ],
  "metadata": {
    "colab": {
      "provenance": []
    },
    "kernelspec": {
      "display_name": "Python 3",
      "name": "python3"
    },
    "language_info": {
      "codemirror_mode": {
        "name": "ipython",
        "version": 3
      },
      "file_extension": ".py",
      "mimetype": "text/x-python",
      "name": "python",
      "nbconvert_exporter": "python",
      "pygments_lexer": "ipython3",
      "version": "3.12.3"
    }
  },
  "nbformat": 4,
  "nbformat_minor": 0
}
