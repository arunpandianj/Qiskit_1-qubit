{
  "nbformat": 4,
  "nbformat_minor": 0,
  "metadata": {
    "colab": {
      "provenance": []
    },
    "kernelspec": {
      "name": "python3",
      "display_name": "Python 3"
    },
    "language_info": {
      "name": "python"
    }
  },
  "cells": [
    {
      "cell_type": "code",
      "execution_count": 6,
      "metadata": {
        "id": "Pku2cOIo7qdL",
        "colab": {
          "base_uri": "https://localhost:8080/"
        },
        "outputId": "9a31f6aa-5540-4681-c771-386e4876829c"
      },
      "outputs": [
        {
          "output_type": "stream",
          "name": "stdout",
          "text": [
            "Task 1: Quantum Circuit Result with Hadamard gates -> {'00': 21, '10': 27, '01': 25, '11': 27}\n",
            "Task 2: Quantum Circuit Result with X gates -> {'11': 100}\n"
          ]
        }
      ],
      "source": [
        "# Install Qiskit in Colab if not already installed\n",
        "!pip install qiskit qiskit-aer --quiet\n",
        "\n",
        "from qiskit import QuantumCircuit\n",
        "from qiskit_aer import AerSimulator\n",
        "\n",
        "# Initialize simulator (common for all tasks)\n",
        "simulator = AerSimulator()\n",
        "\n",
        "# ------------------ Task 1: 2-qubit circuit with Hadamard gates ------------------\n",
        "qc1 = QuantumCircuit(2, 2)\n",
        "qc1.h(0)\n",
        "qc1.h(1)\n",
        "qc1.measure([0, 1], [0, 1])\n",
        "\n",
        "job1 = simulator.run(qc1, shots=100)  # Task 3: use 100 shots\n",
        "result1 = job1.result()\n",
        "counts1 = result1.get_counts(qc1)\n",
        "print(\"Task 1: Quantum Circuit Result with Hadamard gates ->\", counts1)\n",
        "\n",
        "\n",
        "# ------------------ Task 2: Replace Hadamards with X gates ------------------\n",
        "qc2 = QuantumCircuit(2, 2)\n",
        "qc2.x(0)\n",
        "qc2.x(1)\n",
        "qc2.measure([0, 1], [0, 1])\n",
        "\n",
        "job2 = simulator.run(qc2, shots=100)  # Task 3: use 100 shots\n",
        "result2 = job2.result()\n",
        "counts2 = result2.get_counts(qc2)\n",
        "print(\"Task 2: Quantum Circuit Result with X gates ->\", counts2)\n"
      ]
    }
  ]
}