{
  "nbformat": 4,
  "nbformat_minor": 0,
  "metadata": {
    "colab": {
      "provenance": []
    },
    "kernelspec": {
      "name": "python3",
      "display_name": "Python 3"
    },
    "language_info": {
      "name": "python"
    }
  },
  "cells": [
    {
      "cell_type": "code",
      "execution_count": 1,
      "metadata": {
        "colab": {
          "base_uri": "https://localhost:8080/"
        },
        "id": "t2lGFWPIxf39",
        "outputId": "13f6999a-966c-4da2-c905-ae924a8bf232"
      },
      "outputs": [
        {
          "output_type": "stream",
          "name": "stdout",
          "text": [
            "Collecting qiskit\n",
            "  Downloading qiskit-2.2.1-cp39-abi3-manylinux2014_x86_64.manylinux_2_17_x86_64.whl.metadata (12 kB)\n",
            "Collecting qiskit-aer\n",
            "  Downloading qiskit_aer-0.17.2-cp312-cp312-manylinux_2_17_x86_64.manylinux2014_x86_64.whl.metadata (8.3 kB)\n",
            "Collecting rustworkx>=0.15.0 (from qiskit)\n",
            "  Downloading rustworkx-0.17.1-cp39-abi3-manylinux_2_17_x86_64.manylinux2014_x86_64.whl.metadata (10 kB)\n",
            "Requirement already satisfied: numpy<3,>=1.17 in /usr/local/lib/python3.12/dist-packages (from qiskit) (2.0.2)\n",
            "Requirement already satisfied: scipy>=1.5 in /usr/local/lib/python3.12/dist-packages (from qiskit) (1.16.2)\n",
            "Requirement already satisfied: dill>=0.3 in /usr/local/lib/python3.12/dist-packages (from qiskit) (0.3.8)\n",
            "Collecting stevedore>=3.0.0 (from qiskit)\n",
            "  Downloading stevedore-5.5.0-py3-none-any.whl.metadata (2.2 kB)\n",
            "Requirement already satisfied: typing-extensions in /usr/local/lib/python3.12/dist-packages (from qiskit) (4.15.0)\n",
            "Requirement already satisfied: psutil>=5 in /usr/local/lib/python3.12/dist-packages (from qiskit-aer) (5.9.5)\n",
            "Requirement already satisfied: python-dateutil>=2.8.0 in /usr/local/lib/python3.12/dist-packages (from qiskit-aer) (2.9.0.post0)\n",
            "Requirement already satisfied: six>=1.5 in /usr/local/lib/python3.12/dist-packages (from python-dateutil>=2.8.0->qiskit-aer) (1.17.0)\n",
            "Downloading qiskit-2.2.1-cp39-abi3-manylinux2014_x86_64.manylinux_2_17_x86_64.whl (8.0 MB)\n",
            "\u001b[2K   \u001b[90m━━━━━━━━━━━━━━━━━━━━━━━━━━━━━━━━━━━━━━━━\u001b[0m \u001b[32m8.0/8.0 MB\u001b[0m \u001b[31m81.3 MB/s\u001b[0m eta \u001b[36m0:00:00\u001b[0m\n",
            "\u001b[?25hDownloading qiskit_aer-0.17.2-cp312-cp312-manylinux_2_17_x86_64.manylinux2014_x86_64.whl (12.4 MB)\n",
            "\u001b[2K   \u001b[90m━━━━━━━━━━━━━━━━━━━━━━━━━━━━━━━━━━━━━━━━\u001b[0m \u001b[32m12.4/12.4 MB\u001b[0m \u001b[31m76.4 MB/s\u001b[0m eta \u001b[36m0:00:00\u001b[0m\n",
            "\u001b[?25hDownloading rustworkx-0.17.1-cp39-abi3-manylinux_2_17_x86_64.manylinux2014_x86_64.whl (2.2 MB)\n",
            "\u001b[2K   \u001b[90m━━━━━━━━━━━━━━━━━━━━━━━━━━━━━━━━━━━━━━━━\u001b[0m \u001b[32m2.2/2.2 MB\u001b[0m \u001b[31m47.9 MB/s\u001b[0m eta \u001b[36m0:00:00\u001b[0m\n",
            "\u001b[?25hDownloading stevedore-5.5.0-py3-none-any.whl (49 kB)\n",
            "\u001b[2K   \u001b[90m━━━━━━━━━━━━━━━━━━━━━━━━━━━━━━━━━━━━━━━━\u001b[0m \u001b[32m49.5/49.5 kB\u001b[0m \u001b[31m1.4 MB/s\u001b[0m eta \u001b[36m0:00:00\u001b[0m\n",
            "\u001b[?25hInstalling collected packages: stevedore, rustworkx, qiskit, qiskit-aer\n",
            "Successfully installed qiskit-2.2.1 qiskit-aer-0.17.2 rustworkx-0.17.1 stevedore-5.5.0\n"
          ]
        }
      ],
      "source": [
        "!pip install qiskit qiskit-aer --upgrade"
      ]
    },
    {
      "cell_type": "code",
      "source": [
        "from qiskit import QuantumCircuit\n",
        "from qiskit_aer import AerSimulator"
      ],
      "metadata": {
        "id": "iwdRp_fcxtAS"
      },
      "execution_count": 2,
      "outputs": []
    },
    {
      "cell_type": "markdown",
      "source": [
        "1.Change the number of shots to 100 and observe the result."
      ],
      "metadata": {
        "id": "2Cid-cxIxxAc"
      }
    },
    {
      "cell_type": "code",
      "source": [
        "def hadamard_one_qubit():\n",
        "# Create a 1-qubit, 1-classical-bit quantum circuit\n",
        "  qc = QuantumCircuit(1, 1)\n",
        "\n",
        "  # Apply Hadamard gate to put the qubit in superposition\n",
        "  qc.h(0)\n",
        "\n",
        "  # Measure the qubit\n",
        "  qc.measure(0, 0)\n",
        "\n",
        "  # Run on QASM simulator\n",
        "  simulator = AerSimulator()\n",
        "  job = simulator.run(qc, shots=100)\n",
        "  result = job.result()\n",
        "\n",
        "  # Get measurement results\n",
        "  counts = result.get_counts(qc)\n",
        "  print(\"Quantum Circuit Result:\", counts)"
      ],
      "metadata": {
        "id": "HK8KU803x3ZC"
      },
      "execution_count": 4,
      "outputs": []
    },
    {
      "cell_type": "code",
      "source": [
        "if __name__ == \"__main__\":\n",
        "  hadamard_one_qubit()"
      ],
      "metadata": {
        "colab": {
          "base_uri": "https://localhost:8080/"
        },
        "id": "EPmn91_LyU0O",
        "outputId": "0dffffbd-0197-4680-ae1f-35c0a039f6fd"
      },
      "execution_count": 5,
      "outputs": [
        {
          "output_type": "stream",
          "name": "stdout",
          "text": [
            "Quantum Circuit Result: {'0': 45, '1': 55}\n"
          ]
        }
      ]
    },
    {
      "cell_type": "markdown",
      "source": [
        "2.Add a second qubit, apply Hadamard gates to both qubits, measure, and print the result."
      ],
      "metadata": {
        "id": "pzEUxnEXyZNQ"
      }
    },
    {
      "cell_type": "code",
      "source": [
        "def hadamard_two_qubits():\n",
        "  # Create a 2-qubit, 2-classical-bit quantum circuit\n",
        "  qc = QuantumCircuit(2, 2)\n",
        "\n",
        "  # Apply Hadamard gates to both qubits\n",
        "  qc.h(0)\n",
        "  qc.h(1)\n",
        "\n",
        "  # Measure both qubits\n",
        "  qc.measure([0, 1], [0, 1])\n",
        "\n",
        "  simulator = AerSimulator()\n",
        "  job = simulator.run(qc, shots=100)\n",
        "  result = job.result()\n",
        "\n",
        "  counts = result.get_counts(qc)\n",
        "  print(\"Quantum Circuit Result:\", counts)"
      ],
      "metadata": {
        "id": "0hWEPzqJyqO0"
      },
      "execution_count": 6,
      "outputs": []
    },
    {
      "cell_type": "code",
      "source": [
        "if __name__ == \"__main__\":\n",
        "  hadamard_two_qubits()"
      ],
      "metadata": {
        "colab": {
          "base_uri": "https://localhost:8080/"
        },
        "id": "vhcO8hHqzAqV",
        "outputId": "40f0525f-bd90-459d-d785-d88551ecafdd"
      },
      "execution_count": 7,
      "outputs": [
        {
          "output_type": "stream",
          "name": "stdout",
          "text": [
            "Quantum Circuit Result: {'11': 24, '01': 27, '00': 26, '10': 23}\n"
          ]
        }
      ]
    },
    {
      "cell_type": "markdown",
      "source": [
        "3.Replace the Hadamard gate with an X gate and observe how the measurement changes."
      ],
      "metadata": {
        "id": "SjvFXV-vzFyK"
      }
    },
    {
      "cell_type": "markdown",
      "source": [
        "3A: X gate on 1 qubit"
      ],
      "metadata": {
        "id": "KUtWW2W8zKgG"
      }
    },
    {
      "cell_type": "code",
      "source": [
        "def x_gate_one_qubit():\n",
        "  #1-qubit with X gate\n",
        "  qc = QuantumCircuit(1, 1)\n",
        "\n",
        "  # Apply X gates to both qubits\n",
        "  qc.x(0) # Flip qubit 0 (|0> → |1>)\n",
        "\n",
        "  # Measure both\n",
        "  qc.measure(0,0)\n",
        "\n",
        "  simulator = AerSimulator()\n",
        "  job = simulator.run(qc, shots=100)\n",
        "  result = job.result()\n",
        "\n",
        "  counts = result.get_counts(qc)\n",
        "  print(\"Quantum Circuit Result:\", counts)"
      ],
      "metadata": {
        "id": "Ii0r0a_5zE0A"
      },
      "execution_count": 9,
      "outputs": []
    },
    {
      "cell_type": "code",
      "source": [
        "if __name__ == \"__main__\":\n",
        "  x_gate_one_qubit()"
      ],
      "metadata": {
        "colab": {
          "base_uri": "https://localhost:8080/"
        },
        "id": "Mh83NiFOzbOC",
        "outputId": "33345a14-472f-4fdd-94c0-7057c2ab9f2c"
      },
      "execution_count": 10,
      "outputs": [
        {
          "output_type": "stream",
          "name": "stdout",
          "text": [
            "Quantum Circuit Result: {'1': 100}\n"
          ]
        }
      ]
    },
    {
      "cell_type": "markdown",
      "source": [
        "3B: X gates on 2 qubits"
      ],
      "metadata": {
        "id": "HnU-IqQQzj57"
      }
    },
    {
      "cell_type": "code",
      "source": [
        "def x_gate_two_qubits():\n",
        "  #2-qubits with X gate\n",
        "  qc = QuantumCircuit(2, 2)\n",
        "\n",
        "  # Apply X gates to both qubits\n",
        "  qc.x(0) # Flip qubit 0 (|0> → |1>)\n",
        "  qc.x(1) # Flip qubit 1 (|0> → |1>)\n",
        "\n",
        "  # Measure both\n",
        "  qc.measure([0, 1], [0, 1])\n",
        "\n",
        "  simulator = AerSimulator()\n",
        "  job = simulator.run(qc, shots=100)\n",
        "  result = job.result()\n",
        "\n",
        "  counts = result.get_counts(qc)\n",
        "  print(\"Quantum Circuit Result:\", counts)"
      ],
      "metadata": {
        "id": "ZzwOwc1xzkn9"
      },
      "execution_count": 11,
      "outputs": []
    },
    {
      "cell_type": "code",
      "source": [
        "if __name__ == \"__main__\":\n",
        "    x_gate_two_qubits()"
      ],
      "metadata": {
        "colab": {
          "base_uri": "https://localhost:8080/"
        },
        "id": "ICIDMQGmzzmQ",
        "outputId": "a2f9b22a-6ab0-4e54-e929-c8797651b3ea"
      },
      "execution_count": 12,
      "outputs": [
        {
          "output_type": "stream",
          "name": "stdout",
          "text": [
            "Quantum Circuit Result: {'11': 100}\n"
          ]
        }
      ]
    }
  ]
}