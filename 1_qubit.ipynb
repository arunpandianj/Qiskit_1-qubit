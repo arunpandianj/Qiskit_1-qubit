{
  "nbformat": 4,
  "nbformat_minor": 0,
  "metadata": {
    "colab": {
      "provenance": []
    },
    "kernelspec": {
      "name": "python3",
      "display_name": "Python 3"
    },
    "language_info": {
      "name": "python"
    }
  },
  "cells": [
    {
      "cell_type": "code",
      "source": [
        "!pip install qiskit qiskit-aer --upgrade"
      ],
      "metadata": {
        "id": "XLnNwi4n767M",
        "colab": {
          "base_uri": "https://localhost:8080/"
        },
        "outputId": "40a6e415-ecd5-4a19-fc23-cc876cdd6f8e"
      },
      "execution_count": 32,
      "outputs": [
        {
          "output_type": "stream",
          "name": "stdout",
          "text": [
            "Requirement already satisfied: qiskit in /usr/local/lib/python3.12/dist-packages (2.2.1)\n",
            "Requirement already satisfied: qiskit-aer in /usr/local/lib/python3.12/dist-packages (0.17.2)\n",
            "Requirement already satisfied: rustworkx>=0.15.0 in /usr/local/lib/python3.12/dist-packages (from qiskit) (0.17.1)\n",
            "Requirement already satisfied: numpy<3,>=1.17 in /usr/local/lib/python3.12/dist-packages (from qiskit) (2.0.2)\n",
            "Requirement already satisfied: scipy>=1.5 in /usr/local/lib/python3.12/dist-packages (from qiskit) (1.16.2)\n",
            "Requirement already satisfied: dill>=0.3 in /usr/local/lib/python3.12/dist-packages (from qiskit) (0.3.8)\n",
            "Requirement already satisfied: stevedore>=3.0.0 in /usr/local/lib/python3.12/dist-packages (from qiskit) (5.5.0)\n",
            "Requirement already satisfied: typing-extensions in /usr/local/lib/python3.12/dist-packages (from qiskit) (4.15.0)\n",
            "Requirement already satisfied: psutil>=5 in /usr/local/lib/python3.12/dist-packages (from qiskit-aer) (5.9.5)\n",
            "Requirement already satisfied: python-dateutil>=2.8.0 in /usr/local/lib/python3.12/dist-packages (from qiskit-aer) (2.9.0.post0)\n",
            "Requirement already satisfied: six>=1.5 in /usr/local/lib/python3.12/dist-packages (from python-dateutil>=2.8.0->qiskit-aer) (1.17.0)\n"
          ]
        }
      ]
    },
    {
      "cell_type": "code",
      "source": [
        "from qiskit import QuantumCircuit\n",
        "from qiskit_aer import AerSimulator"
      ],
      "metadata": {
        "id": "QVSN-Kb77yL_"
      },
      "execution_count": 33,
      "outputs": []
    },
    {
      "cell_type": "code",
      "execution_count": 44,
      "metadata": {
        "id": "Pku2cOIo7qdL"
      },
      "outputs": [],
      "source": [
        "def main():\n",
        "    # Create a 1-qubit, 1-classical-bit quantum circuit\n",
        "    qc = QuantumCircuit(1, 1)\n",
        "\n",
        "    # Apply Hadamard gate to put the qubit in superposition\n",
        "    #Task 1\n",
        "    qc.h(0)\n",
        "\n",
        "    # Measure the qubit\n",
        "    qc.measure(0, 0)\n",
        "\n",
        "    # Run on QASM simulator\n",
        "    simulator = AerSimulator()\n",
        "    job = simulator.run(qc, shots=100)  # Task 1\n",
        "    result = job.result()\n",
        "\n",
        "    # Get measurement results\n",
        "    counts = result.get_counts(qc)\n",
        "    print(\"Task 1\")\n",
        "    print(\"Quantum Circuit Result of Single qubit on Hadamard:\", counts)\n",
        "\n",
        "    #Task 2\n",
        "    qc1 = QuantumCircuit(2, 2)\n",
        "\n",
        "    qc1.h(0)\n",
        "    qc1.h(1)\n",
        "\n",
        "    qc1.measure(0, 0)\n",
        "    qc1.measure(1, 1)\n",
        "\n",
        "    job1 = simulator.run(qc1, shots=100)  # Task 2\n",
        "    result1 = job1.result()\n",
        "    counts1 = result1.get_counts(qc1)\n",
        "    print(\"Task 2\")\n",
        "    print(\"Quantum Circuit Result of Two qubit on Hadamard:\", counts1)\n",
        "\n",
        "    #Task 3\n",
        "    qc3 = QuantumCircuit(1, 1)\n",
        "\n",
        "    qc3.x(0)\n",
        "\n",
        "    qc3.measure(0, 0)\n",
        "\n",
        "    job2 = simulator.run(qc3, shots=100)  # Task 3\n",
        "    result2 = job2.result()\n",
        "    counts2 = result2.get_counts(qc3)\n",
        "    print(\"Task 3\")\n",
        "    print(\"Quantum Circuit Result of Single qubit on X:\", counts2)"
      ]
    },
    {
      "cell_type": "code",
      "source": [
        "if __name__ == \"__main__\":\n",
        "    main()"
      ],
      "metadata": {
        "id": "CANVVbFR8pgu",
        "colab": {
          "base_uri": "https://localhost:8080/"
        },
        "outputId": "2ca6d3a1-c1f1-4e01-c79b-2d12b3476e07"
      },
      "execution_count": 45,
      "outputs": [
        {
          "output_type": "stream",
          "name": "stdout",
          "text": [
            "Task 1\n",
            "Quantum Circuit Result of Single qubit on Hadamard: {'0': 48, '1': 52}\n",
            "Task 2\n",
            "Quantum Circuit Result of Two qubit on Hadamard: {'11': 27, '01': 24, '00': 26, '10': 23}\n",
            "Task 3\n",
            "Quantum Circuit Result of Single qubit on X: {'1': 100}\n"
          ]
        }
      ]
    },
    {
      "cell_type": "code",
      "source": [],
      "metadata": {
        "id": "MJgOeiC-D_30"
      },
      "execution_count": null,
      "outputs": []
    }
  ]
}