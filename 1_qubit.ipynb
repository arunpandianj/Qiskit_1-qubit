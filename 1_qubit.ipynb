{
  "nbformat": 4,
  "nbformat_minor": 0,
  "metadata": {
    "colab": {
      "provenance": []
    },
    "kernelspec": {
      "name": "python3",
      "display_name": "Python 3"
    },
    "language_info": {
      "name": "python"
    }
  },
  "cells": [
    {
      "cell_type": "code",
      "source": [
        "!pip install qiskit qiskit-aer --upgrade"
      ],
      "metadata": {
        "id": "XLnNwi4n767M",
        "colab": {
          "base_uri": "https://localhost:8080/"
        },
        "outputId": "5cac9920-cb4d-4597-defd-f0a3af1a7ea3"
      },
      "execution_count": 1,
      "outputs": [
        {
          "output_type": "stream",
          "name": "stdout",
          "text": [
            "Requirement already satisfied: qiskit in /usr/local/lib/python3.12/dist-packages (2.2.1)\n",
            "Requirement already satisfied: qiskit-aer in /usr/local/lib/python3.12/dist-packages (0.17.2)\n",
            "Requirement already satisfied: rustworkx>=0.15.0 in /usr/local/lib/python3.12/dist-packages (from qiskit) (0.17.1)\n",
            "Requirement already satisfied: numpy<3,>=1.17 in /usr/local/lib/python3.12/dist-packages (from qiskit) (2.0.2)\n",
            "Requirement already satisfied: scipy>=1.5 in /usr/local/lib/python3.12/dist-packages (from qiskit) (1.16.2)\n",
            "Requirement already satisfied: dill>=0.3 in /usr/local/lib/python3.12/dist-packages (from qiskit) (0.3.8)\n",
            "Requirement already satisfied: stevedore>=3.0.0 in /usr/local/lib/python3.12/dist-packages (from qiskit) (5.5.0)\n",
            "Requirement already satisfied: typing-extensions in /usr/local/lib/python3.12/dist-packages (from qiskit) (4.15.0)\n",
            "Requirement already satisfied: psutil>=5 in /usr/local/lib/python3.12/dist-packages (from qiskit-aer) (5.9.5)\n",
            "Requirement already satisfied: python-dateutil>=2.8.0 in /usr/local/lib/python3.12/dist-packages (from qiskit-aer) (2.9.0.post0)\n",
            "Requirement already satisfied: six>=1.5 in /usr/local/lib/python3.12/dist-packages (from python-dateutil>=2.8.0->qiskit-aer) (1.17.0)\n"
          ]
        }
      ]
    },
    {
      "cell_type": "code",
      "source": [
        "from qiskit import QuantumCircuit\n",
        "from qiskit_aer import AerSimulator"
      ],
      "metadata": {
        "id": "QVSN-Kb77yL_"
      },
      "execution_count": 2,
      "outputs": []
    },
    {
      "cell_type": "code",
      "execution_count": 3,
      "metadata": {
        "id": "Pku2cOIo7qdL"
      },
      "outputs": [],
      "source": [
        "def main():\n",
        "    # Create a 1-qubit, 1-classical-bit quantum circuit\n",
        "    qc = QuantumCircuit(1, 1)\n",
        "\n",
        "    # Apply Hadamard gate to put the qubit in superposition\n",
        "    qc.h(0)\n",
        "\n",
        "    # Measure the qubit\n",
        "    qc.measure(0, 0)\n",
        "\n",
        "    # Run on QASM simulator\n",
        "    simulator = AerSimulator()      # ✅ Create simulator instance\n",
        "    job = simulator.run(qc, shots=10)  # ✅ Use run() instead of execute()\n",
        "    result = job.result()\n",
        "\n",
        "    # Get measurement results\n",
        "    counts = result.get_counts(qc)\n",
        "    print(\"Quantum Circuit Result:\", counts)"
      ]
    },
    {
      "cell_type": "code",
      "source": [
        "if __name__ == \"__main__\":\n",
        "    main()"
      ],
      "metadata": {
        "id": "CANVVbFR8pgu",
        "colab": {
          "base_uri": "https://localhost:8080/"
        },
        "outputId": "0a45f448-04db-474d-d8d6-62ea3a3accc1"
      },
      "execution_count": 4,
      "outputs": [
        {
          "output_type": "stream",
          "name": "stdout",
          "text": [
            "Quantum Circuit Result: {'1': 4, '0': 6}\n"
          ]
        }
      ]
    },
    {
      "cell_type": "code",
      "source": [
        "#Task_1\n",
        "\n",
        "#Change the number of shots to 100 and observe the result\n",
        "\n",
        "simulator = AerSimulator()\n",
        "qc1 = QuantumCircuit(1, 1)\n",
        "qc1.h(0)\n",
        "qc1.measure(0, 0)\n",
        "\n",
        "job1 = simulator.run(qc1, shots=100)\n",
        "result1 = job1.result()\n",
        "counts1 = result1.get_counts(qc1)\n",
        "\n",
        "print(\"Task 1: Hadamard on 1 qubit (shots=100):\", counts1)\n"
      ],
      "metadata": {
        "id": "sIoRJNFD88Wq",
        "colab": {
          "base_uri": "https://localhost:8080/"
        },
        "outputId": "8187d189-f666-407c-ba46-889e6b9de466"
      },
      "execution_count": 5,
      "outputs": [
        {
          "output_type": "stream",
          "name": "stdout",
          "text": [
            "Task 1: Hadamard on 1 qubit (shots=100): {'0': 55, '1': 45}\n"
          ]
        }
      ]
    },
    {
      "cell_type": "code",
      "source": [
        "#Task_2\n",
        "\n",
        "#Add a second qubit, apply Hadamard gates to both qubits, measure, and print the result.\n",
        "\n",
        "qc2 = QuantumCircuit(2, 2)\n",
        "qc2.h(0)\n",
        "qc2.h(1)\n",
        "qc2.measure([0, 1], [0, 1])\n",
        "\n",
        "job2 = simulator.run(qc2, shots=100)\n",
        "result2 = job2.result()\n",
        "counts2 = result2.get_counts(qc2)\n",
        "\n",
        "print(\"Task 2 : Hadamard on 2 qubits (shots=100):\", counts2)\n"
      ],
      "metadata": {
        "colab": {
          "base_uri": "https://localhost:8080/"
        },
        "id": "q5Japr4n64tn",
        "outputId": "0074f204-1261-45a1-eb5b-85864adc9dbd"
      },
      "execution_count": 6,
      "outputs": [
        {
          "output_type": "stream",
          "name": "stdout",
          "text": [
            "Task 2 : Hadamard on 2 qubits (shots=100): {'01': 20, '11': 25, '00': 30, '10': 25}\n"
          ]
        }
      ]
    },
    {
      "cell_type": "code",
      "source": [
        "#Task_3\n",
        "\n",
        "#Replace the Hadamard gate with an X gate and observe how the measurement changes.\n",
        "\n",
        "qc3 = QuantumCircuit(1, 1)\n",
        "qc3.x(0)  # Apply X gate instead of H\n",
        "qc3.measure(0, 0)\n",
        "\n",
        "job3 = simulator.run(qc3, shots=100)\n",
        "result3 = job3.result()\n",
        "counts3 = result3.get_counts(qc3)\n",
        "\n",
        "print(\"Task 3: X gate on 1 qubit (shots=100):\", counts3)\n"
      ],
      "metadata": {
        "colab": {
          "base_uri": "https://localhost:8080/"
        },
        "id": "HX9nW9BI7FLv",
        "outputId": "63459b01-b01c-4990-ad7e-ac4a758ccd2b"
      },
      "execution_count": 7,
      "outputs": [
        {
          "output_type": "stream",
          "name": "stdout",
          "text": [
            "Task 3: X gate on 1 qubit (shots=100): {'1': 100}\n"
          ]
        }
      ]
    }
  ]
}