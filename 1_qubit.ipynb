{
  "nbformat": 4,
  "nbformat_minor": 0,
  "metadata": {
    "colab": {
      "provenance": []
    },
    "kernelspec": {
      "name": "python3",
      "display_name": "Python 3"
    },
    "language_info": {
      "name": "python"
    }
  },
  "cells": [
    {
      "cell_type": "code",
      "source": [
        "\n",
        "!pip install qiskit qiskit-aer --quiet\n",
        "\n",
        "# Import statements\n",
        "from qiskit import QuantumCircuit, transpile\n",
        "from qiskit_aer import AerSimulator\n",
        "\n",
        "# Create simulator\n",
        "simulator = AerSimulator()\n",
        "\n",
        "\n",
        "# Base Program (1 qubit, Hadamard, 10 shots)\n",
        "\n",
        "qc = QuantumCircuit(1, 1)\n",
        "qc.h(0)\n",
        "qc.measure(0, 0)\n",
        "\n",
        "# Transpile for simulator\n",
        "tqc = transpile(qc, simulator)\n",
        "\n",
        "# Run simulation\n",
        "result = simulator.run(tqc, shots=10).result()\n",
        "counts = result.get_counts()\n",
        "print(\"Base Program Result with 10 shots:\", counts)\n",
        "\n",
        "\n",
        "# Task 1: Change the number of shots to 100\n",
        "\n",
        "result_task1 = simulator.run(tqc, shots=100).result()\n",
        "counts_task1 = result_task1.get_counts()\n",
        "print(\"Task 1 Result with 100 shots:\", counts_task1)\n",
        "\n",
        "\n",
        "# Task 2: Add a second qubit with Hadamard on both\n",
        "\n",
        "qc2 = QuantumCircuit(2, 2)\n",
        "qc2.h(0)\n",
        "qc2.h(1)\n",
        "qc2.measure([0, 1], [0, 1])\n",
        "tqc2 = transpile(qc2, simulator)\n",
        "result_task2 = simulator.run(tqc2, shots=100).result()\n",
        "counts_task2 = result_task2.get_counts()\n",
        "print(\"Task 2 Result with 2 qubits:\", counts_task2)\n",
        "\n",
        "# Task 3: Replace Hadamard with X gate\n",
        "\n",
        "qc3 = QuantumCircuit(1, 1)\n",
        "qc3.x(0)\n",
        "qc3.measure(0, 0)\n",
        "tqc3 = transpile(qc3, simulator)\n",
        "result_task3 = simulator.run(tqc3, shots=10).result()\n",
        "counts_task3 = result_task3.get_counts()\n",
        "print(\"Task 3 Result with X gate:\", counts_task3)\n",
        "\n",
        "\n"
      ],
      "metadata": {
        "colab": {
          "base_uri": "https://localhost:8080/"
        },
        "id": "gg54FQoSPlLA",
        "outputId": "e7ae0f02-9b9c-479c-ea39-5af82c7582b4"
      },
      "execution_count": 8,
      "outputs": [
        {
          "output_type": "stream",
          "name": "stdout",
          "text": [
            "Base Program Result with 10 shots: {'0': 4, '1': 6}\n",
            "Task 1 Result with 100 shots: {'1': 49, '0': 51}\n",
            "Task 2 Result with 2 qubits: {'01': 22, '10': 22, '00': 30, '11': 26}\n",
            "Task 3 Result with X gate: {'1': 10}\n"
          ]
        }
      ]
    },
    {
      "cell_type": "code",
      "source": [],
      "metadata": {
        "id": "_JW5kQI8Q-GK"
      },
      "execution_count": 4,
      "outputs": []
    }
  ]
}