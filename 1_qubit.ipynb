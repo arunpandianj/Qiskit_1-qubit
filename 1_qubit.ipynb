{
  "cells": [
    {
      "cell_type": "code",
      "execution_count": 12,
      "metadata": {
        "id": "XLnNwi4n767M"
      },
      "outputs": [
        {
          "name": "stdout",
          "output_type": "stream",
          "text": [
            "Requirement already satisfied: qiskit in /home/praveen/.pyenv/versions/3.11.13/lib/python3.11/site-packages (2.2.1)\n",
            "Requirement already satisfied: qiskit-aer in /home/praveen/.pyenv/versions/3.11.13/lib/python3.11/site-packages (0.17.2)\n",
            "Requirement already satisfied: qiskit-aer in /home/praveen/.pyenv/versions/3.11.13/lib/python3.11/site-packages (0.17.2)\n",
            "Requirement already satisfied: rustworkx>=0.15.0 in /home/praveen/.pyenv/versions/3.11.13/lib/python3.11/site-packages (from qiskit) (0.17.1)\n",
            "Requirement already satisfied: numpy<3,>=1.17 in /home/praveen/.pyenv/versions/3.11.13/lib/python3.11/site-packages (from qiskit) (2.3.3)\n",
            "Requirement already satisfied: rustworkx>=0.15.0 in /home/praveen/.pyenv/versions/3.11.13/lib/python3.11/site-packages (from qiskit) (0.17.1)\n",
            "Requirement already satisfied: numpy<3,>=1.17 in /home/praveen/.pyenv/versions/3.11.13/lib/python3.11/site-packages (from qiskit) (2.3.3)\n",
            "Requirement already satisfied: scipy>=1.5 in /home/praveen/.pyenv/versions/3.11.13/lib/python3.11/site-packages (from qiskit) (1.16.2)\n",
            "Requirement already satisfied: dill>=0.3 in /home/praveen/.pyenv/versions/3.11.13/lib/python3.11/site-packages (from qiskit) (0.4.0)\n",
            "Requirement already satisfied: stevedore>=3.0.0 in /home/praveen/.pyenv/versions/3.11.13/lib/python3.11/site-packages (from qiskit) (5.5.0)\n",
            "Requirement already satisfied: typing-extensions in /home/praveen/.pyenv/versions/3.11.13/lib/python3.11/site-packages (from qiskit) (4.15.0)\n",
            "Requirement already satisfied: psutil>=5 in /home/praveen/.pyenv/versions/3.11.13/lib/python3.11/site-packages (from qiskit-aer) (7.1.0)\n",
            "Requirement already satisfied: python-dateutil>=2.8.0 in /home/praveen/.pyenv/versions/3.11.13/lib/python3.11/site-packages (from qiskit-aer) (2.9.0.post0)\n",
            "Requirement already satisfied: six>=1.5 in /home/praveen/.pyenv/versions/3.11.13/lib/python3.11/site-packages (from python-dateutil>=2.8.0->qiskit-aer) (1.17.0)\n",
            "Requirement already satisfied: scipy>=1.5 in /home/praveen/.pyenv/versions/3.11.13/lib/python3.11/site-packages (from qiskit) (1.16.2)\n",
            "Requirement already satisfied: dill>=0.3 in /home/praveen/.pyenv/versions/3.11.13/lib/python3.11/site-packages (from qiskit) (0.4.0)\n",
            "Requirement already satisfied: stevedore>=3.0.0 in /home/praveen/.pyenv/versions/3.11.13/lib/python3.11/site-packages (from qiskit) (5.5.0)\n",
            "Requirement already satisfied: typing-extensions in /home/praveen/.pyenv/versions/3.11.13/lib/python3.11/site-packages (from qiskit) (4.15.0)\n",
            "Requirement already satisfied: psutil>=5 in /home/praveen/.pyenv/versions/3.11.13/lib/python3.11/site-packages (from qiskit-aer) (7.1.0)\n",
            "Requirement already satisfied: python-dateutil>=2.8.0 in /home/praveen/.pyenv/versions/3.11.13/lib/python3.11/site-packages (from qiskit-aer) (2.9.0.post0)\n",
            "Requirement already satisfied: six>=1.5 in /home/praveen/.pyenv/versions/3.11.13/lib/python3.11/site-packages (from python-dateutil>=2.8.0->qiskit-aer) (1.17.0)\n",
            "\n",
            "\u001b[1m[\u001b[0m\u001b[34;49mnotice\u001b[0m\u001b[1;39;49m]\u001b[0m\u001b[39;49m A new release of pip is available: \u001b[0m\u001b[31;49m24.0\u001b[0m\u001b[39;49m -> \u001b[0m\u001b[32;49m25.2\u001b[0m\n",
            "\u001b[1m[\u001b[0m\u001b[34;49mnotice\u001b[0m\u001b[1;39;49m]\u001b[0m\u001b[39;49m To update, run: \u001b[0m\u001b[32;49mpip install --upgrade pip\u001b[0m\n",
            "\n",
            "\u001b[1m[\u001b[0m\u001b[34;49mnotice\u001b[0m\u001b[1;39;49m]\u001b[0m\u001b[39;49m A new release of pip is available: \u001b[0m\u001b[31;49m24.0\u001b[0m\u001b[39;49m -> \u001b[0m\u001b[32;49m25.2\u001b[0m\n",
            "\u001b[1m[\u001b[0m\u001b[34;49mnotice\u001b[0m\u001b[1;39;49m]\u001b[0m\u001b[39;49m To update, run: \u001b[0m\u001b[32;49mpip install --upgrade pip\u001b[0m\n"
          ]
        }
      ],
      "source": [
        "!pip install qiskit qiskit-aer --upgrade"
      ]
    },
    {
      "cell_type": "code",
      "execution_count": 13,
      "metadata": {
        "id": "QVSN-Kb77yL_"
      },
      "outputs": [],
      "source": [
        "from qiskit import QuantumCircuit\n",
        "from qiskit_aer import AerSimulator"
      ]
    },
    {
      "cell_type": "code",
      "execution_count": 14,
      "metadata": {
        "id": "Pku2cOIo7qdL"
      },
      "outputs": [],
      "source": [
        "def main():\n",
        "    # Create a 1-qubit, 1-classical-bit quantum circuit\n",
        "    qc = QuantumCircuit(1, 1)\n",
        "\n",
        "    # Apply Hadamard gate to put the qubit in superposition\n",
        "    qc.h(0)\n",
        "\n",
        "    # Measure the qubit\n",
        "    qc.measure(0, 0)\n",
        "\n",
        "    # Run on QASM simulator\n",
        "    simulator = AerSimulator()      # ✅ Create simulator instance\n",
        "    job = simulator.run(qc, shots=10)  # ✅ Use run() instead of execute()\n",
        "    result = job.result()\n",
        "\n",
        "    # Get measurement results\n",
        "    counts = result.get_counts(qc)\n",
        "    print(\"Quantum Circuit Result:\", counts)"
      ]
    },
    {
      "cell_type": "code",
      "execution_count": 15,
      "metadata": {
        "id": "CANVVbFR8pgu"
      },
      "outputs": [
        {
          "name": "stdout",
          "output_type": "stream",
          "text": [
            "Quantum Circuit Result: {'0': 4, '1': 6}\n"
          ]
        }
      ],
      "source": [
        "if __name__ == \"__main__\":\n",
        "    main()"
      ]
    },
    {
      "cell_type": "code",
      "execution_count": 16,
      "metadata": {
        "id": "sIoRJNFD88Wq"
      },
      "outputs": [
        {
          "name": "stdout",
          "output_type": "stream",
          "text": [
            "Single qubit with Hadamard gate (100 shots): {'0': 48, '1': 52}\n"
          ]
        }
      ],
      "source": [
        "#Task_1\n",
        "qc1 = QuantumCircuit(1, 1)\n",
        "qc1.h(0)\n",
        "qc1.measure(0, 0)\n",
        "simulator = AerSimulator()\n",
        "job1 = simulator.run(qc1, shots=100)\n",
        "result1 = job1.result()\n",
        "counts1 = result1.get_counts(qc1)\n",
        "print(\"Single qubit with Hadamard gate (100 shots):\", counts1)"
      ]
    },
    {
      "cell_type": "code",
      "execution_count": null,
      "metadata": {},
      "outputs": [
        {
          "name": "stdout",
          "output_type": "stream",
          "text": [
            "Two qubits with Hadamard gates (100 shots): {'11': 16, '01': 30, '00': 24, '10': 30}\n"
          ]
        }
      ],
      "source": [
        "#Task_2\n",
        "qc2 = QuantumCircuit(2, 2)\n",
        "qc2.h(0)\n",
        "qc2.h(1)\n",
        "qc2.measure([0, 1], [0, 1])\n",
        "simulator = AerSimulator()\n",
        "job2 = simulator.run(qc2, shots=100)\n",
        "result2 = job2.result()\n",
        "counts2 = result2.get_counts(qc2)\n",
        "print(\"Two qubits with Hadamard gates (100 shots):\", counts2)"
      ]
    },
    {
      "cell_type": "code",
      "execution_count": 18,
      "metadata": {},
      "outputs": [
        {
          "name": "stdout",
          "output_type": "stream",
          "text": [
            "Two qubits with X gates (100 shots): {'11': 100}\n"
          ]
        }
      ],
      "source": [
        "#Task_3\n",
        "qc3 = QuantumCircuit(2, 2)\n",
        "qc3.x(0)\n",
        "qc3.x(1)\n",
        "qc3.measure([0, 1], [0, 1])\n",
        "simulator = AerSimulator()\n",
        "job3 = simulator.run(qc3, shots=100)\n",
        "result3 = job3.result()\n",
        "counts3 = result3.get_counts(qc3)\n",
        "print(\"Two qubits with X gates (100 shots):\", counts3)"
      ]
    }
  ],
  "metadata": {
    "colab": {
      "provenance": []
    },
    "kernelspec": {
      "display_name": "Python 3",
      "name": "python3"
    },
    "language_info": {
      "name": "python"
    }
  },
  "nbformat": 4,
  "nbformat_minor": 0
}
