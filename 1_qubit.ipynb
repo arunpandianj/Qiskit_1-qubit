{
  "nbformat": 4,
  "nbformat_minor": 0,
  "metadata": {
    "colab": {
      "provenance": []
    },
    "kernelspec": {
      "name": "python3",
      "display_name": "Python 3"
    },
    "language_info": {
      "name": "python"
    }
  },
  "cells": [
    {
      "cell_type": "code",
      "source": [
        "!pip install qiskit qiskit-aer --upgrade"
      ],
      "metadata": {
        "id": "XLnNwi4n767M",
        "colab": {
          "base_uri": "https://localhost:8080/"
        },
        "outputId": "077ae042-0dac-4aa5-a3a9-24612b1cf00d"
      },
      "execution_count": 6,
      "outputs": [
        {
          "output_type": "stream",
          "name": "stdout",
          "text": [
            "Requirement already satisfied: qiskit in /usr/local/lib/python3.12/dist-packages (2.2.1)\n",
            "Requirement already satisfied: qiskit-aer in /usr/local/lib/python3.12/dist-packages (0.17.2)\n",
            "Requirement already satisfied: rustworkx>=0.15.0 in /usr/local/lib/python3.12/dist-packages (from qiskit) (0.17.1)\n",
            "Requirement already satisfied: numpy<3,>=1.17 in /usr/local/lib/python3.12/dist-packages (from qiskit) (2.0.2)\n",
            "Requirement already satisfied: scipy>=1.5 in /usr/local/lib/python3.12/dist-packages (from qiskit) (1.16.2)\n",
            "Requirement already satisfied: dill>=0.3 in /usr/local/lib/python3.12/dist-packages (from qiskit) (0.3.8)\n",
            "Requirement already satisfied: stevedore>=3.0.0 in /usr/local/lib/python3.12/dist-packages (from qiskit) (5.5.0)\n",
            "Requirement already satisfied: typing-extensions in /usr/local/lib/python3.12/dist-packages (from qiskit) (4.15.0)\n",
            "Requirement already satisfied: psutil>=5 in /usr/local/lib/python3.12/dist-packages (from qiskit-aer) (5.9.5)\n",
            "Requirement already satisfied: python-dateutil>=2.8.0 in /usr/local/lib/python3.12/dist-packages (from qiskit-aer) (2.9.0.post0)\n",
            "Requirement already satisfied: six>=1.5 in /usr/local/lib/python3.12/dist-packages (from python-dateutil>=2.8.0->qiskit-aer) (1.17.0)\n"
          ]
        }
      ]
    },
    {
      "cell_type": "code",
      "source": [
        "from qiskit import QuantumCircuit\n",
        "from qiskit_aer import AerSimulator"
      ],
      "metadata": {
        "id": "QVSN-Kb77yL_"
      },
      "execution_count": 7,
      "outputs": []
    },
    {
      "cell_type": "code",
      "execution_count": 8,
      "metadata": {
        "id": "Pku2cOIo7qdL"
      },
      "outputs": [],
      "source": [
        "def main():\n",
        "    simulator = AerSimulator()\n",
        "    qc = QuantumCircuit(1, 1)\n",
        "    qc.x(0)\n",
        "    qc.measure(0, 0)\n",
        "    job = simulator.run(qc, shots=100)\n",
        "    result = job.result()\n",
        "    print(\"Single Qubit (X gate):\", result.get_counts(qc))\n",
        "    qc = QuantumCircuit(2, 2)\n",
        "    qc.h(0)\n",
        "    qc.h(1)\n",
        "    qc.measure([0, 1], [0, 1])\n",
        "    job = simulator.run(qc, shots=100)\n",
        "    result = job.result()\n",
        "    print(\"Two Qubits (Hadamard):\", result.get_counts(qc))\n",
        "    qc = QuantumCircuit(2, 2)\n",
        "    qc.x(0)\n",
        "    qc.x(1)\n",
        "    qc.measure([0, 1], [0, 1])\n",
        "    job = simulator.run(qc, shots=100)\n",
        "    result = job.result()\n",
        "    print(\"Two Qubits (X gates):\", result.get_counts(qc))\n"
      ]
    },
    {
      "cell_type": "code",
      "source": [
        "if __name__ == \"__main__\":\n",
        "    main()"
      ],
      "metadata": {
        "id": "CANVVbFR8pgu",
        "colab": {
          "base_uri": "https://localhost:8080/"
        },
        "outputId": "ba1d5e98-e117-4c9f-ef9f-c07519d0e296"
      },
      "execution_count": 9,
      "outputs": [
        {
          "output_type": "stream",
          "name": "stdout",
          "text": [
            "Single Qubit (X gate): {'1': 100}\n",
            "Two Qubits (Hadamard): {'01': 25, '11': 26, '00': 21, '10': 28}\n",
            "Two Qubits (X gates): {'11': 100}\n"
          ]
        }
      ]
    },
    {
      "cell_type": "code",
      "source": [],
      "metadata": {
        "id": "sIoRJNFD88Wq"
      },
      "execution_count": 10,
      "outputs": []
    }
  ]
}