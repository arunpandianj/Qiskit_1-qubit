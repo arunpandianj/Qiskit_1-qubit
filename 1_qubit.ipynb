{
  "nbformat": 4,
  "nbformat_minor": 0,
  "metadata": {
    "colab": {
      "provenance": []
    },
    "kernelspec": {
      "name": "python3",
      "display_name": "Python 3"
    },
    "language_info": {
      "name": "python"
    }
  },
  "cells": [
    {
      "cell_type": "code",
      "source": [
        "!pip install qiskit qiskit-aer --upgrade"
      ],
      "metadata": {
        "id": "XLnNwi4n767M",
        "colab": {
          "base_uri": "https://localhost:8080/"
        },
        "outputId": "17fb181e-8bb4-48b5-c00c-90b233b94e7e"
      },
      "execution_count": 1,
      "outputs": [
        {
          "output_type": "stream",
          "name": "stdout",
          "text": [
            "Collecting qiskit\n",
            "  Downloading qiskit-2.2.1-cp39-abi3-manylinux2014_x86_64.manylinux_2_17_x86_64.whl.metadata (12 kB)\n",
            "Collecting qiskit-aer\n",
            "  Downloading qiskit_aer-0.17.2-cp312-cp312-manylinux_2_17_x86_64.manylinux2014_x86_64.whl.metadata (8.3 kB)\n",
            "Collecting rustworkx>=0.15.0 (from qiskit)\n",
            "  Downloading rustworkx-0.17.1-cp39-abi3-manylinux_2_17_x86_64.manylinux2014_x86_64.whl.metadata (10 kB)\n",
            "Requirement already satisfied: numpy<3,>=1.17 in /usr/local/lib/python3.12/dist-packages (from qiskit) (2.0.2)\n",
            "Requirement already satisfied: scipy>=1.5 in /usr/local/lib/python3.12/dist-packages (from qiskit) (1.16.2)\n",
            "Requirement already satisfied: dill>=0.3 in /usr/local/lib/python3.12/dist-packages (from qiskit) (0.3.8)\n",
            "Collecting stevedore>=3.0.0 (from qiskit)\n",
            "  Downloading stevedore-5.5.0-py3-none-any.whl.metadata (2.2 kB)\n",
            "Requirement already satisfied: typing-extensions in /usr/local/lib/python3.12/dist-packages (from qiskit) (4.15.0)\n",
            "Requirement already satisfied: psutil>=5 in /usr/local/lib/python3.12/dist-packages (from qiskit-aer) (5.9.5)\n",
            "Requirement already satisfied: python-dateutil>=2.8.0 in /usr/local/lib/python3.12/dist-packages (from qiskit-aer) (2.9.0.post0)\n",
            "Requirement already satisfied: six>=1.5 in /usr/local/lib/python3.12/dist-packages (from python-dateutil>=2.8.0->qiskit-aer) (1.17.0)\n",
            "Downloading qiskit-2.2.1-cp39-abi3-manylinux2014_x86_64.manylinux_2_17_x86_64.whl (8.0 MB)\n",
            "\u001b[2K   \u001b[90m━━━━━━━━━━━━━━━━━━━━━━━━━━━━━━━━━━━━━━━━\u001b[0m \u001b[32m8.0/8.0 MB\u001b[0m \u001b[31m50.2 MB/s\u001b[0m eta \u001b[36m0:00:00\u001b[0m\n",
            "\u001b[?25hDownloading qiskit_aer-0.17.2-cp312-cp312-manylinux_2_17_x86_64.manylinux2014_x86_64.whl (12.4 MB)\n",
            "\u001b[2K   \u001b[90m━━━━━━━━━━━━━━━━━━━━━━━━━━━━━━━━━━━━━━━━\u001b[0m \u001b[32m12.4/12.4 MB\u001b[0m \u001b[31m58.1 MB/s\u001b[0m eta \u001b[36m0:00:00\u001b[0m\n",
            "\u001b[?25hDownloading rustworkx-0.17.1-cp39-abi3-manylinux_2_17_x86_64.manylinux2014_x86_64.whl (2.2 MB)\n",
            "\u001b[2K   \u001b[90m━━━━━━━━━━━━━━━━━━━━━━━━━━━━━━━━━━━━━━━━\u001b[0m \u001b[32m2.2/2.2 MB\u001b[0m \u001b[31m36.4 MB/s\u001b[0m eta \u001b[36m0:00:00\u001b[0m\n",
            "\u001b[?25hDownloading stevedore-5.5.0-py3-none-any.whl (49 kB)\n",
            "\u001b[2K   \u001b[90m━━━━━━━━━━━━━━━━━━━━━━━━━━━━━━━━━━━━━━━━\u001b[0m \u001b[32m49.5/49.5 kB\u001b[0m \u001b[31m2.3 MB/s\u001b[0m eta \u001b[36m0:00:00\u001b[0m\n",
            "\u001b[?25hInstalling collected packages: stevedore, rustworkx, qiskit, qiskit-aer\n",
            "Successfully installed qiskit-2.2.1 qiskit-aer-0.17.2 rustworkx-0.17.1 stevedore-5.5.0\n"
          ]
        }
      ]
    },
    {
      "cell_type": "code",
      "source": [
        "from qiskit import QuantumCircuit\n",
        "from qiskit_aer import AerSimulator"
      ],
      "metadata": {
        "id": "QVSN-Kb77yL_"
      },
      "execution_count": 2,
      "outputs": []
    },
    {
      "cell_type": "code",
      "execution_count": 3,
      "metadata": {
        "id": "Pku2cOIo7qdL",
        "colab": {
          "base_uri": "https://localhost:8080/"
        },
        "outputId": "dd2837f0-1e6f-46c1-b21d-6265d7cbc7bc"
      },
      "outputs": [
        {
          "output_type": "stream",
          "name": "stdout",
          "text": [
            "=== Using Hadamard (H) Gate ===\n",
            "Result using 'H' gate on both qubits: {'01': 22, '00': 16, '10': 25, '11': 37}\n",
            "\n",
            "=== Using X Gate ===\n",
            "Result using 'X' gate on both qubits: {'11': 100}\n"
          ]
        }
      ],
      "source": [
        "def run_circuit_with_gate(gate_type=\"h\"):\n",
        "    # Create a 2-qubit, 2-classical-bit quantum circuit\n",
        "    qc = QuantumCircuit(2, 2)\n",
        "\n",
        "    # Apply specified gate to both qubits\n",
        "    if gate_type == \"h\":\n",
        "        qc.h(0)\n",
        "        qc.h(1)\n",
        "    elif gate_type == \"x\":\n",
        "        qc.x(0)\n",
        "        qc.x(1)\n",
        "\n",
        "    # Measure both qubits\n",
        "    qc.measure(0, 0)\n",
        "    qc.measure(1, 1)\n",
        "\n",
        "    # Run on QASM simulator with 100 shots\n",
        "    simulator = AerSimulator()\n",
        "    job = simulator.run(qc, shots=100)\n",
        "    result = job.result()\n",
        "\n",
        "    # Get measurement results\n",
        "    counts = result.get_counts(qc)\n",
        "    print(f\"Result using '{gate_type.upper()}' gate on both qubits:\", counts)\n",
        "\n",
        "def main():\n",
        "    print(\"=== Using Hadamard (H) Gate ===\")\n",
        "    run_circuit_with_gate(\"h\")\n",
        "\n",
        "    print(\"\\n=== Using X Gate ===\")\n",
        "    run_circuit_with_gate(\"x\")\n",
        "\n",
        "if __name__ == \"__main__\":\n",
        "    main()\n"
      ]
    },
    {
      "cell_type": "code",
      "source": [
        "if __name__ == \"__main__\":\n",
        "    main()"
      ],
      "metadata": {
        "id": "CANVVbFR8pgu",
        "colab": {
          "base_uri": "https://localhost:8080/"
        },
        "outputId": "a7e024a8-4f66-4aad-c526-e4e76886b839"
      },
      "execution_count": 4,
      "outputs": [
        {
          "output_type": "stream",
          "name": "stdout",
          "text": [
            "=== Using Hadamard (H) Gate ===\n",
            "Result using 'H' gate on both qubits: {'01': 20, '11': 28, '00': 28, '10': 24}\n",
            "\n",
            "=== Using X Gate ===\n",
            "Result using 'X' gate on both qubits: {'11': 100}\n"
          ]
        }
      ]
    },
    {
      "cell_type": "code",
      "source": [
        "#Task_1"
      ],
      "metadata": {
        "id": "sIoRJNFD88Wq"
      },
      "execution_count": 5,
      "outputs": []
    }
  ]
}