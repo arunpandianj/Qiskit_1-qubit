{
  "nbformat": 4,
  "nbformat_minor": 0,
  "metadata": {
    "colab": {
      "provenance": []
    },
    "kernelspec": {
      "name": "python3",
      "display_name": "Python 3"
    },
    "language_info": {
      "name": "python"
    }
  },
  "cells": [
    {
      "cell_type": "code",
      "source": [
        "!pip install qiskit qiskit-aer --upgrade"
      ],
      "metadata": {
        "id": "XLnNwi4n767M",
        "colab": {
          "base_uri": "https://localhost:8080/"
        },
        "outputId": "3b4bfba6-a143-4c86-f319-0190fe4f8a43"
      },
      "execution_count": 1,
      "outputs": [
        {
          "output_type": "stream",
          "name": "stdout",
          "text": [
            "Collecting qiskit\n",
            "  Downloading qiskit-2.2.1-cp39-abi3-manylinux2014_x86_64.manylinux_2_17_x86_64.whl.metadata (12 kB)\n",
            "Collecting qiskit-aer\n",
            "  Downloading qiskit_aer-0.17.2-cp312-cp312-manylinux_2_17_x86_64.manylinux2014_x86_64.whl.metadata (8.3 kB)\n",
            "Collecting rustworkx>=0.15.0 (from qiskit)\n",
            "  Downloading rustworkx-0.17.1-cp39-abi3-manylinux_2_17_x86_64.manylinux2014_x86_64.whl.metadata (10 kB)\n",
            "Requirement already satisfied: numpy<3,>=1.17 in /usr/local/lib/python3.12/dist-packages (from qiskit) (2.0.2)\n",
            "Requirement already satisfied: scipy>=1.5 in /usr/local/lib/python3.12/dist-packages (from qiskit) (1.16.2)\n",
            "Requirement already satisfied: dill>=0.3 in /usr/local/lib/python3.12/dist-packages (from qiskit) (0.3.8)\n",
            "Collecting stevedore>=3.0.0 (from qiskit)\n",
            "  Downloading stevedore-5.5.0-py3-none-any.whl.metadata (2.2 kB)\n",
            "Requirement already satisfied: typing-extensions in /usr/local/lib/python3.12/dist-packages (from qiskit) (4.15.0)\n",
            "Requirement already satisfied: psutil>=5 in /usr/local/lib/python3.12/dist-packages (from qiskit-aer) (5.9.5)\n",
            "Requirement already satisfied: python-dateutil>=2.8.0 in /usr/local/lib/python3.12/dist-packages (from qiskit-aer) (2.9.0.post0)\n",
            "Requirement already satisfied: six>=1.5 in /usr/local/lib/python3.12/dist-packages (from python-dateutil>=2.8.0->qiskit-aer) (1.17.0)\n",
            "Downloading qiskit-2.2.1-cp39-abi3-manylinux2014_x86_64.manylinux_2_17_x86_64.whl (8.0 MB)\n",
            "\u001b[2K   \u001b[90m━━━━━━━━━━━━━━━━━━━━━━━━━━━━━━━━━━━━━━━━\u001b[0m \u001b[32m8.0/8.0 MB\u001b[0m \u001b[31m50.9 MB/s\u001b[0m eta \u001b[36m0:00:00\u001b[0m\n",
            "\u001b[?25hDownloading qiskit_aer-0.17.2-cp312-cp312-manylinux_2_17_x86_64.manylinux2014_x86_64.whl (12.4 MB)\n",
            "\u001b[2K   \u001b[90m━━━━━━━━━━━━━━━━━━━━━━━━━━━━━━━━━━━━━━━━\u001b[0m \u001b[32m12.4/12.4 MB\u001b[0m \u001b[31m102.7 MB/s\u001b[0m eta \u001b[36m0:00:00\u001b[0m\n",
            "\u001b[?25hDownloading rustworkx-0.17.1-cp39-abi3-manylinux_2_17_x86_64.manylinux2014_x86_64.whl (2.2 MB)\n",
            "\u001b[2K   \u001b[90m━━━━━━━━━━━━━━━━━━━━━━━━━━━━━━━━━━━━━━━━\u001b[0m \u001b[32m2.2/2.2 MB\u001b[0m \u001b[31m44.8 MB/s\u001b[0m eta \u001b[36m0:00:00\u001b[0m\n",
            "\u001b[?25hDownloading stevedore-5.5.0-py3-none-any.whl (49 kB)\n",
            "\u001b[2K   \u001b[90m━━━━━━━━━━━━━━━━━━━━━━━━━━━━━━━━━━━━━━━━\u001b[0m \u001b[32m49.5/49.5 kB\u001b[0m \u001b[31m4.1 MB/s\u001b[0m eta \u001b[36m0:00:00\u001b[0m\n",
            "\u001b[?25hInstalling collected packages: stevedore, rustworkx, qiskit, qiskit-aer\n",
            "Successfully installed qiskit-2.2.1 qiskit-aer-0.17.2 rustworkx-0.17.1 stevedore-5.5.0\n"
          ]
        }
      ]
    },
    {
      "cell_type": "code",
      "source": [
        "from qiskit import QuantumCircuit\n",
        "from qiskit_aer import AerSimulator"
      ],
      "metadata": {
        "id": "QVSN-Kb77yL_"
      },
      "execution_count": 2,
      "outputs": []
    },
    {
      "cell_type": "code",
      "execution_count": 4,
      "metadata": {
        "id": "Pku2cOIo7qdL",
        "colab": {
          "base_uri": "https://localhost:8080/"
        },
        "outputId": "8a6eee5f-6190-4dc4-d161-a48bbec20a2b"
      },
      "outputs": [
        {
          "output_type": "stream",
          "name": "stdout",
          "text": [
            "\n",
            "Task 1 Result (1 qubit, Hadamard, 100 shots): {'1': 52, '0': 48}\n",
            "\n",
            "Task 2 Result (2 qubits, Hadamard on both, 100 shots): {'11': 21, '01': 28, '00': 23, '10': 28}\n",
            "\n",
            "Task 3 Result (2 qubits, X gates, 100 shots): {'11': 100}\n"
          ]
        }
      ],
      "source": [
        "from qiskit import QuantumCircuit\n",
        "from qiskit_aer import AerSimulator\n",
        "\n",
        "def main():\n",
        "    simulator = AerSimulator()\n",
        "\n",
        "    # --- Task 1: Single qubit, Hadamard, 100 shots ---\n",
        "    qc = QuantumCircuit(1, 1)\n",
        "    qc.h(0)\n",
        "    qc.measure(0, 0)\n",
        "    job = simulator.run(qc, shots=100)\n",
        "    result = job.result()\n",
        "    counts = result.get_counts(qc)\n",
        "    print(\"\\nTask 1 Result (1 qubit, Hadamard, 100 shots):\", counts)\n",
        "\n",
        "    # --- Task 2: Two qubits, Hadamard on both, 100 shots ---\n",
        "    qc = QuantumCircuit(2, 2)\n",
        "    qc.h(0)\n",
        "    qc.h(1)\n",
        "    qc.measure([0, 1], [0, 1])\n",
        "    job = simulator.run(qc, shots=100)\n",
        "    result = job.result()\n",
        "    counts = result.get_counts(qc)\n",
        "    print(\"\\nTask 2 Result (2 qubits, Hadamard on both, 100 shots):\", counts)\n",
        "\n",
        "    # --- Task 3: Two qubits, X gates instead of Hadamard ---\n",
        "    qc = QuantumCircuit(2, 2)\n",
        "    qc.x(0)\n",
        "    qc.x(1)\n",
        "    qc.measure([0, 1], [0, 1])\n",
        "    job = simulator.run(qc, shots=100)\n",
        "    result = job.result()\n",
        "    counts = result.get_counts(qc)\n",
        "    print(\"\\nTask 3 Result (2 qubits, X gates, 100 shots):\", counts)\n",
        "\n",
        "if __name__ == \"__main__\":\n",
        "    main()\n"
      ]
    },
    {
      "cell_type": "code",
      "source": [
        "if __name__ == \"__main__\":\n",
        "    main()"
      ],
      "metadata": {
        "id": "CANVVbFR8pgu",
        "colab": {
          "base_uri": "https://localhost:8080/"
        },
        "outputId": "d717087a-0c4e-42c0-b56f-09cd4e4f9bf6"
      },
      "execution_count": 7,
      "outputs": [
        {
          "output_type": "stream",
          "name": "stdout",
          "text": [
            "\n",
            "Task 1 Result (1 qubit, Hadamard, 100 shots): {'0': 56, '1': 44}\n",
            "\n",
            "Task 2 Result (2 qubits, Hadamard on both, 100 shots): {'01': 23, '11': 24, '00': 19, '10': 34}\n",
            "\n",
            "Task 3 Result (2 qubits, X gates, 100 shots): {'11': 100}\n"
          ]
        }
      ]
    },
    {
      "cell_type": "code",
      "source": [
        "#Task_1"
      ],
      "metadata": {
        "id": "sIoRJNFD88Wq"
      },
      "execution_count": null,
      "outputs": []
    }
  ]
}