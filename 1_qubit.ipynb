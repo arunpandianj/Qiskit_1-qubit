{
  "nbformat": 4,
  "nbformat_minor": 0,
  "metadata": {
    "colab": {
      "provenance": []
    },
    "kernelspec": {
      "name": "python3",
      "display_name": "Python 3"
    },
    "language_info": {
      "name": "python"
    }
  },
  "cells": [
    {
      "cell_type": "code",
      "source": [
        "!pip install qiskit qiskit-aer --upgrade"
      ],
      "metadata": {
        "id": "XLnNwi4n767M",
        "colab": {
          "base_uri": "https://localhost:8080/"
        },
        "outputId": "2f814d0a-a32c-4705-f0e3-849f8e7d49b0"
      },
      "execution_count": 1,
      "outputs": [
        {
          "output_type": "stream",
          "name": "stdout",
          "text": [
            "Requirement already satisfied: qiskit in /usr/local/lib/python3.12/dist-packages (2.2.1)\n",
            "Requirement already satisfied: qiskit-aer in /usr/local/lib/python3.12/dist-packages (0.17.2)\n",
            "Requirement already satisfied: rustworkx>=0.15.0 in /usr/local/lib/python3.12/dist-packages (from qiskit) (0.17.1)\n",
            "Requirement already satisfied: numpy<3,>=1.17 in /usr/local/lib/python3.12/dist-packages (from qiskit) (2.0.2)\n",
            "Requirement already satisfied: scipy>=1.5 in /usr/local/lib/python3.12/dist-packages (from qiskit) (1.16.2)\n",
            "Requirement already satisfied: dill>=0.3 in /usr/local/lib/python3.12/dist-packages (from qiskit) (0.3.8)\n",
            "Requirement already satisfied: stevedore>=3.0.0 in /usr/local/lib/python3.12/dist-packages (from qiskit) (5.5.0)\n",
            "Requirement already satisfied: typing-extensions in /usr/local/lib/python3.12/dist-packages (from qiskit) (4.15.0)\n",
            "Requirement already satisfied: psutil>=5 in /usr/local/lib/python3.12/dist-packages (from qiskit-aer) (5.9.5)\n",
            "Requirement already satisfied: python-dateutil>=2.8.0 in /usr/local/lib/python3.12/dist-packages (from qiskit-aer) (2.9.0.post0)\n",
            "Requirement already satisfied: six>=1.5 in /usr/local/lib/python3.12/dist-packages (from python-dateutil>=2.8.0->qiskit-aer) (1.17.0)\n"
          ]
        }
      ]
    },
    {
      "cell_type": "code",
      "source": [
        "from qiskit import QuantumCircuit\n",
        "from qiskit_aer import AerSimulator"
      ],
      "metadata": {
        "id": "QVSN-Kb77yL_"
      },
      "execution_count": 2,
      "outputs": []
    },
    {
      "cell_type": "code",
      "execution_count": 3,
      "metadata": {
        "id": "Pku2cOIo7qdL"
      },
      "outputs": [],
      "source": [
        "def main():\n",
        "    simulator = AerSimulator()\n",
        "\n",
        "    # --- Case 1: 1 qubit with Hadamard ---\n",
        "    qc1 = QuantumCircuit(1, 1)\n",
        "    qc1.h(0)  # Apply Hadamard\n",
        "    qc1.measure(0, 0)\n",
        "    result1 = simulator.run(qc1, shots=100).result()\n",
        "    counts1 = result1.get_counts(qc1)\n",
        "    print(\"1 Qubit with Hadamard (100 shots):\", counts1)\n",
        "\n",
        "    # --- Case 2: 2 qubits with Hadamard ---\n",
        "    qc2 = QuantumCircuit(2, 2)\n",
        "    qc2.h(0)\n",
        "    qc2.h(1)\n",
        "    qc2.measure([0, 1], [0, 1])\n",
        "    result2 = simulator.run(qc2, shots=100).result()\n",
        "    counts2 = result2.get_counts(qc2)\n",
        "    print(\"2 Qubits with Hadamard (100 shots):\", counts2)\n",
        "\n",
        "    # --- Case 3: 2 qubits with X gates ---\n",
        "    qc3 = QuantumCircuit(2, 2)\n",
        "    qc3.x(0)\n",
        "    qc3.x(1)\n",
        "    qc3.measure([0, 1], [0, 1])\n",
        "    result3 = simulator.run(qc3, shots=100).result()\n",
        "    counts3 = result3.get_counts(qc3)\n",
        "    print(\"2 Qubits with X gates (100 shots):\", counts3)\n"
      ]
    },
    {
      "cell_type": "code",
      "source": [
        "if __name__ == \"__main__\":\n",
        "    main()"
      ],
      "metadata": {
        "id": "CANVVbFR8pgu",
        "colab": {
          "base_uri": "https://localhost:8080/"
        },
        "outputId": "8c62c017-4e53-41d3-a59a-82e5d467f945"
      },
      "execution_count": 4,
      "outputs": [
        {
          "output_type": "stream",
          "name": "stdout",
          "text": [
            "1 Qubit with Hadamard (100 shots): {'1': 53, '0': 47}\n",
            "2 Qubits with Hadamard (100 shots): {'01': 27, '11': 21, '10': 25, '00': 27}\n",
            "2 Qubits with X gates (100 shots): {'11': 100}\n"
          ]
        }
      ]
    },
    {
      "cell_type": "code",
      "source": [
        "#Task_1"
      ],
      "metadata": {
        "id": "sIoRJNFD88Wq"
      },
      "execution_count": 5,
      "outputs": []
    }
  ]
}