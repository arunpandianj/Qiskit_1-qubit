{
  "nbformat": 4,
  "nbformat_minor": 0,
  "metadata": {
    "colab": {
      "provenance": []
    },
    "kernelspec": {
      "name": "python3",
      "display_name": "Python 3"
    },
    "language_info": {
      "name": "python"
    }
  },
  "cells": [
    {
      "cell_type": "code",
      "source": [
        "!pip install qiskit qiskit-aer --upgrade"
      ],
      "metadata": {
        "id": "XLnNwi4n767M"
      },
      "execution_count": null,
      "outputs": []
    },
    {
      "cell_type": "code",
      "source": [
        "from qiskit import QuantumCircuit\n",
        "from qiskit_aer import AerSimulator"
      ],
      "metadata": {
        "id": "QVSN-Kb77yL_"
      },
      "execution_count": null,
      "outputs": []
    },
    {
      "cell_type": "code",
      "execution_count": 17,
      "metadata": {
        "id": "Pku2cOIo7qdL"
      },
      "outputs": [],
      "source": [
        "def main():\n",
        "    # Create a 1-qubit, 1-classical-bit quantum circuit\n",
        "    qc = QuantumCircuit(1, 1)\n",
        "\n",
        "    # Apply Hadamard gate to put the qubit in superposition\n",
        "    qc.h(0)\n",
        "\n",
        "    # Measure the qubit\n",
        "    qc.measure(0, 0)\n",
        "\n",
        "    # Run on QASM simulator\n",
        "    simulator = AerSimulator()      # ✅ Create simulator instance\n",
        "    job = simulator.run(qc, shots=10)  # ✅ Use run() instead of execute()\n",
        "    result = job.result()\n",
        "\n",
        "    # Get measurement results\n",
        "    counts = result.get_counts(qc)\n",
        "    print(\"Quantum Circuit Result:\", counts)"
      ]
    },
    {
      "cell_type": "code",
      "source": [
        " #Task 1 : Change the number of shots to 100 and observe the result.\n",
        "  qc = QuantumCircuit(1, 1)\n",
        "\n",
        "  qc.h(0)\n",
        "\n",
        "\n",
        "  qc.measure(0, 0)\n",
        "\n",
        "\n",
        "  simulator = AerSimulator()\n",
        "  job = simulator.run(qc, shots=100)\n",
        "  result = job.result()\n",
        "\n",
        "    # Get measurement results\n",
        "  counts = result.get_counts(qc)\n",
        "  print(\"Quantum Circuit Result:\", counts)"
      ],
      "metadata": {
        "colab": {
          "base_uri": "https://localhost:8080/"
        },
        "id": "wzZP_EA-Ej6_",
        "outputId": "96f0e557-5779-413f-add3-877d5e56ca81"
      },
      "execution_count": 21,
      "outputs": [
        {
          "output_type": "stream",
          "name": "stdout",
          "text": [
            "Quantum Circuit Result: {'0': 52, '1': 48}\n"
          ]
        }
      ]
    },
    {
      "cell_type": "code",
      "source": [
        "#Task 2 : Add a second qubit, apply Hadamard gates to both qubits, measure, and print the result.\n",
        "qc = QuantumCircuit(1, 1)\n",
        "qc2 = QuantumCircuit(1,1)\n",
        "\n",
        "qc.h(0)\n",
        "qc2.h(0)\n",
        "\n",
        "qc.measure(0, 0)\n",
        "qc2.measure(0,0)\n",
        "\n",
        "\n",
        "simulator = AerSimulator()\n",
        "job = simulator.run(qc, shots=10)\n",
        "job2 = simulator.run(qc2,shots=100)\n",
        "result = job.result()\n",
        "result2 = job2.result()\n",
        "\n",
        "counts = result.get_counts(qc)\n",
        "counts2 = result2.get_counts(qc2)\n",
        "print(\"Quantum Circuit Result:\", counts)\n",
        "print(\"Quantum Circuit Result:\",counts2)"
      ],
      "metadata": {
        "colab": {
          "base_uri": "https://localhost:8080/"
        },
        "id": "ANx_Ia6MEqb9",
        "outputId": "13be38b2-17f8-4bc2-a91d-d06046a39517"
      },
      "execution_count": 32,
      "outputs": [
        {
          "output_type": "stream",
          "name": "stdout",
          "text": [
            "Quantum Circuit Result: {'0': 10}\n",
            "Quantum Circuit Result: {'0': 46, '1': 54}\n"
          ]
        }
      ]
    },
    {
      "cell_type": "code",
      "source": [
        "#Task 3 : Replace the Hadamard gate with an X gate and observe how the measurement changes.\n",
        "qc = QuantumCircuit(1, 1)\n",
        "qc.x(0)\n",
        "qc.measure(0, 0)\n",
        "\n",
        "simulator = AerSimulator()\n",
        "job = simulator.run(qc, shots=10)\n",
        "result = job.result()\n",
        "\n",
        "counts = result.get_counts(qc)\n",
        "print(\"Quantum Circuit Result:\", counts)"
      ],
      "metadata": {
        "colab": {
          "base_uri": "https://localhost:8080/"
        },
        "id": "U1H-0jPSE_gt",
        "outputId": "4a2d525c-a695-46f6-cd64-5a00b0d5877c"
      },
      "execution_count": 35,
      "outputs": [
        {
          "output_type": "stream",
          "name": "stdout",
          "text": [
            "Quantum Circuit Result: {'1': 10}\n"
          ]
        }
      ]
    },
    {
      "cell_type": "code",
      "source": [
        "if __name__ == \"__main__\":\n",
        "    main()"
      ],
      "metadata": {
        "id": "CANVVbFR8pgu",
        "colab": {
          "base_uri": "https://localhost:8080/"
        },
        "outputId": "675001a6-de01-4cdd-d043-753ed90e6be3"
      },
      "execution_count": 30,
      "outputs": [
        {
          "output_type": "stream",
          "name": "stdout",
          "text": [
            "Quantum Circuit Result: {'0': 4, '1': 6}\n"
          ]
        }
      ]
    },
    {
      "cell_type": "code",
      "source": [
        "#Task_1"
      ],
      "metadata": {
        "id": "sIoRJNFD88Wq"
      },
      "execution_count": null,
      "outputs": []
    }
  ]
}