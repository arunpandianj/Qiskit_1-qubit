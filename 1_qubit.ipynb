{
  "cells": [
    {
      "cell_type": "code",
      "execution_count": 17,
      "metadata": {
        "id": "XLnNwi4n767M"
      },
      "outputs": [
        {
          "name": "stdout",
          "output_type": "stream",
          "text": [
            "Requirement already satisfied: qiskit in c:\\users\\sugap\\appdata\\local\\packages\\pythonsoftwarefoundation.python.3.11_qbz5n2kfra8p0\\localcache\\local-packages\\python311\\site-packages (2.2.1)\n",
            "Requirement already satisfied: qiskit-aer in c:\\users\\sugap\\appdata\\local\\packages\\pythonsoftwarefoundation.python.3.11_qbz5n2kfra8p0\\localcache\\local-packages\\python311\\site-packages (0.17.2)\n",
            "Requirement already satisfied: rustworkx>=0.15.0 in c:\\users\\sugap\\appdata\\local\\packages\\pythonsoftwarefoundation.python.3.11_qbz5n2kfra8p0\\localcache\\local-packages\\python311\\site-packages (from qiskit) (0.17.1)\n",
            "Requirement already satisfied: numpy<3,>=1.17 in c:\\users\\sugap\\appdata\\local\\packages\\pythonsoftwarefoundation.python.3.11_qbz5n2kfra8p0\\localcache\\local-packages\\python311\\site-packages (from qiskit) (2.3.3)\n",
            "Requirement already satisfied: scipy>=1.5 in c:\\users\\sugap\\appdata\\local\\packages\\pythonsoftwarefoundation.python.3.11_qbz5n2kfra8p0\\localcache\\local-packages\\python311\\site-packages (from qiskit) (1.16.2)\n",
            "Requirement already satisfied: dill>=0.3 in c:\\users\\sugap\\appdata\\local\\packages\\pythonsoftwarefoundation.python.3.11_qbz5n2kfra8p0\\localcache\\local-packages\\python311\\site-packages (from qiskit) (0.4.0)\n",
            "Requirement already satisfied: stevedore>=3.0.0 in c:\\users\\sugap\\appdata\\local\\packages\\pythonsoftwarefoundation.python.3.11_qbz5n2kfra8p0\\localcache\\local-packages\\python311\\site-packages (from qiskit) (5.5.0)\n",
            "Requirement already satisfied: typing-extensions in c:\\users\\sugap\\appdata\\local\\packages\\pythonsoftwarefoundation.python.3.11_qbz5n2kfra8p0\\localcache\\local-packages\\python311\\site-packages (from qiskit) (4.14.1)\n",
            "Requirement already satisfied: psutil>=5 in c:\\users\\sugap\\appdata\\local\\packages\\pythonsoftwarefoundation.python.3.11_qbz5n2kfra8p0\\localcache\\local-packages\\python311\\site-packages (from qiskit-aer) (7.1.0)\n",
            "Requirement already satisfied: python-dateutil>=2.8.0 in c:\\users\\sugap\\appdata\\local\\packages\\pythonsoftwarefoundation.python.3.11_qbz5n2kfra8p0\\localcache\\local-packages\\python311\\site-packages (from qiskit-aer) (2.9.0.post0)\n",
            "Requirement already satisfied: six>=1.5 in c:\\users\\sugap\\appdata\\local\\packages\\pythonsoftwarefoundation.python.3.11_qbz5n2kfra8p0\\localcache\\local-packages\\python311\\site-packages (from python-dateutil>=2.8.0->qiskit-aer) (1.17.0)\n"
          ]
        }
      ],
      "source": [
        "!pip install qiskit qiskit-aer --upgrade"
      ]
    },
    {
      "cell_type": "code",
      "execution_count": 18,
      "metadata": {
        "id": "QVSN-Kb77yL_"
      },
      "outputs": [],
      "source": [
        "from qiskit import QuantumCircuit\n",
        "from qiskit_aer import AerSimulator"
      ]
    },
    {
      "cell_type": "code",
      "execution_count": null,
      "metadata": {
        "id": "CANVVbFR8pgu"
      },
      "outputs": [
        {
          "name": "stdout",
          "output_type": "stream",
          "text": [
            "\n",
            "=== Task 1: Single Qubit with Hadamard ===\n",
            "Single Qubit with Hadamard (100 shots): {'1 0': 48, '0 0': 52}\n",
            "\n",
            "=== Task 2: Two Qubits with Hadamard ===\n",
            "Two Qubits with Hadamard on both (100 shots): {'01 00': 23, '11 00': 15, '00 00': 26, '10 00': 36}\n",
            "\n",
            "=== Task 3: Two Qubits with X Gate ===\n",
            "Two Qubits with X gate on both (100 shots): {'11 00': 100}\n"
          ]
        }
      ],
      "source": [
        "from qiskit import QuantumCircuit\n",
        "from qiskit_aer import AerSimulator\n",
        "\n",
        "def single_qubit_hadamard():\n",
        "    qc = QuantumCircuit(1, 1)\n",
        "    qc.h(0)\n",
        "    qc.measure_all()\n",
        "\n",
        "    simulator = AerSimulator()\n",
        "    job = simulator.run(qc, shots=100)\n",
        "    result = job.result()\n",
        "    counts = result.get_counts(qc)\n",
        "    print(\"Single Qubit with Hadamard (100 shots):\", counts)\n",
        "\n",
        "\n",
        "def two_qubits_hadamard():\n",
        "    qc = QuantumCircuit(2, 2)\n",
        "    qc.h([0, 1])\n",
        "    qc.measure_all()\n",
        "\n",
        "    simulator = AerSimulator()\n",
        "    job = simulator.run(qc, shots=100)\n",
        "    result = job.result()\n",
        "    counts = result.get_counts(qc)\n",
        "    print(\"Two Qubits with Hadamard on both (100 shots):\", counts)\n",
        "\n",
        "\n",
        "def two_qubits_x_gate():\n",
        "    qc = QuantumCircuit(2, 2)\n",
        "    qc.x([0, 1])\n",
        "    qc.measure_all()\n",
        "\n",
        "    simulator = AerSimulator()\n",
        "    job = simulator.run(qc, shots=100)\n",
        "    result = job.result()\n",
        "    counts = result.get_counts(qc)\n",
        "    print(\"Two Qubits with X gate on both (100 shots):\", counts)\n",
        "\n",
        "\n",
        "if __name__ == \"__main__\":\n",
        "    print(\"Task 1: Single Qubit with Hadamard\")\n",
        "    single_qubit_hadamard()\n",
        "\n",
        "    print(\"Task 2: Two Qubits with Hadamard\")\n",
        "    two_qubits_hadamard()\n",
        "\n",
        "    print(\" Task 3: Two Qubits with X Gate\")\n",
        "    two_qubits_x_gate()\n"
      ]
    },
    {
      "cell_type": "code",
      "execution_count": null,
      "metadata": {
        "id": "sIoRJNFD88Wq"
      },
      "outputs": [],
      "source": []
    }
  ],
  "metadata": {
    "colab": {
      "provenance": []
    },
    "kernelspec": {
      "display_name": "Python 3",
      "name": "python3"
    },
    "language_info": {
      "codemirror_mode": {
        "name": "ipython",
        "version": 3
      },
      "file_extension": ".py",
      "mimetype": "text/x-python",
      "name": "python",
      "nbconvert_exporter": "python",
      "pygments_lexer": "ipython3",
      "version": "3.11.9"
    }
  },
  "nbformat": 4,
  "nbformat_minor": 0
}
