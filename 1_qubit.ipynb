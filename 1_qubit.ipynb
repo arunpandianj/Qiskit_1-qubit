{
  "nbformat": 4,
  "nbformat_minor": 0,
  "metadata": {
    "colab": {
      "provenance": []
    },
    "kernelspec": {
      "name": "python3",
      "display_name": "Python 3"
    },
    "language_info": {
      "name": "python"
    }
  },
  "cells": [
    {
      "cell_type": "code",
      "source": [
        "!pip install qiskit qiskit-aer --upgrade"
      ],
      "metadata": {
        "id": "XLnNwi4n767M",
        "colab": {
          "base_uri": "https://localhost:8080/"
        },
        "outputId": "22ec06fb-b18f-4db8-e440-49436d8db21d"
      },
      "execution_count": 12,
      "outputs": [
        {
          "output_type": "stream",
          "name": "stdout",
          "text": [
            "Requirement already satisfied: qiskit in /usr/local/lib/python3.12/dist-packages (2.2.1)\n",
            "Requirement already satisfied: qiskit-aer in /usr/local/lib/python3.12/dist-packages (0.17.2)\n",
            "Requirement already satisfied: rustworkx>=0.15.0 in /usr/local/lib/python3.12/dist-packages (from qiskit) (0.17.1)\n",
            "Requirement already satisfied: numpy<3,>=1.17 in /usr/local/lib/python3.12/dist-packages (from qiskit) (2.0.2)\n",
            "Requirement already satisfied: scipy>=1.5 in /usr/local/lib/python3.12/dist-packages (from qiskit) (1.16.2)\n",
            "Requirement already satisfied: dill>=0.3 in /usr/local/lib/python3.12/dist-packages (from qiskit) (0.3.8)\n",
            "Requirement already satisfied: stevedore>=3.0.0 in /usr/local/lib/python3.12/dist-packages (from qiskit) (5.5.0)\n",
            "Requirement already satisfied: typing-extensions in /usr/local/lib/python3.12/dist-packages (from qiskit) (4.15.0)\n",
            "Requirement already satisfied: psutil>=5 in /usr/local/lib/python3.12/dist-packages (from qiskit-aer) (5.9.5)\n",
            "Requirement already satisfied: python-dateutil>=2.8.0 in /usr/local/lib/python3.12/dist-packages (from qiskit-aer) (2.9.0.post0)\n",
            "Requirement already satisfied: six>=1.5 in /usr/local/lib/python3.12/dist-packages (from python-dateutil>=2.8.0->qiskit-aer) (1.17.0)\n"
          ]
        }
      ]
    },
    {
      "cell_type": "code",
      "source": [
        "from qiskit import QuantumCircuit\n",
        "from qiskit_aer import AerSimulator"
      ],
      "metadata": {
        "id": "QVSN-Kb77yL_"
      },
      "execution_count": 13,
      "outputs": []
    },
    {
      "cell_type": "code",
      "execution_count": 14,
      "metadata": {
        "id": "Pku2cOIo7qdL"
      },
      "outputs": [],
      "source": [
        "def main():\n",
        "    # Task 1\n",
        "    qc1 = QuantumCircuit(1, 1)\n",
        "    qc1.x(0)  # Apply Hadamard gate to put the qubit in superposition\n",
        "    qc1.measure(0, 0)  # Measure the qubit\n",
        "\n",
        "    # Run on QASM simulator\n",
        "    task1 = AerSimulator()      #  Create simulator instance\n",
        "    job = task1.run(qc1, shots=100)  #  Use run() instead of execute()\n",
        "    result1 = job.result()\n",
        "\n",
        "    # Task 2\n",
        "    qc2 = QuantumCircuit(2, 2)\n",
        "    qc2.h(0)                      # Apply Hadamard to qubit 0\n",
        "    qc2.h(1)                      # Apply Hadamard to qubit 1\n",
        "    qc2.measure([0, 1], [0, 1])\n",
        "\n",
        "    task2 = AerSimulator()\n",
        "    job = task2.run(qc2, shots=100)\n",
        "    result2 = job.result()\n",
        "\n",
        "    # Task 3\n",
        "\n",
        "    qc3 = QuantumCircuit(2, 2)\n",
        "    qc3.x(0)\n",
        "    qc3.x(1)\n",
        "    qc3.measure([0,1], [0, 1])\n",
        "\n",
        "    task3 = AerSimulator()\n",
        "    job = task3.run(qc3, shots=100)\n",
        "    result3 = job.result()\n",
        "\n",
        "    # Get measurement results\n",
        "    counts1 = result1.get_counts(qc1)\n",
        "    print(\"Quantum Circuit Result:\", counts1)\n",
        "\n",
        "    counts2 = result2.get_counts(qc2)\n",
        "    print(\"Quantum Circuit Result:\", counts2)\n",
        "\n",
        "    counts3 = result3.get_counts(qc3)\n",
        "    print(\"Quantum Circuit Result:\", counts3)"
      ]
    },
    {
      "cell_type": "code",
      "source": [
        "if __name__ == \"__main__\":\n",
        "    main()"
      ],
      "metadata": {
        "id": "CANVVbFR8pgu",
        "colab": {
          "base_uri": "https://localhost:8080/"
        },
        "outputId": "df45b933-14f7-4c1b-f20b-1420d76d39e1"
      },
      "execution_count": 15,
      "outputs": [
        {
          "output_type": "stream",
          "name": "stdout",
          "text": [
            "Quantum Circuit Result: {'1': 100}\n",
            "Quantum Circuit Result: {'01': 24, '11': 22, '10': 24, '00': 30}\n",
            "Quantum Circuit Result: {'11': 100}\n"
          ]
        }
      ]
    },
    {
      "cell_type": "code",
      "source": [
        "#Task_1"
      ],
      "metadata": {
        "id": "sIoRJNFD88Wq"
      },
      "execution_count": 16,
      "outputs": []
    }
  ]
}