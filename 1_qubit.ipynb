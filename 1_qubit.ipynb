{
 "nbformat": 4,
 "nbformat_minor": 0,
 "metadata": {
  "colab": {
   "provenance": []
  },
  "kernelspec": {
   "name": "python3",
   "display_name": "Python 3"
  },
  "language_info": {
   "name": "python"
  }
 },
 "cells": [
  {
   "cell_type": "code",
   "source": [
    "from qiskit import QuantumCircuit\n",
    "from qiskit_aer import AerSimulator"
   ],
   "metadata": {
    "id": "QVSN-Kb77yL_",
    "ExecuteTime": {
     "end_time": "2025-09-30T14:52:42.438946Z",
     "start_time": "2025-09-30T14:52:42.436399Z"
    }
   },
   "outputs": [],
   "execution_count": 182
  },
  {
   "cell_type": "code",
   "metadata": {
    "id": "Pku2cOIo7qdL",
    "ExecuteTime": {
     "end_time": "2025-09-30T14:52:42.451760Z",
     "start_time": "2025-09-30T14:52:42.448226Z"
    }
   },
   "source": [
    "def main():\n",
    "    # Create a 1-qubit, 1-classical-bit quantum circuit\n",
    "    qc = QuantumCircuit(1, 1)\n",
    "\n",
    "    # Apply a Hadamard gate to put the qubit in superposition\n",
    "    qc.h(0)\n",
    "\n",
    "    # Measure the qubit\n",
    "    qc.measure(0, 0)\n",
    "\n",
    "    # Run on QASM simulator\n",
    "    simulator = AerSimulator()      # ✅ Create simulator instance\n",
    "    job = simulator.run(qc, shots=10)  # ✅ Use run() instead of execute()\n",
    "    result = job.result()\n",
    "\n",
    "    # Get measurement results\n",
    "    counts = result.get_counts(qc)\n",
    "    print(\"Quantum Circuit Result:\", counts)"
   ],
   "outputs": [],
   "execution_count": 183
  },
  {
   "cell_type": "code",
   "source": [
    "if __name__ == \"__main__\":\n",
    "    main()"
   ],
   "metadata": {
    "id": "CANVVbFR8pgu",
    "ExecuteTime": {
     "end_time": "2025-09-30T14:52:42.467297Z",
     "start_time": "2025-09-30T14:52:42.461439Z"
    }
   },
   "outputs": [
    {
     "name": "stdout",
     "output_type": "stream",
     "text": [
      "Quantum Circuit Result: {'0': 7, '1': 3}\n"
     ]
    }
   ],
   "execution_count": 184
  },
  {
   "cell_type": "code",
   "source": [
    "#Task_1\n",
    "def main():\n",
    "    # Create a 1-qubit, 1-classical-bit quantum circuit\n",
    "    qc = QuantumCircuit(1, 1)\n",
    "\n",
    "    # Apply a Hadamard gate to put the qubit in superposition\n",
    "    qc.h(0)\n",
    "\n",
    "    # Measure the qubit\n",
    "    qc.measure(0, 0)\n",
    "\n",
    "    # Run on QASM simulator\n",
    "    simulator = AerSimulator()  # ✅ Create simulator instance\n",
    "    job = simulator.run(qc, shots=100)  # ✅ Use run() instead of execute()\n",
    "    result = job.result()\n",
    "\n",
    "    # Get measurement results\n",
    "    counts = result.get_counts(qc)\n",
    "    print(\"Quantum Circuit Result:\", counts)"
   ],
   "metadata": {
    "id": "sIoRJNFD88Wq",
    "ExecuteTime": {
     "end_time": "2025-09-30T14:52:42.479770Z",
     "start_time": "2025-09-30T14:52:42.476854Z"
    }
   },
   "outputs": [],
   "execution_count": 185
  },
  {
   "metadata": {
    "ExecuteTime": {
     "end_time": "2025-09-30T14:52:42.504467Z",
     "start_time": "2025-09-30T14:52:42.498587Z"
    }
   },
   "cell_type": "code",
   "source": [
    "if __name__ == \"__main__\":\n",
    "    main()"
   ],
   "outputs": [
    {
     "name": "stdout",
     "output_type": "stream",
     "text": [
      "Quantum Circuit Result: {'0': 58, '1': 42}\n"
     ]
    }
   ],
   "execution_count": 186
  },
  {
   "metadata": {
    "ExecuteTime": {
     "end_time": "2025-09-30T14:52:42.526784Z",
     "start_time": "2025-09-30T14:52:42.522989Z"
    }
   },
   "cell_type": "code",
   "source": [
    "#Task_2\n",
    "def main():\n",
    "    # Create a 1-qubit, 1-classical-bit quantum circuit\n",
    "    qc = QuantumCircuit(2, 2)\n",
    "\n",
    "    # Apply a Hadamard gate to put the qubit in superposition\n",
    "    qc.h(0)\n",
    "    qc.h(1)\n",
    "\n",
    "    # Measure the qubit\n",
    "    qc.measure(0, 0)\n",
    "    qc.measure(1, 1)\n",
    "\n",
    "    # Run on QASM simulator\n",
    "    simulator = AerSimulator()  # ✅ Create simulator instance\n",
    "    job = simulator.run(qc, shots=100)  # ✅ Use run() instead of execute()\n",
    "    result = job.result()\n",
    "\n",
    "    # Get measurement results\n",
    "    counts = result.get_counts(qc)\n",
    "    print(\"Quantum Circuit Result:\", counts)"
   ],
   "outputs": [],
   "execution_count": 187
  },
  {
   "metadata": {
    "ExecuteTime": {
     "end_time": "2025-09-30T14:52:42.540366Z",
     "start_time": "2025-09-30T14:52:42.535519Z"
    }
   },
   "cell_type": "code",
   "source": [
    "if __name__ == \"__main__\":\n",
    "    main()"
   ],
   "outputs": [
    {
     "name": "stdout",
     "output_type": "stream",
     "text": [
      "Quantum Circuit Result: {'10': 24, '11': 24, '00': 26, '01': 26}\n"
     ]
    }
   ],
   "execution_count": 188
  },
  {
   "metadata": {
    "ExecuteTime": {
     "end_time": "2025-09-30T14:52:42.556883Z",
     "start_time": "2025-09-30T14:52:42.553338Z"
    }
   },
   "cell_type": "code",
   "source": [
    "#Task_3\n",
    "def main():\n",
    "    # Create a 1-qubit, 1-classical-bit quantum circuit\n",
    "    qc = QuantumCircuit(2, 2)\n",
    "\n",
    "    # Apply a Hadamard gate to put the qubit in superposition\n",
    "    qc.x(0)\n",
    "    qc.x(1)\n",
    "\n",
    "    # Measure the qubit\n",
    "    qc.measure(0, 0)\n",
    "    qc.measure(1, 1)\n",
    "\n",
    "    # Run on QASM simulator\n",
    "    simulator = AerSimulator()  # ✅ Create simulator instance\n",
    "    job = simulator.run(qc, shots=100)  # ✅ Use run() instead of execute()\n",
    "    result = job.result()\n",
    "\n",
    "    # Get measurement results\n",
    "    counts = result.get_counts(qc)\n",
    "    print(\"Quantum Circuit Result:\", counts)"
   ],
   "outputs": [],
   "execution_count": 189
  },
  {
   "metadata": {
    "ExecuteTime": {
     "end_time": "2025-09-30T14:52:42.574681Z",
     "start_time": "2025-09-30T14:52:42.569865Z"
    }
   },
   "cell_type": "code",
   "source": [
    "if __name__ == \"__main__\":\n",
    "    main()"
   ],
   "outputs": [
    {
     "name": "stdout",
     "output_type": "stream",
     "text": [
      "Quantum Circuit Result: {'11': 100}\n"
     ]
    }
   ],
   "execution_count": 190
  }
 ]
}
