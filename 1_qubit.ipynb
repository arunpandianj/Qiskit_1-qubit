{
 "cells": [
  {
   "cell_type": "code",
   "execution_count": 1,
   "metadata": {
    "id": "XLnNwi4n767M"
   },
   "outputs": [
    {
     "name": "stdout",
     "output_type": "stream",
     "text": [
      "Collecting qiskit\n",
      "  Downloading qiskit-2.2.1-cp39-abi3-win_amd64.whl.metadata (13 kB)\n",
      "Collecting qiskit-aer\n",
      "  Downloading qiskit_aer-0.17.2-cp312-cp312-win_amd64.whl.metadata (8.5 kB)\n",
      "Collecting rustworkx>=0.15.0 (from qiskit)\n",
      "  Downloading rustworkx-0.17.1-cp39-abi3-win_amd64.whl.metadata (10 kB)\n",
      "Requirement already satisfied: numpy<3,>=1.17 in c:\\users\\prish\\anaconda3\\lib\\site-packages (from qiskit) (1.26.4)\n",
      "Requirement already satisfied: scipy>=1.5 in c:\\users\\prish\\anaconda3\\lib\\site-packages (from qiskit) (1.13.1)\n",
      "Requirement already satisfied: dill>=0.3 in c:\\users\\prish\\anaconda3\\lib\\site-packages (from qiskit) (0.3.8)\n",
      "Collecting stevedore>=3.0.0 (from qiskit)\n",
      "  Downloading stevedore-5.5.0-py3-none-any.whl.metadata (2.2 kB)\n",
      "Requirement already satisfied: typing-extensions in c:\\users\\prish\\anaconda3\\lib\\site-packages (from qiskit) (4.11.0)\n",
      "Requirement already satisfied: psutil>=5 in c:\\users\\prish\\anaconda3\\lib\\site-packages (from qiskit-aer) (5.9.0)\n",
      "Requirement already satisfied: python-dateutil>=2.8.0 in c:\\users\\prish\\anaconda3\\lib\\site-packages (from qiskit-aer) (2.9.0.post0)\n",
      "Requirement already satisfied: six>=1.5 in c:\\users\\prish\\anaconda3\\lib\\site-packages (from python-dateutil>=2.8.0->qiskit-aer) (1.16.0)\n",
      "Downloading qiskit-2.2.1-cp39-abi3-win_amd64.whl (7.8 MB)\n",
      "   ---------------------------------------- 0.0/7.8 MB ? eta -:--:--\n",
      "   ---------------------------------------- 0.0/7.8 MB ? eta -:--:--\n",
      "   - -------------------------------------- 0.3/7.8 MB ? eta -:--:--\n",
      "   -- ------------------------------------- 0.5/7.8 MB 1.2 MB/s eta 0:00:07\n",
      "   ---- ----------------------------------- 0.8/7.8 MB 1.3 MB/s eta 0:00:06\n",
      "   ----- ---------------------------------- 1.0/7.8 MB 1.3 MB/s eta 0:00:06\n",
      "   ------ --------------------------------- 1.3/7.8 MB 1.3 MB/s eta 0:00:06\n",
      "   --------- ------------------------------ 1.8/7.8 MB 1.3 MB/s eta 0:00:05\n",
      "   ---------- ----------------------------- 2.1/7.8 MB 1.3 MB/s eta 0:00:05\n",
      "   ------------ --------------------------- 2.4/7.8 MB 1.3 MB/s eta 0:00:05\n",
      "   ------------- -------------------------- 2.6/7.8 MB 1.3 MB/s eta 0:00:04\n",
      "   -------------- ------------------------- 2.9/7.8 MB 1.3 MB/s eta 0:00:04\n",
      "   ---------------- ----------------------- 3.1/7.8 MB 1.3 MB/s eta 0:00:04\n",
      "   ----------------- ---------------------- 3.4/7.8 MB 1.3 MB/s eta 0:00:04\n",
      "   ------------------ --------------------- 3.7/7.8 MB 1.3 MB/s eta 0:00:04\n",
      "   -------------------- ------------------- 3.9/7.8 MB 1.3 MB/s eta 0:00:03\n",
      "   --------------------- ------------------ 4.2/7.8 MB 1.3 MB/s eta 0:00:03\n",
      "   ---------------------- ----------------- 4.5/7.8 MB 1.3 MB/s eta 0:00:03\n",
      "   ------------------------- -------------- 5.0/7.8 MB 1.3 MB/s eta 0:00:03\n",
      "   --------------------------- ------------ 5.2/7.8 MB 1.3 MB/s eta 0:00:02\n",
      "   ---------------------------- ----------- 5.5/7.8 MB 1.3 MB/s eta 0:00:02\n",
      "   ----------------------------- ---------- 5.8/7.8 MB 1.3 MB/s eta 0:00:02\n",
      "   -------------------------------- ------- 6.3/7.8 MB 1.3 MB/s eta 0:00:02\n",
      "   --------------------------------- ------ 6.6/7.8 MB 1.3 MB/s eta 0:00:01\n",
      "   ----------------------------------- ---- 6.8/7.8 MB 1.3 MB/s eta 0:00:01\n",
      "   ------------------------------------ --- 7.1/7.8 MB 1.3 MB/s eta 0:00:01\n",
      "   ------------------------------------- -- 7.3/7.8 MB 1.3 MB/s eta 0:00:01\n",
      "   ---------------------------------------  7.6/7.8 MB 1.3 MB/s eta 0:00:01\n",
      "   ---------------------------------------- 7.8/7.8 MB 1.3 MB/s eta 0:00:00\n",
      "Downloading qiskit_aer-0.17.2-cp312-cp312-win_amd64.whl (9.6 MB)\n",
      "   ---------------------------------------- 0.0/9.6 MB ? eta -:--:--\n",
      "   - -------------------------------------- 0.3/9.6 MB ? eta -:--:--\n",
      "   -- ------------------------------------- 0.5/9.6 MB 1.3 MB/s eta 0:00:07\n",
      "   -- ------------------------------------- 0.5/9.6 MB 1.3 MB/s eta 0:00:07\n",
      "   --- ------------------------------------ 0.8/9.6 MB 1.2 MB/s eta 0:00:08\n",
      "   ---- ----------------------------------- 1.0/9.6 MB 949.8 kB/s eta 0:00:09\n",
      "   ----- ---------------------------------- 1.3/9.6 MB 1.0 MB/s eta 0:00:09\n",
      "   ------ --------------------------------- 1.6/9.6 MB 1.1 MB/s eta 0:00:08\n",
      "   ------- -------------------------------- 1.8/9.6 MB 1.1 MB/s eta 0:00:08\n",
      "   -------- ------------------------------- 2.1/9.6 MB 1.1 MB/s eta 0:00:07\n",
      "   --------- ------------------------------ 2.4/9.6 MB 1.1 MB/s eta 0:00:07\n",
      "   ---------- ----------------------------- 2.6/9.6 MB 1.2 MB/s eta 0:00:07\n",
      "   ------------ --------------------------- 2.9/9.6 MB 1.2 MB/s eta 0:00:06\n",
      "   ------------- -------------------------- 3.1/9.6 MB 1.2 MB/s eta 0:00:06\n",
      "   -------------- ------------------------- 3.4/9.6 MB 1.2 MB/s eta 0:00:06\n",
      "   --------------- ------------------------ 3.7/9.6 MB 1.2 MB/s eta 0:00:05\n",
      "   ---------------- ----------------------- 3.9/9.6 MB 1.2 MB/s eta 0:00:05\n",
      "   ----------------- ---------------------- 4.2/9.6 MB 1.2 MB/s eta 0:00:05\n",
      "   ------------------ --------------------- 4.5/9.6 MB 1.2 MB/s eta 0:00:05\n",
      "   ------------------- -------------------- 4.7/9.6 MB 1.2 MB/s eta 0:00:05\n",
      "   -------------------- ------------------- 5.0/9.6 MB 1.2 MB/s eta 0:00:04\n",
      "   --------------------- ------------------ 5.2/9.6 MB 1.2 MB/s eta 0:00:04\n",
      "   ----------------------- ---------------- 5.5/9.6 MB 1.2 MB/s eta 0:00:04\n",
      "   ------------------------ --------------- 5.8/9.6 MB 1.2 MB/s eta 0:00:04\n",
      "   ------------------------- -------------- 6.0/9.6 MB 1.2 MB/s eta 0:00:03\n",
      "   --------------------------- ------------ 6.6/9.6 MB 1.2 MB/s eta 0:00:03\n",
      "   ---------------------------- ----------- 6.8/9.6 MB 1.2 MB/s eta 0:00:03\n",
      "   ----------------------------- ---------- 7.1/9.6 MB 1.2 MB/s eta 0:00:03\n",
      "   ------------------------------ --------- 7.3/9.6 MB 1.2 MB/s eta 0:00:02\n",
      "   ------------------------------- -------- 7.6/9.6 MB 1.2 MB/s eta 0:00:02\n",
      "   ------------------------------- -------- 7.6/9.6 MB 1.2 MB/s eta 0:00:02\n",
      "   -------------------------------- ------- 7.9/9.6 MB 1.2 MB/s eta 0:00:02\n",
      "   ----------------------------------- ---- 8.4/9.6 MB 1.2 MB/s eta 0:00:01\n",
      "   ------------------------------------ --- 8.7/9.6 MB 1.2 MB/s eta 0:00:01\n",
      "   ------------------------------------- -- 8.9/9.6 MB 1.2 MB/s eta 0:00:01\n",
      "   -------------------------------------- - 9.2/9.6 MB 1.2 MB/s eta 0:00:01\n",
      "   ---------------------------------------  9.4/9.6 MB 1.2 MB/s eta 0:00:01\n",
      "   ---------------------------------------- 9.6/9.6 MB 1.2 MB/s eta 0:00:00\n",
      "Downloading rustworkx-0.17.1-cp39-abi3-win_amd64.whl (2.1 MB)\n",
      "   ---------------------------------------- 0.0/2.1 MB ? eta -:--:--\n",
      "   ----- ---------------------------------- 0.3/2.1 MB ? eta -:--:--\n",
      "   ---------- ----------------------------- 0.5/2.1 MB 1.3 MB/s eta 0:00:02\n",
      "   --------------- ------------------------ 0.8/2.1 MB 1.2 MB/s eta 0:00:02\n",
      "   -------------------- ------------------- 1.0/2.1 MB 1.2 MB/s eta 0:00:01\n",
      "   ------------------------- -------------- 1.3/2.1 MB 1.2 MB/s eta 0:00:01\n",
      "   ------------------------------ --------- 1.6/2.1 MB 1.3 MB/s eta 0:00:01\n",
      "   ------------------------------ --------- 1.6/2.1 MB 1.3 MB/s eta 0:00:01\n",
      "   ---------------------------------------- 2.1/2.1 MB 1.2 MB/s eta 0:00:00\n",
      "Downloading stevedore-5.5.0-py3-none-any.whl (49 kB)\n",
      "Installing collected packages: stevedore, rustworkx, qiskit, qiskit-aer\n",
      "Successfully installed qiskit-2.2.1 qiskit-aer-0.17.2 rustworkx-0.17.1 stevedore-5.5.0\n"
     ]
    }
   ],
   "source": [
    "!pip install qiskit qiskit-aer --upgrade"
   ]
  },
  {
   "cell_type": "code",
   "execution_count": 3,
   "metadata": {
    "id": "QVSN-Kb77yL_"
   },
   "outputs": [],
   "source": [
    "from qiskit import QuantumCircuit\n",
    "from qiskit_aer import AerSimulator"
   ]
  },
  {
   "cell_type": "code",
   "execution_count": 19,
   "metadata": {
    "id": "Pku2cOIo7qdL"
   },
   "outputs": [],
   "source": [
    "from qiskit import QuantumCircuit\n",
    "from qiskit_aer import AerSimulator\n",
    "\n",
    "def single_qubit_hadamard():\n",
    "   \n",
    "    qc = QuantumCircuit(1, 1)\n",
    "    qc.h(0)\n",
    "    qc.measure_all()\n",
    "\n",
    "    simulator = AerSimulator()\n",
    "    job = simulator.run(qc, shots=100)\n",
    "    result = job.result()\n",
    "    counts = result.get_counts(qc)\n",
    "    print(\"Single Qubit with Hadamard (100 shots):\", counts)\n",
    "\n",
    "\n",
    "def two_qubits_hadamard():\n",
    "   \n",
    "    qc = QuantumCircuit(2, 2)\n",
    "    qc.h([0, 1])\n",
    "    qc.measure_all()\n",
    "\n",
    "    simulator = AerSimulator()\n",
    "    job = simulator.run(qc, shots=100)\n",
    "    result = job.result()\n",
    "    counts = result.get_counts(qc)\n",
    "    print(\"Two Qubits with Hadamard on both (100 shots):\", counts)\n",
    "\n",
    "\n",
    "def two_qubits_x_gate():\n",
    "    \n",
    "    qc = QuantumCircuit(2, 2)\n",
    "    qc.x([0, 1])\n",
    "    qc.measure_all()\n",
    "\n",
    "    simulator = AerSimulator()\n",
    "    job = simulator.run(qc, shots=100)\n",
    "    result = job.result()\n",
    "    counts = result.get_counts(qc)\n",
    "    print(\"Two Qubits with X gate on both (100 shots):\", counts)\n",
    "\n",
    "\n"
   ]
  },
  {
   "cell_type": "code",
   "execution_count": 21,
   "metadata": {},
   "outputs": [
    {
     "name": "stdout",
     "output_type": "stream",
     "text": [
      "Task 1: Single Qubit with Hadamard\n",
      "Single Qubit with Hadamard (100 shots): {'0 0': 57, '1 0': 43}\n",
      "Task 2: Two Qubits with Hadamard \n",
      "Two Qubits with Hadamard on both (100 shots): {'00 00': 31, '10 00': 31, '01 00': 19, '11 00': 19}\n",
      " Task 3: Two Qubits with X Gate \n",
      "Two Qubits with X gate on both (100 shots): {'11 00': 100}\n"
     ]
    }
   ],
   "source": [
    "if __name__ == \"__main__\":\n",
    "    print(\"Task 1: Single Qubit with Hadamard\")\n",
    "    single_qubit_hadamard()\n",
    "\n",
    "    print(\"Task 2: Two Qubits with Hadamard \")\n",
    "    two_qubits_hadamard()\n",
    "\n",
    "    print(\" Task 3: Two Qubits with X Gate \")\n",
    "    two_qubits_x_gate()"
   ]
  },
  {
   "cell_type": "code",
   "execution_count": null,
   "metadata": {},
   "outputs": [],
   "source": []
  }
 ],
 "metadata": {
  "colab": {
   "provenance": []
  },
  "kernelspec": {
   "display_name": "Python 3 (ipykernel)",
   "language": "python",
   "name": "python3"
  },
  "language_info": {
   "codemirror_mode": {
    "name": "ipython",
    "version": 3
   },
   "file_extension": ".py",
   "mimetype": "text/x-python",
   "name": "python",
   "nbconvert_exporter": "python",
   "pygments_lexer": "ipython3",
   "version": "3.12.7"
  }
 },
 "nbformat": 4,
 "nbformat_minor": 4
}
