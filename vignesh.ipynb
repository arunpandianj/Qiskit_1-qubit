{
  "nbformat": 4,
  "nbformat_minor": 0,
  "metadata": {
    "colab": {
      "provenance": []
    },
    "kernelspec": {
      "name": "python3",
      "display_name": "Python 3"
    },
    "language_info": {
      "name": "python"
    }
  },
  "cells": [
    {
      "cell_type": "code",
      "execution_count": 1,
      "metadata": {
        "colab": {
          "base_uri": "https://localhost:8080/"
        },
        "id": "OblMmTUmiMq3",
        "outputId": "d69f8a3b-3269-40bd-8804-7c3c2ceab764"
      },
      "outputs": [
        {
          "output_type": "stream",
          "name": "stdout",
          "text": [
            "Collecting qiskit\n",
            "  Downloading qiskit-2.2.1-cp39-abi3-manylinux2014_x86_64.manylinux_2_17_x86_64.whl.metadata (12 kB)\n",
            "Collecting qiskit-aer\n",
            "  Downloading qiskit_aer-0.17.2-cp312-cp312-manylinux_2_17_x86_64.manylinux2014_x86_64.whl.metadata (8.3 kB)\n",
            "Collecting rustworkx>=0.15.0 (from qiskit)\n",
            "  Downloading rustworkx-0.17.1-cp39-abi3-manylinux_2_17_x86_64.manylinux2014_x86_64.whl.metadata (10 kB)\n",
            "Requirement already satisfied: numpy<3,>=1.17 in /usr/local/lib/python3.12/dist-packages (from qiskit) (2.0.2)\n",
            "Requirement already satisfied: scipy>=1.5 in /usr/local/lib/python3.12/dist-packages (from qiskit) (1.16.2)\n",
            "Requirement already satisfied: dill>=0.3 in /usr/local/lib/python3.12/dist-packages (from qiskit) (0.3.8)\n",
            "Collecting stevedore>=3.0.0 (from qiskit)\n",
            "  Downloading stevedore-5.5.0-py3-none-any.whl.metadata (2.2 kB)\n",
            "Requirement already satisfied: typing-extensions in /usr/local/lib/python3.12/dist-packages (from qiskit) (4.15.0)\n",
            "Requirement already satisfied: psutil>=5 in /usr/local/lib/python3.12/dist-packages (from qiskit-aer) (5.9.5)\n",
            "Requirement already satisfied: python-dateutil>=2.8.0 in /usr/local/lib/python3.12/dist-packages (from qiskit-aer) (2.9.0.post0)\n",
            "Requirement already satisfied: six>=1.5 in /usr/local/lib/python3.12/dist-packages (from python-dateutil>=2.8.0->qiskit-aer) (1.17.0)\n",
            "Downloading qiskit-2.2.1-cp39-abi3-manylinux2014_x86_64.manylinux_2_17_x86_64.whl (8.0 MB)\n",
            "\u001b[2K   \u001b[90m━━━━━━━━━━━━━━━━━━━━━━━━━━━━━━━━━━━━━━━━\u001b[0m \u001b[32m8.0/8.0 MB\u001b[0m \u001b[31m33.6 MB/s\u001b[0m eta \u001b[36m0:00:00\u001b[0m\n",
            "\u001b[?25hDownloading qiskit_aer-0.17.2-cp312-cp312-manylinux_2_17_x86_64.manylinux2014_x86_64.whl (12.4 MB)\n",
            "\u001b[2K   \u001b[90m━━━━━━━━━━━━━━━━━━━━━━━━━━━━━━━━━━━━━━━━\u001b[0m \u001b[32m12.4/12.4 MB\u001b[0m \u001b[31m50.4 MB/s\u001b[0m eta \u001b[36m0:00:00\u001b[0m\n",
            "\u001b[?25hDownloading rustworkx-0.17.1-cp39-abi3-manylinux_2_17_x86_64.manylinux2014_x86_64.whl (2.2 MB)\n",
            "\u001b[2K   \u001b[90m━━━━━━━━━━━━━━━━━━━━━━━━━━━━━━━━━━━━━━━━\u001b[0m \u001b[32m2.2/2.2 MB\u001b[0m \u001b[31m23.6 MB/s\u001b[0m eta \u001b[36m0:00:00\u001b[0m\n",
            "\u001b[?25hDownloading stevedore-5.5.0-py3-none-any.whl (49 kB)\n",
            "\u001b[2K   \u001b[90m━━━━━━━━━━━━━━━━━━━━━━━━━━━━━━━━━━━━━━━━\u001b[0m \u001b[32m49.5/49.5 kB\u001b[0m \u001b[31m1.7 MB/s\u001b[0m eta \u001b[36m0:00:00\u001b[0m\n",
            "\u001b[?25hInstalling collected packages: stevedore, rustworkx, qiskit, qiskit-aer\n",
            "Successfully installed qiskit-2.2.1 qiskit-aer-0.17.2 rustworkx-0.17.1 stevedore-5.5.0\n"
          ]
        }
      ],
      "source": [
        "!pip install qiskit qiskit-aer --upgrade"
      ]
    },
    {
      "cell_type": "code",
      "source": [
        "from qiskit import QuantumCircuit\n",
        "from qiskit_aer import AerSimulator"
      ],
      "metadata": {
        "id": "o4oeREspiQYn"
      },
      "execution_count": 2,
      "outputs": []
    },
    {
      "cell_type": "code",
      "source": [
        "def main():\n",
        "    # Create a 1-qubit, 1-classical-bit quantum circuit\n",
        "    qc = QuantumCircuit(1, 1)\n",
        "\n",
        "    # Apply Hadamard gate to put the qubit in superposition\n",
        "    qc.x(0)\n",
        "\n",
        "    # Measure the qubit\n",
        "    qc.measure(0, 0)\n",
        "\n",
        "    # Run on QASM simulator\n",
        "    simulator = AerSimulator()      # ✅ Create simulator instance\n",
        "    job = simulator.run(qc, shots=100)  # ✅ Use run() instead of execute()\n",
        "    result = job.result()\n",
        "\n",
        "    # Get measurement results\n",
        "    counts = result.get_counts(qc)\n",
        "    print(\"Quantum Circuit Result:\", counts)\n",
        "\n",
        ""
      ],
      "metadata": {
        "id": "aVlXbQZEiUEP"
      },
      "execution_count": 7,
      "outputs": []
    },
    {
      "cell_type": "code",
      "source": [
        "if __name__ == \"__main__\":\n",
        "    main()"
      ],
      "metadata": {
        "colab": {
          "base_uri": "https://localhost:8080/"
        },
        "id": "KcLrCPhAimgu",
        "outputId": "b237d055-c17c-4ad6-edf9-fed5fc938ffa"
      },
      "execution_count": 8,
      "outputs": [
        {
          "output_type": "stream",
          "name": "stdout",
          "text": [
            "Quantum Circuit Result: {'1': 100}\n"
          ]
        }
      ]
    },
    {
      "cell_type": "code",
      "source": [
        "# Make sure to include these imports at the top of your file\n",
        "from qiskit import QuantumCircuit\n",
        "from qiskit_aer import AerSimulator\n",
        "\n",
        "def main():\n",
        "    simulator = AerSimulator()\n",
        "    print(\"Name: vignesh .b\\nRegno: 22MIS0078\")\n",
        "\n",
        "    # ------------------ Task 1 ------------------\n",
        "    # A qubit starts in state |0>. The X gate flips it to |1>.\n",
        "    # The result should always be '1'.\n",
        "    qc1 = QuantumCircuit(1, 1)\n",
        "    qc1.x(0)\n",
        "    qc1.measure(0, 0)\n",
        "\n",
        "    job1 = simulator.run(qc1, shots=100)\n",
        "    result1 = job1.result()\n",
        "    counts1 = result1.get_counts(qc1)\n",
        "    print(\"\\nTask 1 - Single Qubit with X gate (100 shots):\", counts1)\n",
        "\n",
        "\n",
        "    # ------------------ Task 2 ------------------\n",
        "    # The Hadamard (H) gate puts qubits in an equal superposition.\n",
        "    # The outcomes '00', '01', '10', '11' should appear in roughly equal numbers.\n",
        "    qc2 = QuantumCircuit(2, 2)\n",
        "    qc2.h(0)\n",
        "    qc2.h(1)\n",
        "    qc2.measure([0, 1], [0, 1])\n",
        "\n",
        "    job2 = simulator.run(qc2, shots=100)\n",
        "    result2 = job2.result()\n",
        "    counts2 = result2.get_counts(qc2)\n",
        "    print(\"Task 2 - Two Qubits with Hadamard (100 shots):\", counts2)\n",
        "\n",
        "\n",
        "    # ------------------ Task 3 ------------------\n",
        "    # Both qubits start in state |0>. The X gate flips them both to |1>.\n",
        "    # The result should always be '11'.\n",
        "    qc3 = QuantumCircuit(2, 2)\n",
        "    qc3.x(0)\n",
        "    qc3.x(1)\n",
        "    qc3.measure([0, 1], [0, 1])\n",
        "\n",
        "    job3 = simulator.run(qc3, shots=100)\n",
        "    result3 = job3.result()\n",
        "    counts3 = result3.get_counts(qc3)\n",
        "    print(\"Task 3 - Two Qubits with X gates (100 shots):\", counts3)\n",
        "\n",
        "# CORRECTED LINE: Use __main__ with double underscores\n",
        "if __name__ == \"__main__\":\n",
        "    main()"
      ],
      "metadata": {
        "colab": {
          "base_uri": "https://localhost:8080/"
        },
        "id": "P42dtye4iq0Z",
        "outputId": "6af20fa6-a95e-4de2-a3e8-7d5633aceccd"
      },
      "execution_count": 9,
      "outputs": [
        {
          "output_type": "stream",
          "name": "stdout",
          "text": [
            "Name: vignesh .b\n",
            "Regno: 22MIS0078\n",
            "\n",
            "Task 1 - Single Qubit with X gate (100 shots): {'1': 100}\n",
            "Task 2 - Two Qubits with Hadamard (100 shots): {'11': 20, '01': 29, '10': 28, '00': 23}\n",
            "Task 3 - Two Qubits with X gates (100 shots): {'11': 100}\n"
          ]
        }
      ]
    }
  ]
}