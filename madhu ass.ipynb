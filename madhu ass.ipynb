{
  "nbformat": 4,
  "nbformat_minor": 0,
  "metadata": {
    "colab": {
      "provenance": []
    },
    "kernelspec": {
      "name": "python3",
      "display_name": "Python 3"
    },
    "language_info": {
      "name": "python"
    }
  },
  "cells": [
    {
      "cell_type": "code",
      "execution_count": 25,
      "metadata": {
        "colab": {
          "base_uri": "https://localhost:8080/"
        },
        "id": "Yy9b7eC_EZdG",
        "outputId": "a559de56-8740-42d8-d215-f23e0643568f"
      },
      "outputs": [
        {
          "output_type": "stream",
          "name": "stdout",
          "text": [
            "Requirement already satisfied: qiskit in /usr/local/lib/python3.12/dist-packages (2.2.1)\n",
            "Requirement already satisfied: qiskit-aer in /usr/local/lib/python3.12/dist-packages (0.17.2)\n",
            "Requirement already satisfied: rustworkx>=0.15.0 in /usr/local/lib/python3.12/dist-packages (from qiskit) (0.17.1)\n",
            "Requirement already satisfied: numpy<3,>=1.17 in /usr/local/lib/python3.12/dist-packages (from qiskit) (2.0.2)\n",
            "Requirement already satisfied: scipy>=1.5 in /usr/local/lib/python3.12/dist-packages (from qiskit) (1.16.2)\n",
            "Requirement already satisfied: dill>=0.3 in /usr/local/lib/python3.12/dist-packages (from qiskit) (0.3.8)\n",
            "Requirement already satisfied: stevedore>=3.0.0 in /usr/local/lib/python3.12/dist-packages (from qiskit) (5.5.0)\n",
            "Requirement already satisfied: typing-extensions in /usr/local/lib/python3.12/dist-packages (from qiskit) (4.15.0)\n",
            "Requirement already satisfied: psutil>=5 in /usr/local/lib/python3.12/dist-packages (from qiskit-aer) (5.9.5)\n",
            "Requirement already satisfied: python-dateutil>=2.8.0 in /usr/local/lib/python3.12/dist-packages (from qiskit-aer) (2.9.0.post0)\n",
            "Requirement already satisfied: six>=1.5 in /usr/local/lib/python3.12/dist-packages (from python-dateutil>=2.8.0->qiskit-aer) (1.17.0)\n"
          ]
        }
      ],
      "source": [
        "!pip install qiskit qiskit-aer --upgrade"
      ]
    },
    {
      "cell_type": "code",
      "source": [],
      "metadata": {
        "id": "Ij7ROQdIHqwC"
      },
      "execution_count": null,
      "outputs": []
    },
    {
      "cell_type": "code",
      "source": [],
      "metadata": {
        "id": "suXy8ERzHr_5"
      },
      "execution_count": null,
      "outputs": []
    },
    {
      "cell_type": "code",
      "source": [
        "from qiskit import QuantumCircuit\n",
        "from qiskit_aer import AerSimulator"
      ],
      "metadata": {
        "id": "0KiijQSUFFG9"
      },
      "execution_count": 27,
      "outputs": []
    },
    {
      "cell_type": "code",
      "source": [
        "if __name__ == \"__main__\":\n",
        "    main()\n"
      ],
      "metadata": {
        "colab": {
          "base_uri": "https://localhost:8080/"
        },
        "id": "xJHWD-ZKFO2J",
        "outputId": "f6df9d53-2cd2-4adf-8284-0a23d1347a52"
      },
      "execution_count": 28,
      "outputs": [
        {
          "output_type": "stream",
          "name": "stdout",
          "text": [
            "Quantum Circuit Result: {'1': 44, '0': 56}\n",
            "Quantum Circuit Result (Task 2): {'01': 1, '00': 2, '10': 3, '11': 4}\n",
            "Quantum Circuit Result (Task 3): {'1': 10}\n"
          ]
        }
      ]
    },
    {
      "cell_type": "code",
      "source": [
        "from google.colab import drive\n",
        "drive.mount('/content/drive')"
      ],
      "metadata": {
        "id": "RCPRc945MKr7"
      },
      "execution_count": null,
      "outputs": []
    },
    {
      "cell_type": "code",
      "source": [
        "def main():\n",
        "    # Task 1\n",
        "    # Create a 1-qubit, 1-classical-bit quantum circuit\n",
        "    qc = QuantumCircuit(1, 1)\n",
        "\n",
        "    # Apply Hadamard gate to put the qubit in superposition\n",
        "    qc.h(0)\n",
        "\n",
        "    # Measure the qubit\n",
        "    qc.measure(0, 0)\n",
        "\n",
        "    # Run on QASM simulator\n",
        "    simulator = AerSimulator()      # ✅ Create simulator instance\n",
        "    job = simulator.run(qc, shots=100)  # ✅ Use run() instead of execute()\n",
        "    result = job.result ()\n",
        "    # Get measurement results\n",
        "    counts = result.get_counts(qc)\n",
        "    print(\"Quantum Circuit Result:\", counts)\n",
        "\n",
        "    # Task 2\n",
        "    # Create a 2-qubit, 2-classical-bit quantum circuit\n",
        "    qc2 = QuantumCircuit(2, 2)\n",
        "\n",
        "    # Apply Hadamard gate to put the qubits in superposition\n",
        "    qc2.h([0, 1])\n",
        "\n",
        "    # Measure the qubits\n",
        "    qc2.measure([0, 1], [0, 1])\n",
        "\n",
        "    # Run on QASM simulator\n",
        "    job2 = simulator.run(qc2, shots=10)  # ✅ Use run() instead of execute()\n",
        "    result2 = job2.result()\n",
        "\n",
        "    # Get measurement results\n",
        "    counts2 = result2.get_counts(qc2) # Corrected to use result2\n",
        "    print(\"Quantum Circuit Result (Task 2):\", counts2)\n",
        "\n",
        "    # Task 3\n",
        "    # Create a 1-qubit, 1-classical-bit quantum circuit\n",
        "    qc3 = QuantumCircuit(1, 1)\n",
        "\n",
        "    # Apply X gate\n",
        "    qc3.x(0)\n",
        "\n",
        "    # Measure the qubit\n",
        "    qc3.measure(0, 0)\n",
        "\n",
        "    # Run on QASM simulator\n",
        "    job3 = simulator.run(qc3, shots=10)  # ✅ Use run() instead of execute()\n",
        "    result3 = job3.result()\n",
        "\n",
        "    # Get measurement results\n",
        "    counts3 = result3.get_counts(qc3)\n",
        "    print(\"Quantum Circuit Result (Task 3):\", counts3)"
      ],
      "metadata": {
        "id": "rOQx8w3oFO4d"
      },
      "execution_count": 31,
      "outputs": []
    },
    {
      "cell_type": "code",
      "source": [
        "if __name__ == \"__main__\":\n",
        "    main()"
      ],
      "metadata": {
        "colab": {
          "base_uri": "https://localhost:8080/"
        },
        "id": "-z_xIzDRFT83",
        "outputId": "6ca3059b-1ba8-43d2-e3bb-4b8dbeae40fc"
      },
      "execution_count": 30,
      "outputs": [
        {
          "output_type": "stream",
          "name": "stdout",
          "text": [
            "Quantum Circuit Result: {'1': 61, '0': 39}\n",
            "Quantum Circuit Result (Task 2): {'11': 2, '01': 2, '10': 3, '00': 3}\n",
            "Quantum Circuit Result (Task 3): {'1': 10}\n"
          ]
        }
      ]
    },
    {
      "cell_type": "code",
      "source": [],
      "metadata": {
        "id": "ycTCZQRCGAyw"
      },
      "execution_count": null,
      "outputs": []
    }
  ]
}