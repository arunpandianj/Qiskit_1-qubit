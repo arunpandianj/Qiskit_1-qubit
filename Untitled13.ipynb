{
  "nbformat": 4,
  "nbformat_minor": 0,
  "metadata": {
    "colab": {
      "provenance": []
    },
    "kernelspec": {
      "name": "python3",
      "display_name": "Python 3"
    },
    "language_info": {
      "name": "python"
    }
  },
  "cells": [
    {
      "cell_type": "code",
      "execution_count": 5,
      "metadata": {
        "colab": {
          "base_uri": "https://localhost:8080/"
        },
        "id": "_0OqAm2nkLRs",
        "outputId": "9b1117c4-2d15-4fb7-80de-92bf599b657c"
      },
      "outputs": [
        {
          "output_type": "stream",
          "name": "stdout",
          "text": [
            "Requirement already satisfied: qiskit in /usr/local/lib/python3.12/dist-packages (2.2.1)\n",
            "Requirement already satisfied: qiskit-aer in /usr/local/lib/python3.12/dist-packages (0.17.2)\n",
            "Requirement already satisfied: rustworkx>=0.15.0 in /usr/local/lib/python3.12/dist-packages (from qiskit) (0.17.1)\n",
            "Requirement already satisfied: numpy<3,>=1.17 in /usr/local/lib/python3.12/dist-packages (from qiskit) (2.0.2)\n",
            "Requirement already satisfied: scipy>=1.5 in /usr/local/lib/python3.12/dist-packages (from qiskit) (1.16.2)\n",
            "Requirement already satisfied: dill>=0.3 in /usr/local/lib/python3.12/dist-packages (from qiskit) (0.3.8)\n",
            "Requirement already satisfied: stevedore>=3.0.0 in /usr/local/lib/python3.12/dist-packages (from qiskit) (5.5.0)\n",
            "Requirement already satisfied: typing-extensions in /usr/local/lib/python3.12/dist-packages (from qiskit) (4.15.0)\n",
            "Requirement already satisfied: psutil>=5 in /usr/local/lib/python3.12/dist-packages (from qiskit-aer) (5.9.5)\n",
            "Requirement already satisfied: python-dateutil>=2.8.0 in /usr/local/lib/python3.12/dist-packages (from qiskit-aer) (2.9.0.post0)\n",
            "Requirement already satisfied: six>=1.5 in /usr/local/lib/python3.12/dist-packages (from python-dateutil>=2.8.0->qiskit-aer) (1.17.0)\n"
          ]
        }
      ],
      "source": [
        "!pip install qiskit qiskit-aer --upgrade"
      ]
    },
    {
      "cell_type": "code",
      "source": [
        "from qiskit import QuantumCircuit\n",
        "from qiskit_aer import AerSimulator"
      ],
      "metadata": {
        "id": "cPwE9BV_mBu0"
      },
      "execution_count": 6,
      "outputs": []
    },
    {
      "cell_type": "code",
      "source": [
        "def main():\n",
        "\n",
        "    print(\"\\n--- Task 1: Single Qubit with X Gate ---\")\n",
        "    qc1 = QuantumCircuit(1, 1)\n",
        "    qc1.x(0)  # Apply X gate\n",
        "    qc1.measure(0, 0)\n",
        "\n",
        "    simulator = AerSimulator()\n",
        "    job1 = simulator.run(qc1, shots=100)  # 100 shots\n",
        "    result1 = job1.result()\n",
        "    counts1 = result1.get_counts(qc1)\n",
        "    print(\"Result (1 qubit, X gate):\", counts1)\n",
        "\n",
        "\n",
        "    print(\"\\n--- Task 2: Two Qubits with Hadamard Gates ---\")\n",
        "    qc2 = QuantumCircuit(2, 2)\n",
        "    qc2.h(0)  # Hadamard on qubit 0\n",
        "    qc2.h(1)  # Hadamard on qubit 1\n",
        "    qc2.measure([0, 1], [0, 1])\n",
        "\n",
        "    job2 = simulator.run(qc2, shots=100)\n",
        "    result2 = job2.result()\n",
        "    counts2 = result2.get_counts(qc2)\n",
        "    print(\"Result (2 qubits, Hadamard gates):\", counts2)\n",
        "\n",
        "\n",
        "    print(\"\\n--- Task 3: Two Qubits with X Gates ---\")\n",
        "    qc3 = QuantumCircuit(2, 2)\n",
        "    qc3.x(0)  # X on qubit 0\n",
        "    qc3.x(1)  # X on qubit 1\n",
        "    qc3.measure([0, 1], [0, 1])\n",
        "\n",
        "    job3 = simulator.run(qc3, shots=100)\n",
        "    result3 = job3.result()\n",
        "    counts3 = result3.get_counts(qc3)\n",
        "    print(\"Result (2 qubits, X gates):\", counts3)\n"
      ],
      "metadata": {
        "id": "x5v6DiSamHoQ"
      },
      "execution_count": 7,
      "outputs": []
    },
    {
      "cell_type": "code",
      "source": [
        "if __name__ == \"__main__\":\n",
        "    main()\n",
        ""
      ],
      "metadata": {
        "colab": {
          "base_uri": "https://localhost:8080/"
        },
        "id": "XFGYWiHimKyP",
        "outputId": "e4646e28-5f91-4162-dc58-a7fdaa930e86"
      },
      "execution_count": 8,
      "outputs": [
        {
          "output_type": "stream",
          "name": "stdout",
          "text": [
            "\n",
            "--- Task 1: Single Qubit with X Gate ---\n",
            "Result (1 qubit, X gate): {'1': 100}\n",
            "\n",
            "--- Task 2: Two Qubits with Hadamard Gates ---\n",
            "Result (2 qubits, Hadamard gates): {'01': 27, '10': 27, '00': 23, '11': 23}\n",
            "\n",
            "--- Task 3: Two Qubits with X Gates ---\n",
            "Result (2 qubits, X gates): {'11': 100}\n"
          ]
        }
      ]
    }
  ]
}