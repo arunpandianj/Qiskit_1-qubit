{
  "nbformat": 4,
  "nbformat_minor": 0,
  "metadata": {
    "colab": {
      "provenance": []
    },
    "kernelspec": {
      "name": "python3",
      "display_name": "Python 3"
    },
    "language_info": {
      "name": "python"
    }
  },
  "cells": [
    {
      "cell_type": "code",
      "execution_count": 2,
      "metadata": {
        "colab": {
          "base_uri": "https://localhost:8080/"
        },
        "id": "GD7RgS7ME091",
        "outputId": "33110509-7794-4c16-db30-ab184f457977"
      },
      "outputs": [
        {
          "output_type": "stream",
          "name": "stdout",
          "text": [
            "\n",
            "[Task 1] Single Qubit with Hadamard (100 shots): {'1': 54, '0': 46}\n",
            "\n",
            "[Task 2] Two Qubits with Hadamard (100 shots): {'01': 24, '11': 19, '00': 24, '10': 33}\n",
            "\n",
            "[Task 3] Single Qubit with X Gate (100 shots): {'1': 100}\n"
          ]
        }
      ],
      "source": [
        "# Install Qiskit if not already installed (only in Jupyter/Colab)\n",
        "# !pip install qiskit qiskit-aer --upgrade\n",
        "\n",
        "from qiskit import QuantumCircuit\n",
        "from qiskit_aer import AerSimulator\n",
        "\n",
        "# Create simulator\n",
        "simulator = AerSimulator()\n",
        "\n",
        "# ------------------------------\n",
        "# Task 1: Single Qubit Hadamard (100 shots)\n",
        "# ------------------------------\n",
        "qc1 = QuantumCircuit(1, 1)\n",
        "qc1.h(0)\n",
        "qc1.measure(0, 0)\n",
        "result1 = simulator.run(qc1, shots=100).result()\n",
        "print(\"\\n[Task 1] Single Qubit with Hadamard (100 shots):\", result1.get_counts())\n",
        "\n",
        "# ------------------------------\n",
        "# Task 2: Two Qubits with Hadamard (100 shots)\n",
        "# ------------------------------\n",
        "qc2 = QuantumCircuit(2, 2)\n",
        "qc2.h(0)\n",
        "qc2.h(1)\n",
        "qc2.measure([0, 1], [0, 1])\n",
        "result2 = simulator.run(qc2, shots=100).result()\n",
        "print(\"\\n[Task 2] Two Qubits with Hadamard (100 shots):\", result2.get_counts())\n",
        "\n",
        "# ------------------------------\n",
        "# Task 3: Single Qubit with X Gate (100 shots)\n",
        "# ------------------------------\n",
        "qc3 = QuantumCircuit(1, 1)\n",
        "qc3.x(0)  # Flip |0> to |1>\n",
        "qc3.measure(0, 0)\n",
        "result3 = simulator.run(qc3, shots=100).result()\n",
        "print(\"\\n[Task 3] Single Qubit with X Gate (100 shots):\", result3.get_counts())"
      ]
    }
  ]
}