{
 "cells": [
  {
   "cell_type": "code",
   "execution_count": 80,
   "metadata": {
    "colab": {
     "base_uri": "https://localhost:8080/"
    },
    "executionInfo": {
     "elapsed": 6632,
     "status": "ok",
     "timestamp": 1759317194464,
     "user": {
      "displayName": "LAKSHANA M",
      "userId": "07209142141462173132"
     },
     "user_tz": -330
    },
    "id": "WD10AEOYVGts",
    "outputId": "7d1cfdb8-8c86-4bea-c645-adecd548ba75"
   },
   "outputs": [
    {
     "name": "stdout",
     "output_type": "stream",
     "text": [
      "Requirement already satisfied: qiskit in /usr/local/lib/python3.12/dist-packages (2.2.1)\n",
      "Requirement already satisfied: qiskit-aer in /usr/local/lib/python3.12/dist-packages (0.17.2)\n",
      "Requirement already satisfied: rustworkx>=0.15.0 in /usr/local/lib/python3.12/dist-packages (from qiskit) (0.17.1)\n",
      "Requirement already satisfied: numpy<3,>=1.17 in /usr/local/lib/python3.12/dist-packages (from qiskit) (2.0.2)\n",
      "Requirement already satisfied: scipy>=1.5 in /usr/local/lib/python3.12/dist-packages (from qiskit) (1.16.2)\n",
      "Requirement already satisfied: dill>=0.3 in /usr/local/lib/python3.12/dist-packages (from qiskit) (0.3.8)\n",
      "Requirement already satisfied: stevedore>=3.0.0 in /usr/local/lib/python3.12/dist-packages (from qiskit) (5.5.0)\n",
      "Requirement already satisfied: typing-extensions in /usr/local/lib/python3.12/dist-packages (from qiskit) (4.15.0)\n",
      "Requirement already satisfied: psutil>=5 in /usr/local/lib/python3.12/dist-packages (from qiskit-aer) (5.9.5)\n",
      "Requirement already satisfied: python-dateutil>=2.8.0 in /usr/local/lib/python3.12/dist-packages (from qiskit-aer) (2.9.0.post0)\n",
      "Requirement already satisfied: six>=1.5 in /usr/local/lib/python3.12/dist-packages (from python-dateutil>=2.8.0->qiskit-aer) (1.17.0)\n"
     ]
    }
   ],
   "source": [
    "!pip install qiskit qiskit-aer --upgrade\n"
   ]
  },
  {
   "cell_type": "markdown",
   "metadata": {
    "id": "H7lch8F1hL7s"
   },
   "source": [
    "# New Section"
   ]
  },
  {
   "cell_type": "code",
   "execution_count": 81,
   "metadata": {
    "executionInfo": {
     "elapsed": 14,
     "status": "ok",
     "timestamp": 1759317194464,
     "user": {
      "displayName": "LAKSHANA M",
      "userId": "07209142141462173132"
     },
     "user_tz": -330
    },
    "id": "7ody0aBmWa8_"
   },
   "outputs": [],
   "source": [
    "from qiskit import QuantumCircuit\n",
    "from qiskit_aer import AerSimulator\n"
   ]
  },
  {
   "cell_type": "code",
   "execution_count": 82,
   "metadata": {
    "executionInfo": {
     "elapsed": 13,
     "status": "ok",
     "timestamp": 1759317194464,
     "user": {
      "displayName": "LAKSHANA M",
      "userId": "07209142141462173132"
     },
     "user_tz": -330
    },
    "id": "qglXM3WXdm6q"
   },
   "outputs": [],
   "source": [
    "def main():\n",
    "    # Task 1\n",
    "    # Create a 1-qubit, 1-classical-bit quantum circuit\n",
    "    qc = QuantumCircuit(1, 1)\n",
    "\n",
    "    # Apply Hadamard gate to put the qubit in superposition\n",
    "    qc.h(0)\n",
    "\n",
    "    # Measure the qubit\n",
    "    qc.measure(0, 0)\n",
    "\n",
    "    # Run on QASM simulator\n",
    "    simulator = AerSimulator()      # ✅ Create simulator instance\n",
    "    job = simulator.run(qc, shots=100)  # ✅ Use run() instead of execute()\n",
    "    result = job.result ()\n",
    "    # Get measurement results\n",
    "    counts = result.get_counts(qc)\n",
    "    print(\"Quantum Circuit Result:\", counts)\n",
    "\n",
    "    # Task 2\n",
    "    # Create a 2-qubit, 2-classical-bit quantum circuit\n",
    "    qc2 = QuantumCircuit(2, 2)\n",
    "\n",
    "    # Apply Hadamard gate to put the qubits in superposition\n",
    "    qc2.h([0, 1])\n",
    "\n",
    "    # Measure the qubits\n",
    "    qc2.measure([0, 1], [0, 1])\n",
    "\n",
    "    # Run on QASM simulator\n",
    "    job2 = simulator.run(qc2, shots=10)  # ✅ Use run() instead of execute()\n",
    "    result2 = job2.result()\n",
    "\n",
    "    # Get measurement results\n",
    "    counts2 = result2.get_counts(qc2) # Corrected to use result2\n",
    "    print(\"Quantum Circuit Result (Task 2):\", counts2)\n",
    "\n",
    "    # Task 3\n",
    "    # Create a 1-qubit, 1-classical-bit quantum circuit\n",
    "    qc3 = QuantumCircuit(1, 1)\n",
    "\n",
    "    # Apply X gate\n",
    "    qc3.x(0)\n",
    "\n",
    "    # Measure the qubit\n",
    "    qc3.measure(0, 0)\n",
    "\n",
    "    # Run on QASM simulator\n",
    "    job3 = simulator.run(qc3, shots=10)  # ✅ Use run() instead of execute()\n",
    "    result3 = job3.result()\n",
    "\n",
    "    # Get measurement results\n",
    "    counts3 = result3.get_counts(qc3)\n",
    "    print(\"Quantum Circuit Result (Task 3):\", counts3)"
   ]
  },
  {
   "cell_type": "code",
   "execution_count": 83,
   "metadata": {
    "colab": {
     "base_uri": "https://localhost:8080/"
    },
    "executionInfo": {
     "elapsed": 13,
     "status": "ok",
     "timestamp": 1759317194464,
     "user": {
      "displayName": "LAKSHANA M",
      "userId": "07209142141462173132"
     },
     "user_tz": -330
    },
    "id": "VHDrXQyteU6b",
    "outputId": "96ebedab-4277-4271-b5be-e32fe72e5453"
   },
   "outputs": [
    {
     "name": "stdout",
     "output_type": "stream",
     "text": [
      "Quantum Circuit Result: {'1': 63, '0': 37}\n",
      "Quantum Circuit Result (Task 2): {'01': 1, '11': 3, '10': 3, '00': 3}\n",
      "Quantum Circuit Result (Task 3): {'1': 10}\n"
     ]
    }
   ],
   "source": [
    "if __name__ == \"__main__\":\n",
    "    main()"
   ]
  }
 ],
 "metadata": {
  "colab": {
   "authorship_tag": "ABX9TyPWbqM4o50nN+PNWZ9K3ReE",
   "mount_file_id": "1AlXRV_n7K9k1KH98idJVltztGzcGgzHM",
   "provenance": [],
   "toc_visible": true
  },
  "kernelspec": {
   "display_name": "Python 3",
   "name": "python3"
  },
  "language_info": {
   "name": "python"
  }
 },
 "nbformat": 4,
 "nbformat_minor": 0
}
