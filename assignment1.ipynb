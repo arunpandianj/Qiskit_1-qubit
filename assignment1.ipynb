{
 "cells": [
  {
   "cell_type": "code",
   "execution_count": 23,
   "metadata": {
    "id": "XLnNwi4n767M"
   },
   "outputs": [
    {
     "name": "stdout",
     "output_type": "stream",
     "text": [
      "Requirement already satisfied: qiskit in c:\\users\\hari8\\anaconda3\\lib\\site-packages (2.2.1)\n",
      "Requirement already satisfied: qiskit-aer in c:\\users\\hari8\\anaconda3\\lib\\site-packages (0.17.2)\n",
      "Requirement already satisfied: rustworkx>=0.15.0 in c:\\users\\hari8\\anaconda3\\lib\\site-packages (from qiskit) (0.17.1)\n",
      "Requirement already satisfied: numpy<3,>=1.17 in c:\\users\\hari8\\anaconda3\\lib\\site-packages (from qiskit) (1.26.4)\n",
      "Requirement already satisfied: scipy>=1.5 in c:\\users\\hari8\\anaconda3\\lib\\site-packages (from qiskit) (1.13.1)\n",
      "Requirement already satisfied: dill>=0.3 in c:\\users\\hari8\\anaconda3\\lib\\site-packages (from qiskit) (0.3.8)\n",
      "Requirement already satisfied: stevedore>=3.0.0 in c:\\users\\hari8\\anaconda3\\lib\\site-packages (from qiskit) (5.5.0)\n",
      "Requirement already satisfied: typing-extensions in c:\\users\\hari8\\anaconda3\\lib\\site-packages (from qiskit) (4.11.0)\n",
      "Requirement already satisfied: psutil>=5 in c:\\users\\hari8\\anaconda3\\lib\\site-packages (from qiskit-aer) (5.9.0)\n",
      "Requirement already satisfied: python-dateutil>=2.8.0 in c:\\users\\hari8\\anaconda3\\lib\\site-packages (from qiskit-aer) (2.9.0.post0)\n",
      "Requirement already satisfied: six>=1.5 in c:\\users\\hari8\\anaconda3\\lib\\site-packages (from python-dateutil>=2.8.0->qiskit-aer) (1.16.0)\n"
     ]
    }
   ],
   "source": [
    "!pip install qiskit qiskit-aer --upgrade"
   ]
  },
  {
   "cell_type": "code",
   "execution_count": 24,
   "metadata": {
    "id": "QVSN-Kb77yL_"
   },
   "outputs": [],
   "source": [
    "from qiskit import QuantumCircuit\n",
    "from qiskit_aer import AerSimulator"
   ]
  },
  {
   "cell_type": "code",
   "execution_count": 47,
   "metadata": {
    "id": "CANVVbFR8pgu"
   },
   "outputs": [],
   "source": [
    "from qiskit import QuantumCircuit\n",
    "from qiskit_aer import AerSimulator\n",
    "\n",
    "def task1():\n",
    "    # Task 1: 1 Qubit with Hadamard gate\n",
    "    qc = QuantumCircuit(1, 1)\n",
    "    qc.h(0)\n",
    "    qc.measure(0, 0)\n",
    "\n",
    "    simulator = AerSimulator()\n",
    "    job = simulator.run(qc, shots=100)\n",
    "    result = job.result()\n",
    "    counts = result.get_counts(qc)\n",
    "\n",
    "    print(\"Task 1 (1 Qubit + Hadamard) Result:\", counts)\n",
    "\n",
    "\n",
    "def task2():\n",
    "    # Task 2: 2 Qubits with Hadamard gate\n",
    "    qc = QuantumCircuit(2, 2)\n",
    "    qc.h(0)\n",
    "    qc.h(1)\n",
    "    qc.measure([0, 1], [0, 1])\n",
    "\n",
    "    simulator = AerSimulator()\n",
    "    job = simulator.run(qc, shots=100)\n",
    "    result = job.result()\n",
    "    counts = result.get_counts(qc)\n",
    "\n",
    "    print(\"Task 2 (2 Qubits + Hadamard) Result:\", counts)\n",
    "\n",
    "\n",
    "def task3():\n",
    "    # Task 3: 1 Qubit with X gate\n",
    "    qc = QuantumCircuit(1, 1)\n",
    "    qc.x(0)\n",
    "    qc.measure(0, 0)\n",
    "\n",
    "    simulator = AerSimulator()\n",
    "    job = simulator.run(qc, shots=100)\n",
    "    result = job.result()\n",
    "    counts = result.get_counts(qc)\n",
    "\n",
    "    print(\"Task 3 (1 Qubit + X gate) Result:\", counts)\n",
    "\n",
    "\n",
    "\n",
    "    \n"
   ]
  },
  {
   "cell_type": "code",
   "execution_count": 49,
   "metadata": {
    "id": "sIoRJNFD88Wq"
   },
   "outputs": [
    {
     "name": "stdout",
     "output_type": "stream",
     "text": [
      "22MIS0256\n",
      "Task 1 (1 Qubit + Hadamard) Result: {'0': 56, '1': 44}\n",
      "Task 2 (2 Qubits + Hadamard) Result: {'10': 18, '11': 34, '00': 28, '01': 20}\n",
      "Task 3 (1 Qubit + X gate) Result: {'1': 100}\n"
     ]
    }
   ],
   "source": [
    "if __name__ == \"__main__\":\n",
    "    print(\"22MIS0256\")\n",
    "    task1()\n",
    "    task2()\n",
    "    task3()"
   ]
  },
  {
   "cell_type": "code",
   "execution_count": null,
   "metadata": {},
   "outputs": [],
   "source": []
  }
 ],
 "metadata": {
  "colab": {
   "provenance": []
  },
  "kernelspec": {
   "display_name": "Python [conda env:base] *",
   "language": "python",
   "name": "conda-base-py"
  },
  "language_info": {
   "codemirror_mode": {
    "name": "ipython",
    "version": 3
   },
   "file_extension": ".py",
   "mimetype": "text/x-python",
   "name": "python",
   "nbconvert_exporter": "python",
   "pygments_lexer": "ipython3",
   "version": "3.12.7"
  }
 },
 "nbformat": 4,
 "nbformat_minor": 4
}
