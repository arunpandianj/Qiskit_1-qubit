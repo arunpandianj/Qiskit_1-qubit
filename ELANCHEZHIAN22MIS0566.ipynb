{
  "nbformat": 4,
  "nbformat_minor": 0,
  "metadata": {
    "colab": {
      "provenance": []
    },
    "kernelspec": {
      "name": "python3",
      "display_name": "Python 3"
    },
    "language_info": {
      "name": "python"
    }
  },
  "cells": [
    {
      "cell_type": "code",
      "execution_count": 19,
      "metadata": {
        "colab": {
          "base_uri": "https://localhost:8080/"
        },
        "id": "aaLNZPidTuBH",
        "outputId": "d8927cdd-6d96-4e44-94f9-1c8f8dad3b2c"
      },
      "outputs": [
        {
          "output_type": "stream",
          "name": "stdout",
          "text": [
            "Requirement already satisfied: qiskit in /usr/local/lib/python3.12/dist-packages (2.2.1)\n",
            "Requirement already satisfied: qiskit-aer in /usr/local/lib/python3.12/dist-packages (0.17.2)\n",
            "Requirement already satisfied: rustworkx>=0.15.0 in /usr/local/lib/python3.12/dist-packages (from qiskit) (0.17.1)\n",
            "Requirement already satisfied: numpy<3,>=1.17 in /usr/local/lib/python3.12/dist-packages (from qiskit) (2.0.2)\n",
            "Requirement already satisfied: scipy>=1.5 in /usr/local/lib/python3.12/dist-packages (from qiskit) (1.16.2)\n",
            "Requirement already satisfied: dill>=0.3 in /usr/local/lib/python3.12/dist-packages (from qiskit) (0.3.8)\n",
            "Requirement already satisfied: stevedore>=3.0.0 in /usr/local/lib/python3.12/dist-packages (from qiskit) (5.5.0)\n",
            "Requirement already satisfied: typing-extensions in /usr/local/lib/python3.12/dist-packages (from qiskit) (4.15.0)\n",
            "Requirement already satisfied: psutil>=5 in /usr/local/lib/python3.12/dist-packages (from qiskit-aer) (5.9.5)\n",
            "Requirement already satisfied: python-dateutil>=2.8.0 in /usr/local/lib/python3.12/dist-packages (from qiskit-aer) (2.9.0.post0)\n",
            "Requirement already satisfied: six>=1.5 in /usr/local/lib/python3.12/dist-packages (from python-dateutil>=2.8.0->qiskit-aer) (1.17.0)\n"
          ]
        }
      ],
      "source": [
        "!pip install qiskit qiskit-aer --upgrade"
      ]
    },
    {
      "cell_type": "code",
      "source": [
        "def main():\n",
        "  #Create a 1-qubit, 1-classical-bit quantum circuit\n",
        "  qc = QuantumCircuit(1,1)\n",
        "\n",
        "  #Apply Hadamard gate to put the qubit in superposition\n",
        "  qc.h(0)\n",
        "\n",
        "  #Measure the qubit\n",
        "  qc.measure(0,0)\n",
        "\n",
        "  #Run on QASM simulator\n",
        "  simulator = AerSimulator()\n",
        "  job = simulator.run(qc, shots=100) #Task 1\n",
        "  result = job.result()\n",
        "\n",
        "  #Get measurement results\n",
        "  counts = result.get_counts(qc)\n",
        "  print (\"Task 1\")\n",
        "  print(\"Quantum Circuit Result:\", counts)"
      ],
      "metadata": {
        "id": "tIxOZNoUWG2S"
      },
      "execution_count": 20,
      "outputs": []
    },
    {
      "cell_type": "code",
      "metadata": {
        "id": "f83fddc7"
      },
      "source": [
        "from qiskit import QuantumCircuit\n",
        "from qiskit_aer import AerSimulator"
      ],
      "execution_count": 21,
      "outputs": []
    },
    {
      "cell_type": "code",
      "source": [
        "if __name__ == \"__main__\":\n",
        "  main()"
      ],
      "metadata": {
        "colab": {
          "base_uri": "https://localhost:8080/"
        },
        "id": "F2eCrUPzWsPa",
        "outputId": "c7cedb3e-4858-43ac-de89-75fe222e87c7"
      },
      "execution_count": 22,
      "outputs": [
        {
          "output_type": "stream",
          "name": "stdout",
          "text": [
            "Task 1\n",
            "Quantum Circuit Result: {'1': 47, '0': 53}\n"
          ]
        }
      ]
    },
    {
      "cell_type": "code",
      "metadata": {
        "id": "0c84f25d"
      },
      "source": [
        "simulator = AerSimulator()"
      ],
      "execution_count": 23,
      "outputs": []
    },
    {
      "cell_type": "code",
      "source": [
        "#Task 2\n",
        "qc1= QuantumCircuit(2,2)\n",
        "\n",
        "qc1.h(0)\n",
        "qc1.h(1)\n",
        "\n",
        "qc1.measure(0,0)\n",
        "qc1.measure(1,1)\n",
        "\n",
        "job1 = simulator.run(qc1, shots=100) #Task 2\n",
        "results1 = job1.result()\n",
        "counts1 = results1.get_counts(qc1)\n",
        "print (\"Task 2\")\n",
        "print(\"Quantum Circuit Result of Two qubit on hadamard:\", counts1)"
      ],
      "metadata": {
        "colab": {
          "base_uri": "https://localhost:8080/"
        },
        "id": "sDuh7ptGWs89",
        "outputId": "c87bcf93-d8c2-4644-cc4f-1744bbadc00b"
      },
      "execution_count": 24,
      "outputs": [
        {
          "output_type": "stream",
          "name": "stdout",
          "text": [
            "Task 2\n",
            "Quantum Circuit Result of Two qubit on hadamard: {'01': 27, '11': 20, '00': 35, '10': 18}\n"
          ]
        }
      ]
    },
    {
      "cell_type": "code",
      "source": [
        "#Task 3\n",
        "qc3= QuantumCircuit(1,1)\n",
        "\n",
        "qc3.x(0)\n",
        "\n",
        "qc3.measure(0,0)\n",
        "\n",
        "job2= simulator.run(qc3, shots=100) #Task 3\n",
        "result2 = job2.result()\n",
        "counts2 = result2.get_counts(qc3)\n",
        "print(\"Task 3\")\n",
        "print(\"Quantum Circuit Result of Single qubit on X:\", counts2)"
      ],
      "metadata": {
        "colab": {
          "base_uri": "https://localhost:8080/"
        },
        "id": "CwHhso2XWtOv",
        "outputId": "8a713ca4-530a-4133-d11e-6284b0d6c07e"
      },
      "execution_count": 25,
      "outputs": [
        {
          "output_type": "stream",
          "name": "stdout",
          "text": [
            "Task 3\n",
            "Quantum Circuit Result of Single qubit on X: {'1': 100}\n"
          ]
        }
      ]
    },
    {
      "cell_type": "code",
      "source": [],
      "metadata": {
        "id": "_9uW2wLRWtaw"
      },
      "execution_count": null,
      "outputs": []
    }
  ]
}