{
  "cells": [
    {
      "cell_type": "code",
      "execution_count": 1,
      "metadata": {
        "id": "XLnNwi4n767M"
      },
      "outputs": [
        {
          "name": "stdout",
          "output_type": "stream",
          "text": [
            "Collecting qiskit\n",
            "  Downloading qiskit-2.2.1-cp39-abi3-win_amd64.whl.metadata (13 kB)\n",
            "Collecting qiskit-aer\n",
            "  Downloading qiskit_aer-0.17.2-cp313-cp313-win_amd64.whl.metadata (8.5 kB)\n",
            "Collecting rustworkx>=0.15.0 (from qiskit)\n",
            "  Downloading rustworkx-0.17.1-cp39-abi3-win_amd64.whl.metadata (10 kB)\n",
            "Requirement already satisfied: numpy<3,>=1.17 in c:\\users\\administrator\\appdata\\local\\programs\\python\\python313\\lib\\site-packages (from qiskit) (2.2.4)\n",
            "Collecting scipy>=1.5 (from qiskit)\n",
            "  Using cached scipy-1.16.2-cp313-cp313-win_amd64.whl.metadata (60 kB)\n",
            "Collecting dill>=0.3 (from qiskit)\n",
            "  Downloading dill-0.4.0-py3-none-any.whl.metadata (10 kB)\n",
            "Collecting stevedore>=3.0.0 (from qiskit)\n",
            "  Downloading stevedore-5.5.0-py3-none-any.whl.metadata (2.2 kB)\n",
            "Collecting typing-extensions (from qiskit)\n",
            "  Downloading typing_extensions-4.15.0-py3-none-any.whl.metadata (3.3 kB)\n",
            "Requirement already satisfied: psutil>=5 in c:\\users\\administrator\\appdata\\roaming\\python\\python313\\site-packages (from qiskit-aer) (7.1.0)\n",
            "Requirement already satisfied: python-dateutil>=2.8.0 in c:\\users\\administrator\\appdata\\local\\programs\\python\\python313\\lib\\site-packages (from qiskit-aer) (2.9.0.post0)\n",
            "Requirement already satisfied: six>=1.5 in c:\\users\\administrator\\appdata\\local\\programs\\python\\python313\\lib\\site-packages (from python-dateutil>=2.8.0->qiskit-aer) (1.17.0)\n",
            "Downloading qiskit-2.2.1-cp39-abi3-win_amd64.whl (7.8 MB)\n",
            "   ---------------------------------------- 0.0/7.8 MB ? eta -:--:--\n",
            "   ----------------- ---------------------- 3.4/7.8 MB 20.6 MB/s eta 0:00:01\n",
            "   ---------------------------------------- 7.8/7.8 MB 20.7 MB/s eta 0:00:00\n",
            "Downloading qiskit_aer-0.17.2-cp313-cp313-win_amd64.whl (9.6 MB)\n",
            "   ---------------------------------------- 0.0/9.6 MB ? eta -:--:--\n",
            "   ------------------- -------------------- 4.7/9.6 MB 24.4 MB/s eta 0:00:01\n",
            "   ---------------------------------------  9.4/9.6 MB 24.1 MB/s eta 0:00:01\n",
            "   ---------------------------------------- 9.6/9.6 MB 21.8 MB/s eta 0:00:00\n",
            "Downloading dill-0.4.0-py3-none-any.whl (119 kB)\n",
            "Downloading rustworkx-0.17.1-cp39-abi3-win_amd64.whl (2.1 MB)\n",
            "   ---------------------------------------- 0.0/2.1 MB ? eta -:--:--\n",
            "   ---------------------------------------- 2.1/2.1 MB 19.3 MB/s eta 0:00:00\n",
            "Using cached scipy-1.16.2-cp313-cp313-win_amd64.whl (38.5 MB)\n",
            "Downloading stevedore-5.5.0-py3-none-any.whl (49 kB)\n",
            "Downloading typing_extensions-4.15.0-py3-none-any.whl (44 kB)\n",
            "Installing collected packages: typing-extensions, stevedore, scipy, rustworkx, dill, qiskit, qiskit-aer\n",
            "Successfully installed dill-0.4.0 qiskit-2.2.1 qiskit-aer-0.17.2 rustworkx-0.17.1 scipy-1.16.2 stevedore-5.5.0 typing-extensions-4.15.0\n"
          ]
        },
        {
          "name": "stderr",
          "output_type": "stream",
          "text": [
            "\n",
            "[notice] A new release of pip is available: 24.3.1 -> 25.2\n",
            "[notice] To update, run: python.exe -m pip install --upgrade pip\n"
          ]
        }
      ],
      "source": [
        "!pip install qiskit qiskit-aer --upgrade"
      ]
    },
    {
      "cell_type": "code",
      "execution_count": 2,
      "metadata": {
        "id": "QVSN-Kb77yL_"
      },
      "outputs": [],
      "source": [
        "from qiskit import QuantumCircuit\n",
        "from qiskit_aer import AerSimulator"
      ]
    },
    {
      "cell_type": "code",
      "execution_count": null,
      "metadata": {
        "id": "Pku2cOIo7qdL"
      },
      "outputs": [],
      "source": []
    },
    {
      "cell_type": "code",
      "execution_count": null,
      "metadata": {
        "id": "CANVVbFR8pgu"
      },
      "outputs": [],
      "source": []
    },
    {
      "cell_type": "code",
      "execution_count": 3,
      "metadata": {
        "id": "sIoRJNFD88Wq"
      },
      "outputs": [],
      "source": [
        "def run_all_tasks():\n",
        "    simulator = AerSimulator()\n",
        "\n",
        "    # Task 1: 1 qubit Hadamard, 100 shots\n",
        "    qc1 = QuantumCircuit(1, 1)\n",
        "    qc1.h(0)\n",
        "    qc1.measure(0, 0)\n",
        "    job1 = simulator.run(qc1, shots=100)\n",
        "    counts1 = job1.result().get_counts(qc1)\n",
        "    print(\"Task 1 Result (1 qubit, Hadamard, 100 shots):\", counts1)\n",
        "\n",
        "    # Task 2: 2 qubits Hadamard, 100 shots\n",
        "    qc2 = QuantumCircuit(2, 2)\n",
        "    qc2.h(0)\n",
        "    qc2.h(1)\n",
        "    qc2.measure([0, 1], [0, 1])\n",
        "    job2 = simulator.run(qc2, shots=100)\n",
        "    counts2 = job2.result().get_counts(qc2)\n",
        "    print(\"Task 2 Result (2 qubits, Hadamard, 100 shots):\", counts2)\n",
        "\n",
        "    # Task 3: 1 qubit X gate, 100 shots\n",
        "    qc3 = QuantumCircuit(1, 1)\n",
        "    qc3.x(0)\n",
        "    qc3.measure(0, 0)\n",
        "    job3 = simulator.run(qc3, shots=100)\n",
        "    counts3 = job3.result().get_counts(qc3)\n",
        "    print(\"Task 3 Result (1 qubit, X gate, 100 shots):\", counts3)\n"
      ]
    },
    {
      "cell_type": "code",
      "execution_count": 4,
      "metadata": {},
      "outputs": [
        {
          "name": "stdout",
          "output_type": "stream",
          "text": [
            "Task 1 Result (1 qubit, Hadamard, 100 shots): {'1': 56, '0': 44}\n",
            "Task 2 Result (2 qubits, Hadamard, 100 shots): {'10': 23, '00': 26, '01': 25, '11': 26}\n",
            "Task 3 Result (1 qubit, X gate, 100 shots): {'1': 100}\n"
          ]
        }
      ],
      "source": [
        "if __name__ == \"__main__\":\n",
        "    run_all_tasks()"
      ]
    }
  ],
  "metadata": {
    "colab": {
      "provenance": []
    },
    "kernelspec": {
      "display_name": "Python 3",
      "name": "python3"
    },
    "language_info": {
      "codemirror_mode": {
        "name": "ipython",
        "version": 3
      },
      "file_extension": ".py",
      "mimetype": "text/x-python",
      "name": "python",
      "nbconvert_exporter": "python",
      "pygments_lexer": "ipython3",
      "version": "3.13.1"
    }
  },
  "nbformat": 4,
  "nbformat_minor": 0
}
