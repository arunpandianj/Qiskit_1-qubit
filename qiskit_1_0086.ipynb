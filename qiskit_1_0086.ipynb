{
  "nbformat": 4,
  "nbformat_minor": 0,
  "metadata": {
    "colab": {
      "provenance": []
    },
    "kernelspec": {
      "name": "python3",
      "display_name": "Python 3"
    },
    "language_info": {
      "name": "python"
    }
  },
  "cells": [
    {
      "cell_type": "code",
      "execution_count": 60,
      "metadata": {
        "id": "bLNzgEtR65uz"
      },
      "outputs": [],
      "source": [
        "#!pip install qiskit-aer --upgrade"
      ]
    },
    {
      "cell_type": "code",
      "source": [
        "from qiskit import QuantumCircuit\n",
        "from qiskit_aer import AerSimulator"
      ],
      "metadata": {
        "id": "wydgx-BH7QUT"
      },
      "execution_count": 61,
      "outputs": []
    },
    {
      "cell_type": "code",
      "source": [
        "#Create a 1-qubit, 1-classical-bit quantum circuit\n",
        "qc = QuantumCircuit(1,1)\n",
        "\n",
        "#Apply Hadamard gate to put the qubit in superposition\n",
        "qc.h(0)\n",
        "\n",
        "#Measure the qubit\n",
        "qc.measure(0,0)\n",
        "\n",
        "#Run on QASM simulator\n",
        "simulator = AerSimulator()\n",
        "job = simulator.run(qc, shots = 10)\n",
        "result = job.result()\n",
        "\n",
        "#Print the result\n",
        "counts = result.get_counts(qc)\n",
        "print(\"Quantum Circuit Result of 1st qubit with 10 shots: \", counts)\n",
        "\n",
        "job1 = simulator.run(qc, shots = 100)\n",
        "result1 = job1.result()\n",
        "\n",
        "counts1 = result1.get_counts(qc)\n",
        "print(\"Quantum Circuit Result of 1st qubit with 100 shots: \", counts1)"
      ],
      "metadata": {
        "colab": {
          "base_uri": "https://localhost:8080/"
        },
        "id": "23ln0VjA7XmJ",
        "outputId": "4b5aede5-8f3f-48fa-9471-f3695f0b90f2"
      },
      "execution_count": 62,
      "outputs": [
        {
          "output_type": "stream",
          "name": "stdout",
          "text": [
            "Quantum Circuit Result of 1st qubit with 10 shots:  {'0': 2, '1': 8}\n",
            "Quantum Circuit Result of 1st qubit with 100 shots:  {'0': 48, '1': 52}\n"
          ]
        }
      ]
    },
    {
      "cell_type": "code",
      "source": [
        "qc1 = QuantumCircuit(1,1)\n",
        "\n",
        "qc1.x(0)\n",
        "\n",
        "qc1.measure(0,0)\n",
        "\n",
        "job2 = simulator.run(qc1, shots = 10)\n",
        "result2 = job2.result()\n",
        "\n",
        "counts2 = result2.get_counts(qc1)\n",
        "print(\"Quantum Circuit Result with x gate: \", counts2)"
      ],
      "metadata": {
        "colab": {
          "base_uri": "https://localhost:8080/"
        },
        "id": "WZZyqL_BS5bG",
        "outputId": "beddb485-417d-4772-fcbf-09459dd0ee68"
      },
      "execution_count": 65,
      "outputs": [
        {
          "output_type": "stream",
          "name": "stdout",
          "text": [
            "Quantum Circuit Result with x gate:  {'1': 10}\n"
          ]
        }
      ]
    },
    {
      "cell_type": "code",
      "source": [
        "#qubit\n",
        "qc2 = QuantumCircuit(2,2)\n",
        "\n",
        "qc2.h(0)\n",
        "qc2.h(1)\n",
        "\n",
        "qc2.measure(0,0)\n",
        "qc2.measure(1,1)\n",
        "\n",
        "job3 = simulator.run(qc2, shots = 10)\n",
        "result3 = job3.result()\n",
        "\n",
        "counts3 = result3.get_counts(qc2)\n",
        "print(\"Quantum Circuit Result of 2 qubits with Hadamard gate: \", counts3)"
      ],
      "metadata": {
        "colab": {
          "base_uri": "https://localhost:8080/"
        },
        "id": "lSBCMkmELgcc",
        "outputId": "72c11a20-3dec-485a-bf8f-8a6279bdc4bd"
      },
      "execution_count": 64,
      "outputs": [
        {
          "output_type": "stream",
          "name": "stdout",
          "text": [
            "Quantum Circuit Result of 2 qubits with Hadamard gate:  {'11': 2, '10': 4, '00': 2, '01': 2}\n"
          ]
        }
      ]
    },
    {
      "cell_type": "code",
      "source": [],
      "metadata": {
        "id": "y7ZUJR3N_7Zy"
      },
      "execution_count": 64,
      "outputs": []
    }
  ]
}