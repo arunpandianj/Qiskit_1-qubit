{
  "nbformat": 4,
  "nbformat_minor": 0,
  "metadata": {
    "colab": {
      "provenance": []
    },
    "kernelspec": {
      "name": "python3",
      "display_name": "Python 3"
    },
    "language_info": {
      "name": "python"
    }
  },
  "cells": [
    {
      "cell_type": "code",
      "execution_count": 51,
      "metadata": {
        "colab": {
          "base_uri": "https://localhost:8080/"
        },
        "collapsed": true,
        "id": "Z-IU-3njiTga",
        "outputId": "69c1d64a-8f33-405f-97e8-2e3d7ec5e629"
      },
      "outputs": [
        {
          "output_type": "stream",
          "name": "stdout",
          "text": [
            "Requirement already satisfied: qiskit in /usr/local/lib/python3.12/dist-packages (2.2.1)\n",
            "Requirement already satisfied: qiskit-aer in /usr/local/lib/python3.12/dist-packages (0.17.2)\n",
            "Requirement already satisfied: rustworkx>=0.15.0 in /usr/local/lib/python3.12/dist-packages (from qiskit) (0.17.1)\n",
            "Requirement already satisfied: numpy<3,>=1.17 in /usr/local/lib/python3.12/dist-packages (from qiskit) (2.0.2)\n",
            "Requirement already satisfied: scipy>=1.5 in /usr/local/lib/python3.12/dist-packages (from qiskit) (1.16.2)\n",
            "Requirement already satisfied: dill>=0.3 in /usr/local/lib/python3.12/dist-packages (from qiskit) (0.3.8)\n",
            "Requirement already satisfied: stevedore>=3.0.0 in /usr/local/lib/python3.12/dist-packages (from qiskit) (5.5.0)\n",
            "Requirement already satisfied: typing-extensions in /usr/local/lib/python3.12/dist-packages (from qiskit) (4.15.0)\n",
            "Requirement already satisfied: psutil>=5 in /usr/local/lib/python3.12/dist-packages (from qiskit-aer) (5.9.5)\n",
            "Requirement already satisfied: python-dateutil>=2.8.0 in /usr/local/lib/python3.12/dist-packages (from qiskit-aer) (2.9.0.post0)\n",
            "Requirement already satisfied: six>=1.5 in /usr/local/lib/python3.12/dist-packages (from python-dateutil>=2.8.0->qiskit-aer) (1.17.0)\n"
          ]
        }
      ],
      "source": [
        "!pip install qiskit qiskit-aer --upgrade"
      ]
    },
    {
      "cell_type": "code",
      "source": [
        "from qiskit import QuantumCircuit\n",
        "from qiskit_aer import AerSimulator"
      ],
      "metadata": {
        "id": "aS4ZxW8SjqJ6"
      },
      "execution_count": 52,
      "outputs": []
    },
    {
      "cell_type": "code",
      "source": [
        "def main():\n",
        "   # Task1:\n",
        "    # Create a 1-qubit, 1-classical-bit quantum circuit\n",
        "    qc1 = QuantumCircuit(1, 1)\n",
        "    # Apply Hadamard gate to put the qubit in superposition\n",
        "    qc1.h(0)\n",
        "    qc1.measure(0, 0)\n",
        "\n",
        "    simulator = AerSimulator()\n",
        "    # Change the number of shots to 100 and observe the result.\n",
        "    job1 = simulator.run(qc1, shots=100)\n",
        "    result1 = job1.result()\n",
        "    counts1 = result1.get_counts(qc1)\n",
        "    print(\"Task1(Hadamard,100shots):\", counts1)\n",
        "\n",
        "  # Task2:\n",
        "    # Create a 2-qubit, 2-classical-bit quantum circuit\n",
        "    qc2 = QuantumCircuit(2, 2)\n",
        "    # Apply Hadamard gate to put the qubit in superposition\n",
        "    qc2.h(0)\n",
        "    qc2.h(1)\n",
        "    qc2.measure([0, 1],[0,1])\n",
        "\n",
        "    simulator = AerSimulator()\n",
        "    # Add a second qubit, apply Hadamard gates to both qubits, measure, and print the result.\n",
        "    job2 = simulator.run(qc2, shots=100)\n",
        "    result2 = job2.result()\n",
        "    counts2 = result2.get_counts(qc2)\n",
        "    print(\"Task2(2-qubit,Hadamard,100shots):\", counts2)\n",
        "\n",
        "  # Task3:\n",
        "    # Create a 1-qubit, 1-classical-bit quantum circuit\n",
        "    qc3 = QuantumCircuit(1, 1)\n",
        "    # Replace the Hadamard gate with an X gate and observe how the measurement changes.\n",
        "    qc3.x(0)\n",
        "    qc3.measure(0, 0)\n",
        "\n",
        "    simulator = AerSimulator()\n",
        "\n",
        "    job3 = simulator.run(qc3, shots=100)\n",
        "    result3 = job3.result()\n",
        "    counts3 = result3.get_counts(qc3)\n",
        "    print(\"Task3(X gate,100shots):\", counts3)\n"
      ],
      "metadata": {
        "id": "SHwR9zG3kuZ2"
      },
      "execution_count": 53,
      "outputs": []
    },
    {
      "cell_type": "code",
      "source": [
        "if __name__ == \"__main__\":\n",
        "    main()"
      ],
      "metadata": {
        "colab": {
          "base_uri": "https://localhost:8080/"
        },
        "id": "81wVCh_XlAfq",
        "outputId": "f0c45713-511e-439f-ca18-7b44fe222e16"
      },
      "execution_count": 54,
      "outputs": [
        {
          "output_type": "stream",
          "name": "stdout",
          "text": [
            "Task1(Hadamard,100shots): {'0': 44, '1': 56}\n",
            "Task2(2-qubit,Hadamard,100shots): {'11': 22, '10': 28, '00': 23, '01': 27}\n",
            "Task3(X gate,100shots): {'1': 100}\n"
          ]
        }
      ]
    },
    {
      "cell_type": "code",
      "source": [],
      "metadata": {
        "id": "i6wrlOdClFet"
      },
      "execution_count": 54,
      "outputs": []
    }
  ]
}