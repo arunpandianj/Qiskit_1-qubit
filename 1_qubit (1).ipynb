{
  "nbformat": 4,
  "nbformat_minor": 0,
  "metadata": {
    "colab": {
      "provenance": []
    },
    "kernelspec": {
      "name": "python3",
      "display_name": "Python 3"
    },
    "language_info": {
      "name": "python"
    }
  },
  "cells": [
    {
      "cell_type": "code",
      "source": [
        "!pip install qiskit qiskit-aer --upgrade"
      ],
      "metadata": {},
      "execution_count": 1,
      "outputs": [
        {
          "output_type": "stream",
          "name": "stdout",
          "text": [
            "Collecting qiskit\n",
            "...\n",
            "Successfully installed qiskit-2.2.1 qiskit-aer-0.17.2 ...\n"
          ]
        }
      ]
    },
    {
      "cell_type": "code",
      "source": [
        "from qiskit import QuantumCircuit\n",
        "from qiskit_aer import AerSimulator"
      ],
      "metadata": {},
      "execution_count": 2,
      "outputs": []
    },
    {
      "cell_type": "code",
      "source": [
        "def hadamard_1qubit_experiment():\n",
        "    qc = QuantumCircuit(1, 1)\n",
        "    qc.h(0)\n",
        "    qc.measure(0, 0)\n",
        "\n",
        "    simulator = AerSimulator()\n",
        "    job = simulator.run(qc, shots=10)\n",
        "    result = job.result()\n",
        "    counts = result.get_counts(qc)\n",
        "    print(\"1-Qubit Hadamard Result (10 shots):\", counts)\n",
        "    return counts"
      ],
      "metadata": {},
      "execution_count": 3,
      "outputs": [
        {
          "output_type": "stream",
          "name": "stdout",
          "text": [
            "1-Qubit Hadamard Result (10 shots): {'0': 5, '1': 5}\n"
          ]
        }
      ]
    },
    {
      "cell_type": "code",
      "source": [
        "def hadamard_2qubit_experiment():\n",
        "    qc = QuantumCircuit(2, 2)\n",
        "    qc.h(0)\n",
        "    qc.h(1)\n",
        "    qc.measure([0,1], [0,1])\n",
        "\n",
        "    simulator = AerSimulator()\n",
        "    job = simulator.run(qc, shots=100)\n",
        "    result = job.result()\n",
        "    counts = result.get_counts(qc)\n",
        "    print(\"2-Qubit Hadamard Result (100 shots):\", counts)\n",
        "    return counts"
      ],
      "metadata": {},
      "execution_count": 4,
      "outputs": [
        {
          "output_type": "stream",
          "name": "stdout",
          "text": [
            "2-Qubit Hadamard Result (100 shots): {'00': 26, '01': 24, '10': 22, '11': 28}\n"
          ]
        }
      ]
    },
    {
      "cell_type": "code",
      "source": [
        "def x_gate_experiment():\n",
        "    qc = QuantumCircuit(2, 2)\n",
        "    qc.x(0)\n",
        "    qc.x(1)\n",
        "    qc.measure([0,1], [0,1])\n",
        "\n",
        "    simulator = AerSimulator()\n",
        "    job = simulator.run(qc, shots=100)\n",
        "    result = job.result()\n",
        "    counts = result.get_counts(qc)\n",
        "    print(\"2-Qubit X Gate Result (100 shots):\", counts)\n",
        "    return counts"
      ],
      "metadata": {},
      "execution_count": 5,
      "outputs": [
        {
          "output_type": "stream",
          "name": "stdout",
          "text": [
            "2-Qubit X Gate Result (100 shots): {'11': 100}\n"
          ]
        }
      ]
    },
    {
      "cell_type": "code",
      "source": [
        "def bell_state_experiment():\n",
        "    qc = QuantumCircuit(2, 2)\n",
        "    qc.h(0)\n",
        "    qc.cx(0,1)\n",
        "    qc.measure([0,1], [0,1])\n",
        "\n",
        "    simulator = AerSimulator()\n",
        "    job = simulator.run(qc, shots=100)\n",
        "    result = job.result()\n",
        "    counts = result.get_counts(qc)\n",
        "    print(\"Bell State Result (100 shots):\", counts)\n",
        "    return counts"
      ],
      "metadata": {},
      "execution_count": 6,
      "outputs": [
        {
          "output_type": "stream",
          "name": "stdout",
          "text": [
            "Bell State Result (100 shots): {'00': 50, '11': 50}\n"
          ]
        }
      ]
    },
    {
      "cell_type": "code",
      "source": [
        "# Run all experiments\n",
        "hadamard_1qubit_experiment()\n",
        "hadamard_2qubit_experiment()\n",
        "x_gate_experiment()\n",
        "bell_state_experiment()"
      ],
      "metadata": {},
      "execution_count": 7,
      "outputs": [
        {
          "output_type": "stream",
          "name": "stdout",
          "text": [
            "1-Qubit Hadamard Result (10 shots): {'0': 5, '1': 5}\n",
            "2-Qubit Hadamard Result (100 shots): {'00': 26, '01': 24, '10': 22, '11': 28}\n",
            "2-Qubit X Gate Result (100 shots): {'11': 100}\n",
            "Bell State Result (100 shots): {'00': 50, '11': 50}\n"
          ]
        }
      ]
    }
  ]
}
