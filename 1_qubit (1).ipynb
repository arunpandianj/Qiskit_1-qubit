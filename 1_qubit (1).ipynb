{
  "nbformat": 4,
  "nbformat_minor": 0,
  "metadata": {
    "colab": {
      "provenance": []
    },
    "kernelspec": {
      "name": "python3",
      "display_name": "Python 3"
    },
    "language_info": {
      "name": "python"
    }
  },
  "cells": [
    {
      "cell_type": "code",
      "source": [
        "!pip install qiskit qiskit-aer --upgrade"
      ],
      "metadata": {
        "id": "XLnNwi4n767M",
        "colab": {
          "base_uri": "https://localhost:8080/"
        },
        "outputId": "83309dc2-4414-44a7-b3b2-ccc5e75238fe"
      },
      "execution_count": 18,
      "outputs": [
        {
          "output_type": "stream",
          "name": "stdout",
          "text": [
            "Requirement already satisfied: qiskit in /usr/local/lib/python3.12/dist-packages (2.2.1)\n",
            "Requirement already satisfied: qiskit-aer in /usr/local/lib/python3.12/dist-packages (0.17.2)\n",
            "Requirement already satisfied: rustworkx>=0.15.0 in /usr/local/lib/python3.12/dist-packages (from qiskit) (0.17.1)\n",
            "Requirement already satisfied: numpy<3,>=1.17 in /usr/local/lib/python3.12/dist-packages (from qiskit) (2.0.2)\n",
            "Requirement already satisfied: scipy>=1.5 in /usr/local/lib/python3.12/dist-packages (from qiskit) (1.16.2)\n",
            "Requirement already satisfied: dill>=0.3 in /usr/local/lib/python3.12/dist-packages (from qiskit) (0.3.8)\n",
            "Requirement already satisfied: stevedore>=3.0.0 in /usr/local/lib/python3.12/dist-packages (from qiskit) (5.5.0)\n",
            "Requirement already satisfied: typing-extensions in /usr/local/lib/python3.12/dist-packages (from qiskit) (4.15.0)\n",
            "Requirement already satisfied: psutil>=5 in /usr/local/lib/python3.12/dist-packages (from qiskit-aer) (5.9.5)\n",
            "Requirement already satisfied: python-dateutil>=2.8.0 in /usr/local/lib/python3.12/dist-packages (from qiskit-aer) (2.9.0.post0)\n",
            "Requirement already satisfied: six>=1.5 in /usr/local/lib/python3.12/dist-packages (from python-dateutil>=2.8.0->qiskit-aer) (1.17.0)\n"
          ]
        }
      ]
    },
    {
      "cell_type": "code",
      "source": [
        "from qiskit import QuantumCircuit\n",
        "from qiskit_aer import AerSimulator"
      ],
      "metadata": {
        "id": "QVSN-Kb77yL_"
      },
      "execution_count": 19,
      "outputs": []
    },
    {
      "cell_type": "code",
      "execution_count": 29,
      "metadata": {
        "id": "Pku2cOIo7qdL"
      },
      "outputs": [],
      "source": [
        "from qiskit import QuantumCircuit\n",
        "from qiskit_aer import AerSimulator\n",
        "\n",
        "def run_and_print(qc, shots=100, description=\"\"):\n",
        "    \"\"\"Helper function to run a circuit and print results\"\"\"\n",
        "    simulator = AerSimulator()\n",
        "    job = simulator.run(qc, shots=shots)\n",
        "    result = job.result()\n",
        "    counts = result.get_counts(qc)\n",
        "    print(f\"\\n{description} -> Measurement Results ({shots} shots): {counts}\")\n",
        "\n",
        "def main():\n",
        "    # --- Task 1: 1 qubit with Hadamard gate ---\n",
        "    qc1 = QuantumCircuit(1, 1)\n",
        "    qc1.h(0)\n",
        "    qc1.measure(0, 0)\n",
        "\n",
        "    run_and_print(qc1, shots=10, description=\"1 qubit with H gate\")\n",
        "    run_and_print(qc1, shots=100, description=\"1 qubit with H gate\")\n",
        "\n",
        "    # --- Task 2: 2 qubits with Hadamard gates ---\n",
        "    qc2 = QuantumCircuit(2, 2)\n",
        "    qc2.h(0)\n",
        "    qc2.h(1)\n",
        "    qc2.measure([0, 1], [0, 1])\n",
        "\n",
        "    run_and_print(qc2, shots=100, description=\"2 qubits with H gates\")\n",
        "\n",
        "    # --- Task 3: 2 qubits with X gates ---\n",
        "    qc3 = QuantumCircuit(2, 2)\n",
        "    qc3.x(0)\n",
        "    qc3.x(1)\n",
        "    qc3.measure([0, 1], [0, 1])\n",
        "\n",
        "    run_and_print(qc3, shots=100, description=\"2 qubits with X gates\")\n",
        "\n"
      ]
    },
    {
      "cell_type": "code",
      "source": [
        "if __name__ == \"__main__\":\n",
        "    main()"
      ],
      "metadata": {
        "id": "CANVVbFR8pgu",
        "colab": {
          "base_uri": "https://localhost:8080/"
        },
        "outputId": "2915d9fd-0268-46c7-8d28-4c8897a82bd6"
      },
      "execution_count": 30,
      "outputs": [
        {
          "output_type": "stream",
          "name": "stdout",
          "text": [
            "\n",
            "1 qubit with H gate -> Measurement Results (10 shots): {'0': 5, '1': 5}\n",
            "\n",
            "1 qubit with H gate -> Measurement Results (100 shots): {'0': 44, '1': 56}\n",
            "\n",
            "2 qubits with H gates -> Measurement Results (100 shots): {'01': 28, '00': 24, '10': 22, '11': 26}\n",
            "\n",
            "2 qubits with X gates -> Measurement Results (100 shots): {'11': 100}\n"
          ]
        }
      ]
    },
    {
      "cell_type": "code",
      "source": [
        "#Task_1"
      ],
      "metadata": {
        "id": "sIoRJNFD88Wq"
      },
      "execution_count": 28,
      "outputs": []
    }
  ]
}