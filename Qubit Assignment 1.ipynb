{
  "cells": [
    {
      "cell_type": "code",
      "execution_count": 1,
      "metadata": {
        "id": "XLnNwi4n767M"
      },
      "outputs": [
        {
          "name": "stdout",
          "output_type": "stream",
          "text": [
            "Requirement already satisfied: qiskit in c:\\users\\lenovo\\appdata\\local\\packages\\pythonsoftwarefoundation.python.3.11_qbz5n2kfra8p0\\localcache\\local-packages\\python311\\site-packages (2.2.1)\n",
            "Requirement already satisfied: qiskit-aer in c:\\users\\lenovo\\appdata\\local\\packages\\pythonsoftwarefoundation.python.3.11_qbz5n2kfra8p0\\localcache\\local-packages\\python311\\site-packages (0.17.2)\n",
            "Requirement already satisfied: rustworkx>=0.15.0 in c:\\users\\lenovo\\appdata\\local\\packages\\pythonsoftwarefoundation.python.3.11_qbz5n2kfra8p0\\localcache\\local-packages\\python311\\site-packages (from qiskit) (0.17.1)\n",
            "Requirement already satisfied: numpy<3,>=1.17 in c:\\users\\lenovo\\appdata\\local\\packages\\pythonsoftwarefoundation.python.3.11_qbz5n2kfra8p0\\localcache\\local-packages\\python311\\site-packages (from qiskit) (1.26.4)\n",
            "Requirement already satisfied: scipy>=1.5 in c:\\users\\lenovo\\appdata\\local\\packages\\pythonsoftwarefoundation.python.3.11_qbz5n2kfra8p0\\localcache\\local-packages\\python311\\site-packages (from qiskit) (1.10.1)\n",
            "Requirement already satisfied: dill>=0.3 in c:\\users\\lenovo\\appdata\\local\\packages\\pythonsoftwarefoundation.python.3.11_qbz5n2kfra8p0\\localcache\\local-packages\\python311\\site-packages (from qiskit) (0.4.0)\n",
            "Requirement already satisfied: stevedore>=3.0.0 in c:\\users\\lenovo\\appdata\\local\\packages\\pythonsoftwarefoundation.python.3.11_qbz5n2kfra8p0\\localcache\\local-packages\\python311\\site-packages (from qiskit) (5.5.0)\n",
            "Requirement already satisfied: typing-extensions in c:\\users\\lenovo\\appdata\\local\\packages\\pythonsoftwarefoundation.python.3.11_qbz5n2kfra8p0\\localcache\\local-packages\\python311\\site-packages (from qiskit) (4.15.0)\n",
            "Requirement already satisfied: psutil>=5 in c:\\users\\lenovo\\appdata\\local\\packages\\pythonsoftwarefoundation.python.3.11_qbz5n2kfra8p0\\localcache\\local-packages\\python311\\site-packages (from qiskit-aer) (7.1.0)\n",
            "Requirement already satisfied: python-dateutil>=2.8.0 in c:\\users\\lenovo\\appdata\\local\\packages\\pythonsoftwarefoundation.python.3.11_qbz5n2kfra8p0\\localcache\\local-packages\\python311\\site-packages (from qiskit-aer) (2.9.0.post0)\n",
            "Requirement already satisfied: six>=1.5 in c:\\users\\lenovo\\appdata\\local\\packages\\pythonsoftwarefoundation.python.3.11_qbz5n2kfra8p0\\localcache\\local-packages\\python311\\site-packages (from python-dateutil>=2.8.0->qiskit-aer) (1.17.0)\n"
          ]
        }
      ],
      "source": [
        "!pip install qiskit qiskit-aer --upgrade"
      ]
    },
    {
      "cell_type": "code",
      "execution_count": 2,
      "metadata": {
        "id": "QVSN-Kb77yL_"
      },
      "outputs": [],
      "source": [
        "from qiskit import QuantumCircuit\n",
        "from qiskit_aer import AerSimulator"
      ]
    },
    {
      "cell_type": "code",
      "execution_count": null,
      "metadata": {
        "id": "Pku2cOIo7qdL"
      },
      "outputs": [],
      "source": []
    },
    {
      "cell_type": "code",
      "execution_count": null,
      "metadata": {
        "id": "CANVVbFR8pgu"
      },
      "outputs": [],
      "source": []
    },
    {
      "cell_type": "code",
      "execution_count": 3,
      "metadata": {
        "id": "sIoRJNFD88Wq"
      },
      "outputs": [],
      "source": [
        "def run_all_tasks():\n",
        "    simulator = AerSimulator()\n",
        "\n",
        "    # Task 1: 1 qubit Hadamard, 100 shots\n",
        "    qc1 = QuantumCircuit(1, 1)\n",
        "    qc1.h(0)\n",
        "    qc1.measure(0, 0)\n",
        "    job1 = simulator.run(qc1, shots=100)\n",
        "    counts1 = job1.result().get_counts(qc1)\n",
        "    print(\"Task 1 Result (1 qubit, Hadamard, 100 shots):\", counts1)\n",
        "\n",
        "    # Task 2: 2 qubits Hadamard, 100 shots\n",
        "    qc2 = QuantumCircuit(2, 2)\n",
        "    qc2.h(0)\n",
        "    qc2.h(1)\n",
        "    qc2.measure([0, 1], [0, 1])\n",
        "    job2 = simulator.run(qc2, shots=100)\n",
        "    counts2 = job2.result().get_counts(qc2)\n",
        "    print(\"Task 2 Result (2 qubits, Hadamard, 100 shots):\", counts2)\n",
        "\n",
        "    # Task 3: 1 qubit X gate, 100 shots\n",
        "    qc3 = QuantumCircuit(1, 1)\n",
        "    qc3.x(0)\n",
        "    qc3.measure(0, 0)\n",
        "    job3 = simulator.run(qc3, shots=100)\n",
        "    counts3 = job3.result().get_counts(qc3)\n",
        "    print(\"Task 3 Result (1 qubit, X gate, 100 shots):\", counts3)\n"
      ]
    },
    {
      "cell_type": "code",
      "execution_count": 4,
      "metadata": {},
      "outputs": [
        {
          "name": "stdout",
          "output_type": "stream",
          "text": [
            "Task 1 Result (1 qubit, Hadamard, 100 shots): {'1': 51, '0': 49}\n",
            "Task 2 Result (2 qubits, Hadamard, 100 shots): {'11': 28, '01': 23, '10': 23, '00': 26}\n",
            "Task 3 Result (1 qubit, X gate, 100 shots): {'1': 100}\n"
          ]
        }
      ],
      "source": [
        "if __name__ == \"__main__\":\n",
        "    run_all_tasks()"
      ]
    }
  ],
  "metadata": {
    "colab": {
      "provenance": []
    },
    "kernelspec": {
      "display_name": "Python 3",
      "name": "python3"
    },
    "language_info": {
      "codemirror_mode": {
        "name": "ipython",
        "version": 3
      },
      "file_extension": ".py",
      "mimetype": "text/x-python",
      "name": "python",
      "nbconvert_exporter": "python",
      "pygments_lexer": "ipython3",
      "version": "3.11.9"
    }
  },
  "nbformat": 4,
  "nbformat_minor": 0
}
